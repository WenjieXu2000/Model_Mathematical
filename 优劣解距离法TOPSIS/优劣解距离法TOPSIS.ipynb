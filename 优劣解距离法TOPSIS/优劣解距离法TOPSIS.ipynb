{
 "cells": [
  {
   "cell_type": "code",
   "execution_count": 1,
   "metadata": {},
   "outputs": [],
   "source": [
    "import numpy as np\n",
    "import pandas as pd"
   ]
  },
  {
   "cell_type": "code",
   "execution_count": 1,
   "metadata": {},
   "outputs": [],
   "source": [
    "def entropy_weight(features):\n",
    "    \"\"\"\n",
    "\n",
    "    Entropy method\n",
    "\n",
    "    Args:\n",
    "        features: Features\n",
    "\n",
    "    Returns:\n",
    "        weight: weight coefficient\n",
    "\n",
    "    \"\"\"\n",
    "    features = np.array(features)\n",
    "    proportion = features / features.sum(axis=0)  # normalized\n",
    "    entropy = np.nansum(-proportion * np.log(proportion) / np.log(len(features)),\n",
    "                        axis=0)  # calculate entropy\n",
    "    weight = (1 - entropy) / (1 - entropy).sum()\n",
    "\n",
    "    return weight  # calculation weight coefficient"
   ]
  },
  {
   "cell_type": "code",
   "execution_count": 2,
   "metadata": {},
   "outputs": [],
   "source": [
    "def topsis(data, weight=None):\n",
    "    \"\"\"\n",
    "\n",
    "    TOPSIS algorithm\n",
    "\n",
    "    Args:\n",
    "        data: Features\n",
    "        weight:\n",
    "\n",
    "    Returns:\n",
    "        Result:\n",
    "        Z:\n",
    "        weight:\n",
    "\n",
    "    \"\"\"\n",
    "    # normalized\n",
    "    data = data / np.sqrt((data ** 2).sum())\n",
    "    # best and worst solution\n",
    "    Z = pd.DataFrame([data.min(), data.max()], index=['负理想解', '正理想解'])\n",
    "\n",
    "    weight = entropy_weight(data) if weight is None else np.array(weight)  # distance\n",
    "    Result = data.copy()\n",
    "    Result['正理想解'] = np.sqrt(((data - Z.loc['正理想解']) ** 2 * weight).sum(axis=1))\n",
    "    Result['负理想解'] = np.sqrt(((data - Z.loc['负理想解']) ** 2 * weight).sum(axis=1))\n",
    "\n",
    "    # composite score index\n",
    "    Result['综合得分指数'] = Result['负理想解'] / (Result['负理想解'] + Result['正理想解'])\n",
    "    Result['排序'] = Result.rank(ascending=False)['综合得分指数']\n",
    "\n",
    "    return Result, Z, weight"
   ]
  },
  {
   "cell_type": "code",
   "execution_count": null,
   "metadata": {},
   "outputs": [],
   "source": []
  }
 ],
 "metadata": {
  "kernelspec": {
   "display_name": "Python 3.9.12",
   "language": "python",
   "name": "python3"
  },
  "language_info": {
   "codemirror_mode": {
    "name": "ipython",
    "version": 3
   },
   "file_extension": ".py",
   "mimetype": "text/x-python",
   "name": "python",
   "nbconvert_exporter": "python",
   "pygments_lexer": "ipython3",
   "version": "3.9.12"
  },
  "orig_nbformat": 4,
  "vscode": {
   "interpreter": {
    "hash": "f8b40d688a12481f01eadf7380c47edd8a49484a47dba3db091451640e880c68"
   }
  }
 },
 "nbformat": 4,
 "nbformat_minor": 2
}
