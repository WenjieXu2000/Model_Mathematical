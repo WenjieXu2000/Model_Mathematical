{
 "cells": [
  {
   "cell_type": "markdown",
   "metadata": {},
   "source": [
    "# 时间序列处理\n",
    "## datatime数据转换\n",
    "- Python内置datetime模块提供了各种日期和时间对象。\n",
    "- Pandas可以将datatime对象转换为Timestamp时间戳对象便于进一步处理\n",
    "- Timeseries以及创建了大量用于操作时间序列数据的新功能。"
   ]
  },
  {
   "cell_type": "code",
   "execution_count": 2,
   "metadata": {},
   "outputs": [
    {
     "name": "stdout",
     "output_type": "stream",
     "text": [
      "2022-01-28 00:00:00\n",
      "DatetimeIndex(['2022-01-25', '2022-01-26', '2022-02-25', '2022-02-26'], dtype='datetime64[ns]', freq=None)\n"
     ]
    }
   ],
   "source": [
    "import pandas as pd\n",
    "import datetime\n",
    "import numpy as np\n",
    "\n",
    "# 将datetime转换为Timestamp对象\n",
    "timestamp = pd.to_datetime('20220128')\n",
    "print(timestamp)\n",
    "# pd.to_datetime可以接受不同类型的datetime对象\n",
    "# 多个datetime对象将被将被转换为DatetimeIndex类\n",
    "Date_Index = pd.to_datetime(\n",
    "    ['20220125', '26/01/2022', np.datetime64('2022-02-25'), datetime.datetime(2022, 2, 26)])\n",
    "print(Date_Index)"
   ]
  },
  {
   "cell_type": "markdown",
   "metadata": {},
   "source": [
    "- 创建以时间戳为索引的DataFrame/Series对象"
   ]
  },
  {
   "cell_type": "code",
   "execution_count": 4,
   "metadata": {},
   "outputs": [
    {
     "name": "stdout",
     "output_type": "stream",
     "text": [
      "             0  1\n",
      "2022-01-25   5  3\n",
      "2022-01-26  10  5\n",
      "2022-02-25  15  7\n",
      "2022-02-26  20  9\n",
      "-------\n",
      "2022-01-25     5\n",
      "2022-01-26    10\n",
      "2022-02-25    15\n",
      "2022-02-26    20\n",
      "dtype: int64\n"
     ]
    }
   ],
   "source": [
    "data_dataframe = pd.DataFrame(\n",
    "    [[5, 3], [10, 5], [15, 7], [20, 9]], index=Date_Index)\n",
    "print(data_dataframe)\n",
    "print('-------')\n",
    "data_series = pd.Series([5, 10, 15, 20], index=Date_Index)\n",
    "print(data_series)"
   ]
  },
  {
   "cell_type": "markdown",
   "metadata": {},
   "source": [
    "## 时间序列索引\n",
    "### 位置索引"
   ]
  },
  {
   "cell_type": "code",
   "execution_count": 5,
   "metadata": {},
   "outputs": [
    {
     "name": "stdout",
     "output_type": "stream",
     "text": [
      "0    15\n",
      "1     7\n",
      "Name: 2022-02-25 00:00:00, dtype: int64\n",
      "15\n"
     ]
    }
   ],
   "source": [
    "print(data_dataframe.iloc[2,:])\n",
    "print(data_series[2])"
   ]
  },
  {
   "cell_type": "markdown",
   "metadata": {},
   "source": [
    "### 时间戳(index)索引\n",
    "- 符合被解析的日期格式可以直接输入"
   ]
  },
  {
   "cell_type": "code",
   "execution_count": 4,
   "metadata": {},
   "outputs": [
    {
     "name": "stdout",
     "output_type": "stream",
     "text": [
      "0    5\n",
      "1    3\n",
      "Name: 2022-01-25 00:00:00, dtype: int64\n",
      "0    5\n",
      "1    3\n",
      "Name: 2022-01-25 00:00:00, dtype: int64\n",
      "0    5\n",
      "1    3\n",
      "Name: 2022-01-25 00:00:00, dtype: int64\n",
      "0    5\n",
      "1    3\n",
      "Name: 2022-01-25 00:00:00, dtype: int64\n",
      "5\n"
     ]
    }
   ],
   "source": [
    "print(data_dataframe.loc['2022-01-25'])\n",
    "print(data_dataframe.loc['20220125'])\n",
    "print(data_dataframe.loc['2022.01.25'])\n",
    "print(data_dataframe.loc['2022/01/25'])\n",
    "print(data_series['20220125'])"
   ]
  },
  {
   "cell_type": "markdown",
   "metadata": {},
   "source": [
    "- 可以用指定年或月份操作索引数据"
   ]
  },
  {
   "cell_type": "code",
   "execution_count": 5,
   "metadata": {},
   "outputs": [
    {
     "name": "stdout",
     "output_type": "stream",
     "text": [
      "             0  1\n",
      "2022-01-25   5  3\n",
      "2022-01-26  10  5\n",
      "2022-02-25  15  7\n",
      "2022-02-26  20  9\n",
      "             0  1\n",
      "2022-01-25   5  3\n",
      "2022-01-26  10  5\n"
     ]
    }
   ],
   "source": [
    "print(data_dataframe.loc['2022'])\n",
    "print(data_dataframe.loc['2022-01'])"
   ]
  },
  {
   "cell_type": "markdown",
   "metadata": {},
   "source": [
    "### truncate()方法截取"
   ]
  },
  {
   "cell_type": "code",
   "execution_count": 6,
   "metadata": {},
   "outputs": [
    {
     "name": "stdout",
     "output_type": "stream",
     "text": [
      "             0  1\n",
      "2022-02-25  15  7\n",
      "2022-02-26  20  9\n",
      "             0  1\n",
      "2022-01-25   5  3\n",
      "2022-01-26  10  5\n"
     ]
    }
   ],
   "source": [
    "# 对数据进行重新排序\n",
    "data_dataframe = data_dataframe.sort_index()\n",
    "# 截取指定时间段的数据\n",
    "print(data_dataframe.truncate(before='2022-02-1', after=None, axis=0, copy=True))\n",
    "print(data_dataframe.truncate(before=None, after='2022-02-1', axis=0, copy=True))"
   ]
  },
  {
   "cell_type": "markdown",
   "metadata": {},
   "source": [
    "# 创建时间序列\n",
    "## 创建固定频率的时间序列\n",
    "- DatetimeIndex是用来创建一系列时间点的一种pandas结构"
   ]
  },
  {
   "cell_type": "code",
   "execution_count": 6,
   "metadata": {},
   "outputs": [
    {
     "data": {
      "text/plain": [
       "DatetimeIndex(['2022-01-01 00:00:00', '2022-01-10 16:00:00',\n",
       "               '2022-01-20 08:00:00', '2022-01-30 00:00:00',\n",
       "               '2022-02-08 16:00:00', '2022-02-18 08:00:00',\n",
       "               '2022-02-28 00:00:00'],\n",
       "              dtype='datetime64[ns]', freq=None)"
      ]
     },
     "execution_count": 6,
     "metadata": {},
     "output_type": "execute_result"
    }
   ],
   "source": [
    "datetime_index = pd.date_range(start='2022/01/01', end='2022/02/28',periods=7)\n",
    "datetime_index"
   ]
  },
  {
   "cell_type": "code",
   "execution_count": 7,
   "metadata": {},
   "outputs": [
    {
     "data": {
      "text/plain": [
       "DatetimeIndex(['2022-01-03', '2022-01-04', '2022-01-05', '2022-01-06',\n",
       "               '2022-01-07', '2022-01-10', '2022-01-11', '2022-01-12',\n",
       "               '2022-01-13', '2022-01-14', '2022-01-17', '2022-01-18',\n",
       "               '2022-01-19', '2022-01-20', '2022-01-21', '2022-01-24',\n",
       "               '2022-01-25', '2022-01-26', '2022-01-27', '2022-01-28',\n",
       "               '2022-01-31', '2022-02-01', '2022-02-02', '2022-02-03',\n",
       "               '2022-02-04', '2022-02-07', '2022-02-08', '2022-02-09',\n",
       "               '2022-02-10', '2022-02-11', '2022-02-14', '2022-02-15',\n",
       "               '2022-02-16', '2022-02-17', '2022-02-18', '2022-02-21',\n",
       "               '2022-02-22', '2022-02-23', '2022-02-24', '2022-02-25',\n",
       "               '2022-02-28'],\n",
       "              dtype='datetime64[ns]', freq='B')"
      ]
     },
     "execution_count": 7,
     "metadata": {},
     "output_type": "execute_result"
    }
   ],
   "source": [
    "datetime_index = pd.date_range(start='2022/01/01', end='2022/02/28',freq='B')\n",
    "datetime_index"
   ]
  },
  {
   "cell_type": "markdown",
   "metadata": {},
   "source": [
    "### 指定时间序列频率与偏移量\n",
    "- `pandas.tseries.offsets`模块"
   ]
  },
  {
   "cell_type": "code",
   "execution_count": 8,
   "metadata": {},
   "outputs": [
    {
     "data": {
      "text/plain": [
       "DatetimeIndex(['2022-01-01 00:00:00', '2022-01-08 07:00:00',\n",
       "               '2022-01-15 14:00:00', '2022-01-22 21:00:00',\n",
       "               '2022-01-30 04:00:00'],\n",
       "              dtype='datetime64[ns]', freq='175H')"
      ]
     },
     "execution_count": 8,
     "metadata": {},
     "output_type": "execute_result"
    }
   ],
   "source": [
    "from pandas.tseries.offsets import *\n",
    "# 生成日期偏移量\n",
    "date_offset  = Week(1) + Hour(7)\n",
    "pd.date_range('2022/1/1', '2022/1/31', freq=date_offset)"
   ]
  },
  {
   "cell_type": "markdown",
   "metadata": {},
   "source": [
    "## 创建标准的时间段或时期\n",
    "- PeriodIndex是用来创建一系列时间段的pandas结构"
   ]
  },
  {
   "cell_type": "code",
   "execution_count": 10,
   "metadata": {},
   "outputs": [
    {
     "data": {
      "text/plain": [
       "Period('2022', 'A-DEC')"
      ]
     },
     "execution_count": 10,
     "metadata": {},
     "output_type": "execute_result"
    }
   ],
   "source": [
    "# 创建Period对象，表示从2022-01-01到2022-12-31之间的时间段\n",
    "period = pd.Period('2022')\n",
    "period"
   ]
  },
  {
   "cell_type": "code",
   "execution_count": 11,
   "metadata": {},
   "outputs": [
    {
     "data": {
      "text/plain": [
       "Period('2022-01', 'M')"
      ]
     },
     "execution_count": 11,
     "metadata": {},
     "output_type": "execute_result"
    }
   ],
   "source": [
    "# 表示从2022-01-01到2022-01-30之间的整月时间\n",
    "period = pd.Period('2022/1')\n",
    "period"
   ]
  },
  {
   "cell_type": "markdown",
   "metadata": {},
   "source": [
    "- Period对象可进行数学运算"
   ]
  },
  {
   "cell_type": "code",
   "execution_count": 12,
   "metadata": {},
   "outputs": [
    {
     "data": {
      "text/plain": [
       "Period('2022-02', 'M')"
      ]
     },
     "execution_count": 12,
     "metadata": {},
     "output_type": "execute_result"
    }
   ],
   "source": [
    "period + 1   # Period对象加上一个整数"
   ]
  },
  {
   "cell_type": "markdown",
   "metadata": {},
   "source": [
    "- 创建多个Period对象"
   ]
  },
  {
   "cell_type": "code",
   "execution_count": 13,
   "metadata": {},
   "outputs": [
    {
     "data": {
      "text/plain": [
       "PeriodIndex(['2022-01', '2022-02', '2022-03', '2022-04', '2022-05', '2022-06'], dtype='period[M]')"
      ]
     },
     "execution_count": 13,
     "metadata": {},
     "output_type": "execute_result"
    }
   ],
   "source": [
    "period_index = pd.period_range('2022-01-01', '2022-06-30', freq='M')\n",
    "period_index"
   ]
  },
  {
   "cell_type": "markdown",
   "metadata": {},
   "source": [
    "- 时间频率转换"
   ]
  },
  {
   "cell_type": "code",
   "execution_count": 14,
   "metadata": {},
   "outputs": [
    {
     "data": {
      "text/plain": [
       "Period('2022-01', 'M')"
      ]
     },
     "execution_count": 14,
     "metadata": {},
     "output_type": "execute_result"
    }
   ],
   "source": [
    "period = pd.Period('2022', freq='A-DEC')\n",
    "period.asfreq('M', how='start')"
   ]
  },
  {
   "cell_type": "markdown",
   "metadata": {},
   "source": [
    "### 时间序列的移动"
   ]
  },
  {
   "cell_type": "code",
   "execution_count": 15,
   "metadata": {},
   "outputs": [
    {
     "name": "stdout",
     "output_type": "stream",
     "text": [
      "2022-01-01    1\n",
      "2022-01-02    2\n",
      "2022-01-03    3\n",
      "2022-01-04    4\n",
      "2022-01-05    5\n",
      "Freq: D, dtype: int32\n",
      "------------\n",
      "2022-01-01    NaN\n",
      "2022-01-02    1.0\n",
      "2022-01-03    2.0\n",
      "2022-01-04    3.0\n",
      "2022-01-05    4.0\n",
      "Freq: D, dtype: float64\n",
      "------------\n",
      "2022-01-01    2.0\n",
      "2022-01-02    3.0\n",
      "2022-01-03    4.0\n",
      "2022-01-04    5.0\n",
      "2022-01-05    NaN\n",
      "Freq: D, dtype: float64\n"
     ]
    }
   ],
   "source": [
    "date_index = pd.date_range('2022/01/01', periods=5)\n",
    "time_series = pd.Series(np.arange(5) + 1, index=date_index)\n",
    "print(time_series)\n",
    "print('------------')\n",
    "# 向后移动一次\n",
    "print(time_series.shift(1))\n",
    "print('------------')\n",
    "# 向前移动一次\n",
    "print(time_series.shift(-1))"
   ]
  },
  {
   "cell_type": "markdown",
   "metadata": {},
   "source": [
    "# 时间序列重采样\n",
    "## 重采样(Resample)\n",
    "- `resample(rule, how=None, axis=0, fill_method=None, closed=None, label=None, ...)`"
   ]
  },
  {
   "cell_type": "code",
   "execution_count": 47,
   "metadata": {},
   "outputs": [
    {
     "data": {
      "text/plain": [
       "2022-01-01     0\n",
       "2022-01-02     1\n",
       "2022-01-03     2\n",
       "2022-01-04     3\n",
       "2022-01-05     4\n",
       "2022-01-06     5\n",
       "2022-01-07     6\n",
       "2022-01-08     7\n",
       "2022-01-09     8\n",
       "2022-01-10     9\n",
       "2022-01-11    10\n",
       "2022-01-12    11\n",
       "2022-01-13    12\n",
       "2022-01-14    13\n",
       "2022-01-15    14\n",
       "2022-01-16    15\n",
       "2022-01-17    16\n",
       "2022-01-18    17\n",
       "2022-01-19    18\n",
       "2022-01-20    19\n",
       "2022-01-21    20\n",
       "2022-01-22    21\n",
       "2022-01-23    22\n",
       "2022-01-24    23\n",
       "2022-01-25    24\n",
       "2022-01-26    25\n",
       "2022-01-27    26\n",
       "2022-01-28    27\n",
       "2022-01-29    28\n",
       "2022-01-30    29\n",
       "Freq: D, dtype: int32"
      ]
     },
     "execution_count": 47,
     "metadata": {},
     "output_type": "execute_result"
    }
   ],
   "source": [
    "date_index = pd.date_range('2022-01-01', periods=30)\n",
    "time_series = pd.Series(np.arange(30), index=date_index)\n",
    "time_series"
   ]
  },
  {
   "cell_type": "code",
   "execution_count": 16,
   "metadata": {},
   "outputs": [
    {
     "data": {
      "text/plain": [
       "2022-01-03    2.0\n",
       "2022-01-10    4.5\n",
       "Freq: W-MON, dtype: float64"
      ]
     },
     "execution_count": 16,
     "metadata": {},
     "output_type": "execute_result"
    }
   ],
   "source": [
    "time_series.resample('W-MON').mean()"
   ]
  },
  {
   "cell_type": "markdown",
   "metadata": {},
   "source": [
    "## 降采样\n",
    "- 降采样时间颗粒会变大，数据量是减少的。为了避免有些时间戳对应的数据闲置，可以利用内置方法聚合数据。"
   ]
  },
  {
   "cell_type": "code",
   "execution_count": 18,
   "metadata": {},
   "outputs": [
    {
     "data": {
      "text/plain": [
       "2022-01-01    0.287226\n",
       "2022-01-02    0.070997\n",
       "2022-01-03    0.015629\n",
       "2022-01-04    0.353049\n",
       "2022-01-05    0.920042\n",
       "2022-01-06    0.954029\n",
       "2022-01-07    0.507950\n",
       "2022-01-08    0.113134\n",
       "2022-01-09    0.224114\n",
       "2022-01-10    0.608809\n",
       "2022-01-11    0.102250\n",
       "2022-01-12    0.029876\n",
       "2022-01-13    0.423654\n",
       "2022-01-14    0.467375\n",
       "2022-01-15    0.713449\n",
       "2022-01-16    0.649604\n",
       "2022-01-17    0.240806\n",
       "2022-01-18    0.635127\n",
       "2022-01-19    0.327515\n",
       "2022-01-20    0.976953\n",
       "2022-01-21    0.061738\n",
       "2022-01-22    0.225364\n",
       "2022-01-23    0.569940\n",
       "2022-01-24    0.317142\n",
       "2022-01-25    0.598118\n",
       "2022-01-26    0.089467\n",
       "2022-01-27    0.745914\n",
       "2022-01-28    0.555987\n",
       "2022-01-29    0.597181\n",
       "2022-01-30    0.516829\n",
       "Freq: D, dtype: float64"
      ]
     },
     "execution_count": 18,
     "metadata": {},
     "output_type": "execute_result"
    }
   ],
   "source": [
    "date_index = pd.date_range('2022/01/01', periods=30)\n",
    "shares_data = np.random.rand(30)\n",
    "time_ser = pd.Series(shares_data, index=date_index)\n",
    "time_ser"
   ]
  },
  {
   "cell_type": "code",
   "execution_count": 19,
   "metadata": {},
   "outputs": [
    {
     "data": {
      "text/html": [
       "<div>\n",
       "<style scoped>\n",
       "    .dataframe tbody tr th:only-of-type {\n",
       "        vertical-align: middle;\n",
       "    }\n",
       "\n",
       "    .dataframe tbody tr th {\n",
       "        vertical-align: top;\n",
       "    }\n",
       "\n",
       "    .dataframe thead th {\n",
       "        text-align: right;\n",
       "    }\n",
       "</style>\n",
       "<table border=\"1\" class=\"dataframe\">\n",
       "  <thead>\n",
       "    <tr style=\"text-align: right;\">\n",
       "      <th></th>\n",
       "      <th>open</th>\n",
       "      <th>high</th>\n",
       "      <th>low</th>\n",
       "      <th>close</th>\n",
       "    </tr>\n",
       "  </thead>\n",
       "  <tbody>\n",
       "    <tr>\n",
       "      <th>2022-01-01</th>\n",
       "      <td>0.287226</td>\n",
       "      <td>0.954029</td>\n",
       "      <td>0.015629</td>\n",
       "      <td>0.507950</td>\n",
       "    </tr>\n",
       "    <tr>\n",
       "      <th>2022-01-08</th>\n",
       "      <td>0.113134</td>\n",
       "      <td>0.608809</td>\n",
       "      <td>0.029876</td>\n",
       "      <td>0.467375</td>\n",
       "    </tr>\n",
       "    <tr>\n",
       "      <th>2022-01-15</th>\n",
       "      <td>0.713449</td>\n",
       "      <td>0.976953</td>\n",
       "      <td>0.061738</td>\n",
       "      <td>0.061738</td>\n",
       "    </tr>\n",
       "    <tr>\n",
       "      <th>2022-01-22</th>\n",
       "      <td>0.225364</td>\n",
       "      <td>0.745914</td>\n",
       "      <td>0.089467</td>\n",
       "      <td>0.555987</td>\n",
       "    </tr>\n",
       "    <tr>\n",
       "      <th>2022-01-29</th>\n",
       "      <td>0.597181</td>\n",
       "      <td>0.597181</td>\n",
       "      <td>0.516829</td>\n",
       "      <td>0.516829</td>\n",
       "    </tr>\n",
       "  </tbody>\n",
       "</table>\n",
       "</div>"
      ],
      "text/plain": [
       "                open      high       low     close\n",
       "2022-01-01  0.287226  0.954029  0.015629  0.507950\n",
       "2022-01-08  0.113134  0.608809  0.029876  0.467375\n",
       "2022-01-15  0.713449  0.976953  0.061738  0.061738\n",
       "2022-01-22  0.225364  0.745914  0.089467  0.555987\n",
       "2022-01-29  0.597181  0.597181  0.516829  0.516829"
      ]
     },
     "execution_count": 19,
     "metadata": {},
     "output_type": "execute_result"
    }
   ],
   "source": [
    "time_ser.resample('7D').ohlc()  # OHLC重采样"
   ]
  },
  {
   "cell_type": "markdown",
   "metadata": {},
   "source": [
    "## 升采样\n",
    "- 升采样的时间颗粒是变小的，数据量会增多，这很有可能导致某些时间戳没有相应的数据\n",
    "- 常用的解决办法为插值"
   ]
  },
  {
   "cell_type": "code",
   "execution_count": 20,
   "metadata": {},
   "outputs": [
    {
     "data": {
      "text/html": [
       "<div>\n",
       "<style scoped>\n",
       "    .dataframe tbody tr th:only-of-type {\n",
       "        vertical-align: middle;\n",
       "    }\n",
       "\n",
       "    .dataframe tbody tr th {\n",
       "        vertical-align: top;\n",
       "    }\n",
       "\n",
       "    .dataframe thead th {\n",
       "        text-align: right;\n",
       "    }\n",
       "</style>\n",
       "<table border=\"1\" class=\"dataframe\">\n",
       "  <thead>\n",
       "    <tr style=\"text-align: right;\">\n",
       "      <th></th>\n",
       "      <th>A产品</th>\n",
       "      <th>B产品</th>\n",
       "      <th>C产品</th>\n",
       "    </tr>\n",
       "  </thead>\n",
       "  <tbody>\n",
       "    <tr>\n",
       "      <th>2018-06-10</th>\n",
       "      <td>101</td>\n",
       "      <td>210</td>\n",
       "      <td>150</td>\n",
       "    </tr>\n",
       "    <tr>\n",
       "      <th>2018-06-17</th>\n",
       "      <td>330</td>\n",
       "      <td>460</td>\n",
       "      <td>580</td>\n",
       "    </tr>\n",
       "  </tbody>\n",
       "</table>\n",
       "</div>"
      ],
      "text/plain": [
       "            A产品  B产品  C产品\n",
       "2018-06-10  101  210  150\n",
       "2018-06-17  330  460  580"
      ]
     },
     "execution_count": 20,
     "metadata": {},
     "output_type": "execute_result"
    }
   ],
   "source": [
    "data_demo = np.array([['101', '210', '150'], ['330', '460', '580']])\n",
    "date_index = pd.date_range('2018/06/10', periods=2, freq='W-SUN')\n",
    "time_df = pd.DataFrame(data_demo, index=date_index, \n",
    "columns=['A产品', 'B产品', 'C产品'])\n",
    "time_df"
   ]
  },
  {
   "cell_type": "code",
   "execution_count": 21,
   "metadata": {},
   "outputs": [
    {
     "data": {
      "text/html": [
       "<div>\n",
       "<style scoped>\n",
       "    .dataframe tbody tr th:only-of-type {\n",
       "        vertical-align: middle;\n",
       "    }\n",
       "\n",
       "    .dataframe tbody tr th {\n",
       "        vertical-align: top;\n",
       "    }\n",
       "\n",
       "    .dataframe thead th {\n",
       "        text-align: right;\n",
       "    }\n",
       "</style>\n",
       "<table border=\"1\" class=\"dataframe\">\n",
       "  <thead>\n",
       "    <tr style=\"text-align: right;\">\n",
       "      <th></th>\n",
       "      <th>A产品</th>\n",
       "      <th>B产品</th>\n",
       "      <th>C产品</th>\n",
       "    </tr>\n",
       "  </thead>\n",
       "  <tbody>\n",
       "    <tr>\n",
       "      <th>2018-06-10</th>\n",
       "      <td>101</td>\n",
       "      <td>210</td>\n",
       "      <td>150</td>\n",
       "    </tr>\n",
       "    <tr>\n",
       "      <th>2018-06-11</th>\n",
       "      <td>NaN</td>\n",
       "      <td>NaN</td>\n",
       "      <td>NaN</td>\n",
       "    </tr>\n",
       "    <tr>\n",
       "      <th>2018-06-12</th>\n",
       "      <td>NaN</td>\n",
       "      <td>NaN</td>\n",
       "      <td>NaN</td>\n",
       "    </tr>\n",
       "    <tr>\n",
       "      <th>2018-06-13</th>\n",
       "      <td>NaN</td>\n",
       "      <td>NaN</td>\n",
       "      <td>NaN</td>\n",
       "    </tr>\n",
       "    <tr>\n",
       "      <th>2018-06-14</th>\n",
       "      <td>NaN</td>\n",
       "      <td>NaN</td>\n",
       "      <td>NaN</td>\n",
       "    </tr>\n",
       "    <tr>\n",
       "      <th>2018-06-15</th>\n",
       "      <td>NaN</td>\n",
       "      <td>NaN</td>\n",
       "      <td>NaN</td>\n",
       "    </tr>\n",
       "    <tr>\n",
       "      <th>2018-06-16</th>\n",
       "      <td>NaN</td>\n",
       "      <td>NaN</td>\n",
       "      <td>NaN</td>\n",
       "    </tr>\n",
       "    <tr>\n",
       "      <th>2018-06-17</th>\n",
       "      <td>330</td>\n",
       "      <td>460</td>\n",
       "      <td>580</td>\n",
       "    </tr>\n",
       "  </tbody>\n",
       "</table>\n",
       "</div>"
      ],
      "text/plain": [
       "            A产品  B产品  C产品\n",
       "2018-06-10  101  210  150\n",
       "2018-06-11  NaN  NaN  NaN\n",
       "2018-06-12  NaN  NaN  NaN\n",
       "2018-06-13  NaN  NaN  NaN\n",
       "2018-06-14  NaN  NaN  NaN\n",
       "2018-06-15  NaN  NaN  NaN\n",
       "2018-06-16  NaN  NaN  NaN\n",
       "2018-06-17  330  460  580"
      ]
     },
     "execution_count": 21,
     "metadata": {},
     "output_type": "execute_result"
    }
   ],
   "source": [
    "time_df.resample('D').asfreq()"
   ]
  },
  {
   "cell_type": "code",
   "execution_count": 58,
   "metadata": {},
   "outputs": [
    {
     "data": {
      "text/html": [
       "<div>\n",
       "<style scoped>\n",
       "    .dataframe tbody tr th:only-of-type {\n",
       "        vertical-align: middle;\n",
       "    }\n",
       "\n",
       "    .dataframe tbody tr th {\n",
       "        vertical-align: top;\n",
       "    }\n",
       "\n",
       "    .dataframe thead th {\n",
       "        text-align: right;\n",
       "    }\n",
       "</style>\n",
       "<table border=\"1\" class=\"dataframe\">\n",
       "  <thead>\n",
       "    <tr style=\"text-align: right;\">\n",
       "      <th></th>\n",
       "      <th>A产品</th>\n",
       "      <th>B产品</th>\n",
       "      <th>C产品</th>\n",
       "    </tr>\n",
       "  </thead>\n",
       "  <tbody>\n",
       "    <tr>\n",
       "      <th>2018-06-10</th>\n",
       "      <td>101</td>\n",
       "      <td>210</td>\n",
       "      <td>150</td>\n",
       "    </tr>\n",
       "    <tr>\n",
       "      <th>2018-06-11</th>\n",
       "      <td>101</td>\n",
       "      <td>210</td>\n",
       "      <td>150</td>\n",
       "    </tr>\n",
       "    <tr>\n",
       "      <th>2018-06-12</th>\n",
       "      <td>101</td>\n",
       "      <td>210</td>\n",
       "      <td>150</td>\n",
       "    </tr>\n",
       "    <tr>\n",
       "      <th>2018-06-13</th>\n",
       "      <td>101</td>\n",
       "      <td>210</td>\n",
       "      <td>150</td>\n",
       "    </tr>\n",
       "    <tr>\n",
       "      <th>2018-06-14</th>\n",
       "      <td>101</td>\n",
       "      <td>210</td>\n",
       "      <td>150</td>\n",
       "    </tr>\n",
       "    <tr>\n",
       "      <th>2018-06-15</th>\n",
       "      <td>101</td>\n",
       "      <td>210</td>\n",
       "      <td>150</td>\n",
       "    </tr>\n",
       "    <tr>\n",
       "      <th>2018-06-16</th>\n",
       "      <td>101</td>\n",
       "      <td>210</td>\n",
       "      <td>150</td>\n",
       "    </tr>\n",
       "    <tr>\n",
       "      <th>2018-06-17</th>\n",
       "      <td>330</td>\n",
       "      <td>460</td>\n",
       "      <td>580</td>\n",
       "    </tr>\n",
       "  </tbody>\n",
       "</table>\n",
       "</div>"
      ],
      "text/plain": [
       "            A产品  B产品  C产品\n",
       "2018-06-10  101  210  150\n",
       "2018-06-11  101  210  150\n",
       "2018-06-12  101  210  150\n",
       "2018-06-13  101  210  150\n",
       "2018-06-14  101  210  150\n",
       "2018-06-15  101  210  150\n",
       "2018-06-16  101  210  150\n",
       "2018-06-17  330  460  580"
      ]
     },
     "execution_count": 58,
     "metadata": {},
     "output_type": "execute_result"
    }
   ],
   "source": [
    "time_df.resample('D').ffill()"
   ]
  },
  {
   "cell_type": "markdown",
   "metadata": {},
   "source": [
    "# 滑动窗口\n",
    "- 根据指定的单位长度来框住时间序列，从而计算框内的统计指标。\n",
    "- 移动窗口就是窗口向一端滑行，每次滑行并不是区间整块的滑行，而是一个单位一个单位的滑行。\n",
    "- Pandas中窗口方法`rolling()`"
   ]
  },
  {
   "cell_type": "code",
   "execution_count": 59,
   "metadata": {},
   "outputs": [
    {
     "data": {
      "text/plain": [
       "2017-01-01    0.727328\n",
       "2017-01-02    0.128461\n",
       "2017-01-03    0.753354\n",
       "2017-01-04   -0.242649\n",
       "2017-01-05    0.375491\n",
       "Freq: D, dtype: float64"
      ]
     },
     "execution_count": 59,
     "metadata": {},
     "output_type": "execute_result"
    }
   ],
   "source": [
    "year_data = np.random.randn(365)\n",
    "date_index = pd.date_range('2017-01-01', '2017-12-31', freq='D')\n",
    "ser = pd.Series(year_data, date_index)\n",
    "ser.head()"
   ]
  },
  {
   "cell_type": "code",
   "execution_count": 60,
   "metadata": {},
   "outputs": [
    {
     "data": {
      "text/plain": [
       "Rolling [window=10,center=False,axis=0,method=single]"
      ]
     },
     "execution_count": 60,
     "metadata": {},
     "output_type": "execute_result"
    }
   ],
   "source": [
    "roll_window = ser.rolling(window=10)\n",
    "roll_window"
   ]
  },
  {
   "cell_type": "code",
   "execution_count": 61,
   "metadata": {},
   "outputs": [
    {
     "data": {
      "text/plain": [
       "2017-01-01         NaN\n",
       "2017-01-02         NaN\n",
       "2017-01-03         NaN\n",
       "2017-01-04         NaN\n",
       "2017-01-05         NaN\n",
       "                ...   \n",
       "2017-12-27   -0.336672\n",
       "2017-12-28   -0.458021\n",
       "2017-12-29   -0.517313\n",
       "2017-12-30   -0.670851\n",
       "2017-12-31   -0.751877\n",
       "Freq: D, Length: 365, dtype: float64"
      ]
     },
     "execution_count": 61,
     "metadata": {},
     "output_type": "execute_result"
    }
   ],
   "source": [
    "roll_window.mean()"
   ]
  },
  {
   "cell_type": "code",
   "execution_count": 68,
   "metadata": {},
   "outputs": [
    {
     "data": {
      "text/plain": [
       "[<matplotlib.lines.Line2D at 0x261bf22dee0>]"
      ]
     },
     "execution_count": 68,
     "metadata": {},
     "output_type": "execute_result"
    },
    {
     "data": {
      "image/png": "[encoded data removed]",
      "text/plain": [
       "<Figure size 432x288 with 1 Axes>"
      ]
     },
     "metadata": {
      "needs_background": "light"
     },
     "output_type": "display_data"
    }
   ],
   "source": [
    "import matplotlib.pyplot as plt\n",
    "\n",
    "plt.plot(ser, '--')\n",
    "ser_window = ser.rolling(window=10).mean()\n",
    "plt.plot(ser_window)"
   ]
  },
  {
   "cell_type": "markdown",
   "metadata": {},
   "source": [
    "# 参考来源\n",
    "1. [How to handle time series data with ease](https://pandas.pydata.org/docs/getting_started/intro_tutorials/09_timeseries.html?highlight=datetime)\n",
    "2. [时间序列总结](https://mp.weixin.qq.com/s/crNLs-sn95RUP4ViDkzvqA)"
   ]
  }
 ],
 "metadata": {
  "interpreter": {
   "hash": "b3ba2566441a7c06988d0923437866b63cedc61552a5af99d1f4fb67d367b25f"
  },
  "kernelspec": {
   "display_name": "Python 3.8.12 64-bit ('base': conda)",
   "language": "python",
   "name": "python3"
  },
  "language_info": {
   "codemirror_mode": {
    "name": "ipython",
    "version": 3
   },
   "file_extension": ".py",
   "mimetype": "text/x-python",
   "name": "python",
   "nbconvert_exporter": "python",
   "pygments_lexer": "ipython3",
   "version": "3.8.12"
  },
  "orig_nbformat": 4
 },
 "nbformat": 4,
 "nbformat_minor": 2
}
