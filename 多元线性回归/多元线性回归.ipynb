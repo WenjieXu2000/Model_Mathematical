{
 "cells": [
  {
   "cell_type": "code",
   "execution_count": 2,
   "metadata": {
    "ExecuteTime": {
     "end_time": "2021-12-13T17:23:03.561402Z",
     "start_time": "2021-12-13T17:23:01.493403Z"
    }
   },
   "outputs": [],
   "source": [
    "import pandas as pd\n",
    "import numpy as np\n",
    "import matplotlib.pyplot as plt\n",
    "import statsmodels.api as sm\n",
    "from patsy import dmatrices"
   ]
  },
  {
   "cell_type": "markdown",
   "metadata": {},
   "source": [
    "# 生成回归数据"
   ]
  },
  {
   "cell_type": "code",
   "execution_count": 58,
   "metadata": {
    "ExecuteTime": {
     "end_time": "2021-12-13T17:24:40.435808Z",
     "start_time": "2021-12-13T17:24:40.423809Z"
    }
   },
   "outputs": [],
   "source": [
    "from sklearn.datasets import make_regression\n",
    "feature,target = make_regression(n_samples=100, n_features=5, n_informative=3, random_state=666)"
   ]
  },
  {
   "cell_type": "markdown",
   "metadata": {},
   "source": [
    "# 多元线性回归\n",
    "\n",
    "1. $y=\\beta_{0}+\\beta_{1}x_{1}+\\cdots+\\beta_{p}x_{p}+\\epsilon$\n",
    "2. 基本假设\n",
    "   - 回归模型设定是正确的\n",
    "   - 对于每个$x_{j}$,$0 < j \\le k$具有变异性。同时，样本量最少满足$n \\ge k+1$，且$X_{j}$之间不存在多重共线性\n",
    "   - 随机干扰项条件零均值$E(\\mu | X)=0$\n",
    "   - 随机干扰项条件同方差与序列不相关\n",
    "   - 随机干扰项正态分布"
   ]
  },
  {
   "cell_type": "markdown",
   "metadata": {},
   "source": [
    "## 多重共线性检验(方差膨胀因子VIF)\n",
    "- $VIF_{i}=\\frac{1}{1-R_{i}^{2}}$\n",
    "- 其中$R_{i}$为第$i$个变量$X_{i}$与其他全部变量$X_{j},(i=1,2,3,\\cdots,k;i \\ne j)$的复相关系数；\n",
    "\n",
    ">复相关系数即可决系数$R^{2}$的算术平方根，也即拟合优度的算术平方根。\n",
    ">这个可决系数$R_{i}^{2}$是指用$X_{i}$做因变量，对其他全部$X_{j},(i=1,2,3,\\cdots,k;i \\ne j)$做一个新的回归以后得到的可决系数。\n",
    "\n",
    "- $VIF$通常以10作为判断边界。\n",
    "  - 当$VIF < 10$,不存在多重共线性；\n",
    "  - 当$10 \\le VIF < 100$,存在较强的多重共线性；\n",
    "  - 当$VIF \\ge 100$, 存在严重多重共线性。\n",
    "1. 多重共线性是普遍存在的，轻微的多重共线性问题可不采取措施。 \n",
    "2. 严重的多重共线性问题，一般可根据经验或通过分析回归结果发现。如影响系数符号，重要的解释变量t值很低。要根据不同情况采取必要措施。\n",
    "3. 如果模型仅用于预测，则只要拟合程度好，可不处理多重共线性问题，存在多重共线性的模型用于预测时，往往不影响预测结果。"
   ]
  },
  {
   "cell_type": "code",
   "execution_count": 59,
   "metadata": {},
   "outputs": [
    {
     "name": "stdout",
     "output_type": "stream",
     "text": [
      "第1个解释的VIF值为1.0617328110811086\n",
      "第2个解释的VIF值为1.0557687457903961\n",
      "第3个解释的VIF值为1.0178428500731205\n",
      "第4个解释的VIF值为1.050193743296577\n",
      "第5个解释的VIF值为1.0574752382057027\n"
     ]
    }
   ],
   "source": [
    "from statsmodels.stats.outliers_influence import variance_inflation_factor\n",
    "\n",
    "# 输入变量\n",
    "# exog：所有解释变量\n",
    "# exog_idx：解释变量的columns标签\n",
    "for i in range(feature.shape[1]):\n",
    "    print(\"第{}个解释的VIF值为{}\".format(i+1,variance_inflation_factor(feature,i)))"
   ]
  },
  {
   "cell_type": "markdown",
   "metadata": {},
   "source": [
    "## 多重共线性处理\n",
    "- 实际应用中，若存在多重共线性，需要消除多重共线性，不能直接建立多元线性回归模型；\n",
    "- 待补充"
   ]
  },
  {
   "cell_type": "markdown",
   "metadata": {},
   "source": [
    "# 变量间相关性分析\n",
    "## 正态检验\n",
    "- Pearson相关系数以及典型相关分析都要求样本数据满足正态分布的要求\n",
    "- 因此首先对样本数据的正态分布进行检验\n",
    "    - **JB检验**(大样本 n>30)\n",
    "    - **Shapior-wilk检验**(小样本 3<n<50)\n",
    "    - **KS检验**(Kolmogorov-Smirnov)"
   ]
  },
  {
   "cell_type": "code",
   "execution_count": 65,
   "metadata": {},
   "outputs": [
    {
     "name": "stdout",
     "output_type": "stream",
     "text": [
      "样本的数据长度： 100\n"
     ]
    }
   ],
   "source": [
    "print(\"样本的数据长度：\",feature.shape[0])"
   ]
  },
  {
   "cell_type": "code",
   "execution_count": 66,
   "metadata": {},
   "outputs": [
    {
     "name": "stdout",
     "output_type": "stream",
     "text": [
      "第0个变量的Test Statstic为2.7153619656833254, P值为:0.25725666837334615, 接受原假设\n",
      "第1个变量的Test Statstic为0.31642910793163964, P值为:0.8536666047629466, 接受原假设\n",
      "第2个变量的Test Statstic为1.060720092841925, P值为:0.5883930827125226, 接受原假设\n",
      "第3个变量的Test Statstic为2.678380937999782, P值为:0.26205772658847093, 接受原假设\n",
      "第4个变量的Test Statstic为1.5254441447121159, P值为:0.46639513621484174, 接受原假设\n"
     ]
    }
   ],
   "source": [
    "from scipy import stats\n",
    "# Statstic: 代表显著性水平\n",
    "# P: 代表概率论与数理统计中的P值\n",
    "for i in range(feature.shape[1]):\n",
    "    jb_value,p = stats.jarque_bera(feature[:,i])\n",
    "    if p < 0.05:\n",
    "        judge = '拒绝原假设'\n",
    "    else:\n",
    "        judge = '接受原假设'\n",
    "    print(\"第{}个变量的Test Statstic为{}, P值为:{}, {}\".format(i,jb_value,p,judge))"
   ]
  },
  {
   "cell_type": "markdown",
   "metadata": {},
   "source": [
    "## Pearson相关系数"
   ]
  },
  {
   "cell_type": "code",
   "execution_count": 67,
   "metadata": {},
   "outputs": [
    {
     "data": {
      "text/html": [
       "<div>\n",
       "<style scoped>\n",
       "    .dataframe tbody tr th:only-of-type {\n",
       "        vertical-align: middle;\n",
       "    }\n",
       "\n",
       "    .dataframe tbody tr th {\n",
       "        vertical-align: top;\n",
       "    }\n",
       "\n",
       "    .dataframe thead th {\n",
       "        text-align: right;\n",
       "    }\n",
       "</style>\n",
       "<table border=\"1\" class=\"dataframe\">\n",
       "  <thead>\n",
       "    <tr style=\"text-align: right;\">\n",
       "      <th></th>\n",
       "      <th>0</th>\n",
       "      <th>1</th>\n",
       "      <th>2</th>\n",
       "      <th>3</th>\n",
       "      <th>4</th>\n",
       "    </tr>\n",
       "  </thead>\n",
       "  <tbody>\n",
       "    <tr>\n",
       "      <th>0</th>\n",
       "      <td>1.000000</td>\n",
       "      <td>-0.209959</td>\n",
       "      <td>-0.074565</td>\n",
       "      <td>-0.096902</td>\n",
       "      <td>0.026778</td>\n",
       "    </tr>\n",
       "    <tr>\n",
       "      <th>1</th>\n",
       "      <td>-0.209959</td>\n",
       "      <td>1.000000</td>\n",
       "      <td>-0.034239</td>\n",
       "      <td>0.062862</td>\n",
       "      <td>-0.065280</td>\n",
       "    </tr>\n",
       "    <tr>\n",
       "      <th>2</th>\n",
       "      <td>-0.074565</td>\n",
       "      <td>-0.034239</td>\n",
       "      <td>1.000000</td>\n",
       "      <td>-0.026433</td>\n",
       "      <td>0.122607</td>\n",
       "    </tr>\n",
       "    <tr>\n",
       "      <th>3</th>\n",
       "      <td>-0.096902</td>\n",
       "      <td>0.062862</td>\n",
       "      <td>-0.026433</td>\n",
       "      <td>1.000000</td>\n",
       "      <td>-0.200150</td>\n",
       "    </tr>\n",
       "    <tr>\n",
       "      <th>4</th>\n",
       "      <td>0.026778</td>\n",
       "      <td>-0.065280</td>\n",
       "      <td>0.122607</td>\n",
       "      <td>-0.200150</td>\n",
       "      <td>1.000000</td>\n",
       "    </tr>\n",
       "  </tbody>\n",
       "</table>\n",
       "</div>"
      ],
      "text/plain": [
       "          0         1         2         3         4\n",
       "0  1.000000 -0.209959 -0.074565 -0.096902  0.026778\n",
       "1 -0.209959  1.000000 -0.034239  0.062862 -0.065280\n",
       "2 -0.074565 -0.034239  1.000000 -0.026433  0.122607\n",
       "3 -0.096902  0.062862 -0.026433  1.000000 -0.200150\n",
       "4  0.026778 -0.065280  0.122607 -0.200150  1.000000"
      ]
     },
     "execution_count": 67,
     "metadata": {},
     "output_type": "execute_result"
    }
   ],
   "source": [
    "pd.DataFrame(feature).corr(method='pearson')"
   ]
  },
  {
   "cell_type": "markdown",
   "metadata": {},
   "source": [
    "# 建立多元回归模型"
   ]
  },
  {
   "cell_type": "code",
   "execution_count": 72,
   "metadata": {},
   "outputs": [],
   "source": [
    "import statsmodels.api as sm\n",
    "\n",
    "X = feature\n",
    "Y = target \n",
    "X = sm.add_constant(X) # 添加截距项"
   ]
  },
  {
   "cell_type": "markdown",
   "metadata": {},
   "source": [
    "## 拟合模型\n",
    "- 如拟合结果所示$R^{2}=1$，说明拟合优度较高"
   ]
  },
  {
   "cell_type": "code",
   "execution_count": 73,
   "metadata": {},
   "outputs": [
    {
     "data": {
      "text/html": [
       "<table class=\"simpletable\">\n",
       "<caption>OLS Regression Results</caption>\n",
       "<tr>\n",
       "  <th>Dep. Variable:</th>            <td>y</td>        <th>  R-squared:         </th> <td>   1.000</td> \n",
       "</tr>\n",
       "<tr>\n",
       "  <th>Model:</th>                   <td>OLS</td>       <th>  Adj. R-squared:    </th> <td>   1.000</td> \n",
       "</tr>\n",
       "<tr>\n",
       "  <th>Method:</th>             <td>Least Squares</td>  <th>  F-statistic:       </th> <td>3.832e+30</td>\n",
       "</tr>\n",
       "<tr>\n",
       "  <th>Date:</th>             <td>Thu, 20 Jan 2022</td> <th>  Prob (F-statistic):</th>  <td>  0.00</td>  \n",
       "</tr>\n",
       "<tr>\n",
       "  <th>Time:</th>                 <td>21:12:10</td>     <th>  Log-Likelihood:    </th> <td>  2778.7</td> \n",
       "</tr>\n",
       "<tr>\n",
       "  <th>No. Observations:</th>      <td>   100</td>      <th>  AIC:               </th> <td>  -5545.</td> \n",
       "</tr>\n",
       "<tr>\n",
       "  <th>Df Residuals:</th>          <td>    94</td>      <th>  BIC:               </th> <td>  -5530.</td> \n",
       "</tr>\n",
       "<tr>\n",
       "  <th>Df Model:</th>              <td>     5</td>      <th>                     </th>     <td> </td>    \n",
       "</tr>\n",
       "<tr>\n",
       "  <th>Covariance Type:</th>      <td>nonrobust</td>    <th>                     </th>     <td> </td>    \n",
       "</tr>\n",
       "</table>\n",
       "<table class=\"simpletable\">\n",
       "<tr>\n",
       "    <td></td>       <th>coef</th>     <th>std err</th>      <th>t</th>      <th>P>|t|</th>  <th>[0.025</th>    <th>0.975]</th>  \n",
       "</tr>\n",
       "<tr>\n",
       "  <th>const</th> <td> 1.275e-13</td> <td> 2.21e-14</td> <td>    5.755</td> <td> 0.000</td> <td> 8.35e-14</td> <td> 1.71e-13</td>\n",
       "</tr>\n",
       "<tr>\n",
       "  <th>x1</th>    <td>   57.6078</td> <td> 2.08e-14</td> <td> 2.77e+15</td> <td> 0.000</td> <td>   57.608</td> <td>   57.608</td>\n",
       "</tr>\n",
       "<tr>\n",
       "  <th>x2</th>    <td>   65.0877</td> <td> 2.14e-14</td> <td> 3.04e+15</td> <td> 0.000</td> <td>   65.088</td> <td>   65.088</td>\n",
       "</tr>\n",
       "<tr>\n",
       "  <th>x3</th>    <td>   50.3106</td> <td> 1.97e-14</td> <td> 2.55e+15</td> <td> 0.000</td> <td>   50.311</td> <td>   50.311</td>\n",
       "</tr>\n",
       "<tr>\n",
       "  <th>x4</th>    <td>-9.681e-14</td> <td> 2.34e-14</td> <td>   -4.142</td> <td> 0.000</td> <td>-1.43e-13</td> <td>-5.04e-14</td>\n",
       "</tr>\n",
       "<tr>\n",
       "  <th>x5</th>    <td>-1.843e-13</td> <td> 2.36e-14</td> <td>   -7.813</td> <td> 0.000</td> <td>-2.31e-13</td> <td>-1.37e-13</td>\n",
       "</tr>\n",
       "</table>\n",
       "<table class=\"simpletable\">\n",
       "<tr>\n",
       "  <th>Omnibus:</th>       <td> 0.752</td> <th>  Durbin-Watson:     </th> <td>   2.145</td>\n",
       "</tr>\n",
       "<tr>\n",
       "  <th>Prob(Omnibus):</th> <td> 0.687</td> <th>  Jarque-Bera (JB):  </th> <td>   0.846</td>\n",
       "</tr>\n",
       "<tr>\n",
       "  <th>Skew:</th>          <td> 0.106</td> <th>  Prob(JB):          </th> <td>   0.655</td>\n",
       "</tr>\n",
       "<tr>\n",
       "  <th>Kurtosis:</th>      <td> 2.602</td> <th>  Cond. No.          </th> <td>    1.51</td>\n",
       "</tr>\n",
       "</table><br/><br/>Notes:<br/>[1] Standard Errors assume that the covariance matrix of the errors is correctly specified."
      ],
      "text/plain": [
       "<class 'statsmodels.iolib.summary.Summary'>\n",
       "\"\"\"\n",
       "                            OLS Regression Results                            \n",
       "==============================================================================\n",
       "Dep. Variable:                      y   R-squared:                       1.000\n",
       "Model:                            OLS   Adj. R-squared:                  1.000\n",
       "Method:                 Least Squares   F-statistic:                 3.832e+30\n",
       "Date:                Thu, 20 Jan 2022   Prob (F-statistic):               0.00\n",
       "Time:                        21:12:10   Log-Likelihood:                 2778.7\n",
       "No. Observations:                 100   AIC:                            -5545.\n",
       "Df Residuals:                      94   BIC:                            -5530.\n",
       "Df Model:                           5                                         \n",
       "Covariance Type:            nonrobust                                         \n",
       "==============================================================================\n",
       "                 coef    std err          t      P>|t|      [0.025      0.975]\n",
       "------------------------------------------------------------------------------\n",
       "const       1.275e-13   2.21e-14      5.755      0.000    8.35e-14    1.71e-13\n",
       "x1            57.6078   2.08e-14   2.77e+15      0.000      57.608      57.608\n",
       "x2            65.0877   2.14e-14   3.04e+15      0.000      65.088      65.088\n",
       "x3            50.3106   1.97e-14   2.55e+15      0.000      50.311      50.311\n",
       "x4         -9.681e-14   2.34e-14     -4.142      0.000   -1.43e-13   -5.04e-14\n",
       "x5         -1.843e-13   2.36e-14     -7.813      0.000   -2.31e-13   -1.37e-13\n",
       "==============================================================================\n",
       "Omnibus:                        0.752   Durbin-Watson:                   2.145\n",
       "Prob(Omnibus):                  0.687   Jarque-Bera (JB):                0.846\n",
       "Skew:                           0.106   Prob(JB):                        0.655\n",
       "Kurtosis:                       2.602   Cond. No.                         1.51\n",
       "==============================================================================\n",
       "\n",
       "Notes:\n",
       "[1] Standard Errors assume that the covariance matrix of the errors is correctly specified.\n",
       "\"\"\""
      ]
     },
     "execution_count": 73,
     "metadata": {},
     "output_type": "execute_result"
    }
   ],
   "source": [
    "model = sm.OLS(Y,X).fit()\n",
    "model.summary()"
   ]
  },
  {
   "cell_type": "code",
   "execution_count": null,
   "metadata": {},
   "outputs": [],
   "source": [
    "# F检验值为3.832e+30，可以计算"
   ]
  },
  {
   "cell_type": "code",
   "execution_count": 75,
   "metadata": {},
   "outputs": [
    {
     "name": "stdout",
     "output_type": "stream",
     "text": [
      "F: 2.4270401198339058\n",
      "T: 2.015367569912941\n"
     ]
    }
   ],
   "source": [
    "from scipy.stats import f,t\n",
    "F_Theroy = f.ppf(q=0.95, dfn=5, dfd=50-5-1)\n",
    "print('F: {}'.format(F_Theroy))\n",
    "T_Theroy = t.ppf(q=0.975, df=50-5-1)\n",
    "print('T: {}'.format(T_Theroy))"
   ]
  },
  {
   "cell_type": "code",
   "execution_count": 78,
   "metadata": {},
   "outputs": [
    {
     "data": {
      "image/png": "[encoded data removed]",
      "text/plain": [
       "<Figure size 576x288 with 1 Axes>"
      ]
     },
     "metadata": {
      "needs_background": "light"
     },
     "output_type": "display_data"
    }
   ],
   "source": [
    "#绘制最佳拟合线：标签用的是训练数据的预测值y_train_pred\n",
    "y_pred = model.predict(X)\n",
    "fig,ax = plt.subplots(figsize=(8,4))\n",
    "ax.plot(Y,color='#00b0ff',label=\"Observations\",linewidth=1.5)\n",
    "ax.plot(y_pred,color='#ff3d00',label=\"Prediction\",linewidth=1.5)\n",
    "ax.legend(loc=\"upper left\",fontsize=12)\n",
    "ax.grid(alpha=0.6)\n",
    "ax.tick_params(labelsize=14)"
   ]
  },
  {
   "cell_type": "markdown",
   "metadata": {},
   "source": [
    "## 异方差检验"
   ]
  },
  {
   "cell_type": "code",
   "execution_count": 87,
   "metadata": {},
   "outputs": [
    {
     "name": "stdout",
     "output_type": "stream",
     "text": [
      "(28.715219715469082, 0.0935200697563155, 20)\n"
     ]
    }
   ],
   "source": [
    "from statsmodels.stats.diagnostic import spec_white\n",
    "\n",
    "X= feature\n",
    "X=sm.add_constant(X) # 添加截距项\n",
    "error = model.resid  #模型的残差\n",
    "print(spec_white(error,X))"
   ]
  },
  {
   "cell_type": "code",
   "execution_count": 88,
   "metadata": {},
   "outputs": [
    {
     "name": "stdout",
     "output_type": "stream",
     "text": [
      "(99.7277943807699, 6.294999006580682e-16, 1.5158838172833338, 0.13513450995917184)\n"
     ]
    }
   ],
   "source": [
    "from statsmodels.stats.diagnostic import acorr_breusch_godfrey\n",
    "# 自相关性检验\n",
    "\n",
    "print(\"{}\".format(acorr_breusch_godfrey(model)))"
   ]
  },
  {
   "cell_type": "code",
   "execution_count": null,
   "metadata": {},
   "outputs": [],
   "source": []
  }
 ],
 "metadata": {
  "kernelspec": {
   "display_name": "Python 3 (ipykernel)",
   "language": "python",
   "name": "python3"
  },
  "language_info": {
   "codemirror_mode": {
    "name": "ipython",
    "version": 3
   },
   "file_extension": ".py",
   "mimetype": "text/x-python",
   "name": "python",
   "nbconvert_exporter": "python",
   "pygments_lexer": "ipython3",
   "version": "3.8.12"
  },
  "nbTranslate": {
   "displayLangs": [
    "*"
   ],
   "hotkey": "alt-t",
   "langInMainMenu": true,
   "sourceLang": "en",
   "targetLang": "fr",
   "useGoogleTranslate": true
  },
  "toc": {
   "base_numbering": 1,
   "nav_menu": {},
   "number_sections": true,
   "sideBar": true,
   "skip_h1_title": false,
   "title_cell": "Table of Contents",
   "title_sidebar": "Contents",
   "toc_cell": false,
   "toc_position": {
    "height": "calc(100% - 180px)",
    "left": "10px",
    "top": "150px",
    "width": "196.997px"
   },
   "toc_section_display": true,
   "toc_window_display": true
  }
 },
 "nbformat": 4,
 "nbformat_minor": 4
}
