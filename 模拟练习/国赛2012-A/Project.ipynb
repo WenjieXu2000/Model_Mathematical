{
 "cells": [
  {
   "cell_type": "code",
   "execution_count": 1,
   "metadata": {},
   "outputs": [],
   "source": [
    "import numpy as np\n",
    "import pandas as pd\n",
    "import matplotlib.pyplot as plt"
   ]
  },
  {
   "cell_type": "code",
   "execution_count": 5,
   "metadata": {},
   "outputs": [
    {
     "data": {
      "text/html": [
       "<div>\n",
       "<style scoped>\n",
       "    .dataframe tbody tr th:only-of-type {\n",
       "        vertical-align: middle;\n",
       "    }\n",
       "\n",
       "    .dataframe tbody tr th {\n",
       "        vertical-align: top;\n",
       "    }\n",
       "\n",
       "    .dataframe thead th {\n",
       "        text-align: right;\n",
       "    }\n",
       "</style>\n",
       "<table border=\"1\" class=\"dataframe\">\n",
       "  <thead>\n",
       "    <tr style=\"text-align: right;\">\n",
       "      <th></th>\n",
       "      <th>酒样品</th>\n",
       "      <th>第一组评分</th>\n",
       "      <th>第二组评分</th>\n",
       "    </tr>\n",
       "  </thead>\n",
       "  <tbody>\n",
       "    <tr>\n",
       "      <th>0</th>\n",
       "      <td>1</td>\n",
       "      <td>62.7</td>\n",
       "      <td>68.1</td>\n",
       "    </tr>\n",
       "    <tr>\n",
       "      <th>1</th>\n",
       "      <td>2</td>\n",
       "      <td>80.3</td>\n",
       "      <td>74.0</td>\n",
       "    </tr>\n",
       "    <tr>\n",
       "      <th>2</th>\n",
       "      <td>3</td>\n",
       "      <td>80.4</td>\n",
       "      <td>74.6</td>\n",
       "    </tr>\n",
       "    <tr>\n",
       "      <th>3</th>\n",
       "      <td>4</td>\n",
       "      <td>68.6</td>\n",
       "      <td>71.2</td>\n",
       "    </tr>\n",
       "    <tr>\n",
       "      <th>4</th>\n",
       "      <td>5</td>\n",
       "      <td>73.3</td>\n",
       "      <td>72.1</td>\n",
       "    </tr>\n",
       "  </tbody>\n",
       "</table>\n",
       "</div>"
      ],
      "text/plain": [
       "   酒样品  第一组评分  第二组评分\n",
       "0    1   62.7   68.1\n",
       "1    2   80.3   74.0\n",
       "2    3   80.4   74.6\n",
       "3    4   68.6   71.2\n",
       "4    5   73.3   72.1"
      ]
     },
     "execution_count": 5,
     "metadata": {},
     "output_type": "execute_result"
    }
   ],
   "source": [
    "data_1 = pd.read_excel('综合平均评分.xlsx',sheet_name='红葡萄酒')\n",
    "data_2 = pd.read_excel('综合平均评分.xlsx',sheet_name='白葡萄酒')\n",
    "data_1.head()"
   ]
  },
  {
   "cell_type": "markdown",
   "metadata": {},
   "source": [
    "## 正态分布检验：Shapior-wilk检验"
   ]
  },
  {
   "cell_type": "code",
   "execution_count": 7,
   "metadata": {},
   "outputs": [
    {
     "name": "stdout",
     "output_type": "stream",
     "text": [
      "Shapiro wilk Test Statstic:0.9248942732810974   Pvalue:0.05186120793223381\n",
      "Shapiro wilk Test Statstic:0.9809100031852722   Pvalue:0.882304847240448\n",
      "Shapiro wilk Test Statstic:0.9789304137229919   Pvalue:0.824052095413208\n",
      "Shapiro wilk Test Statstic:0.9455091953277588   Pvalue:0.15258711576461792\n"
     ]
    }
   ],
   "source": [
    "from scipy import stats\n",
    "\"\"\"\n",
    "Shapior-wilk检验主要应用于小样本(3<n<50)的情况;\n",
    "H0: 该变量服从正态分布,H1: 该变量不服从正态分布;\n",
    "\"\"\"\n",
    "shapiro_test = stats.shapiro(data_1['第一组评分'])\n",
    "print(\"Shapiro wilk Test Statstic:{}   Pvalue:{}\".format(shapiro_test.statistic,shapiro_test.pvalue))\n",
    "shapiro_test = stats.shapiro(data_1['第二组评分'])\n",
    "print(\"Shapiro wilk Test Statstic:{}   Pvalue:{}\".format(shapiro_test.statistic,shapiro_test.pvalue))\n",
    "shapiro_test = stats.shapiro(data_2['第一组评分'])\n",
    "print(\"Shapiro wilk Test Statstic:{}   Pvalue:{}\".format(shapiro_test.statistic,shapiro_test.pvalue))\n",
    "shapiro_test = stats.shapiro(data_2['第二组评分'])\n",
    "print(\"Shapiro wilk Test Statstic:{}   Pvalue:{}\".format(shapiro_test.statistic,shapiro_test.pvalue))"
   ]
  },
  {
   "cell_type": "code",
   "execution_count": null,
   "metadata": {},
   "outputs": [],
   "source": []
  }
 ],
 "metadata": {
  "kernelspec": {
   "display_name": "Python 3.8.5 ('base')",
   "language": "python",
   "name": "python3"
  },
  "language_info": {
   "codemirror_mode": {
    "name": "ipython",
    "version": 3
   },
   "file_extension": ".py",
   "mimetype": "text/x-python",
   "name": "python",
   "nbconvert_exporter": "python",
   "pygments_lexer": "ipython3",
   "version": "3.8.5"
  },
  "orig_nbformat": 4,
  "vscode": {
   "interpreter": {
    "hash": "ad2bdc8ecc057115af97d19610ffacc2b4e99fae6737bb82f5d7fb13d2f2c186"
   }
  }
 },
 "nbformat": 4,
 "nbformat_minor": 2
}
