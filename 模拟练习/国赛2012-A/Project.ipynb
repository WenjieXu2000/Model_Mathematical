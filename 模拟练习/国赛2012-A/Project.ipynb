{
 "cells": [
  {
   "cell_type": "code",
   "execution_count": 18,
   "metadata": {},
   "outputs": [],
   "source": [
    "import numpy as np\n",
    "import pandas as pd\n",
    "import matplotlib.pyplot as plt\n",
    "import scipy"
   ]
  },
  {
   "cell_type": "code",
   "execution_count": 19,
   "metadata": {},
   "outputs": [
    {
     "data": {
      "text/html": [
       "<div>\n",
       "<style scoped>\n",
       "    .dataframe tbody tr th:only-of-type {\n",
       "        vertical-align: middle;\n",
       "    }\n",
       "\n",
       "    .dataframe tbody tr th {\n",
       "        vertical-align: top;\n",
       "    }\n",
       "\n",
       "    .dataframe thead th {\n",
       "        text-align: right;\n",
       "    }\n",
       "</style>\n",
       "<table border=\"1\" class=\"dataframe\">\n",
       "  <thead>\n",
       "    <tr style=\"text-align: right;\">\n",
       "      <th></th>\n",
       "      <th>酒样品</th>\n",
       "      <th>第一组评分</th>\n",
       "      <th>第二组评分</th>\n",
       "    </tr>\n",
       "  </thead>\n",
       "  <tbody>\n",
       "    <tr>\n",
       "      <th>0</th>\n",
       "      <td>1</td>\n",
       "      <td>62.7</td>\n",
       "      <td>68.1</td>\n",
       "    </tr>\n",
       "    <tr>\n",
       "      <th>1</th>\n",
       "      <td>2</td>\n",
       "      <td>80.3</td>\n",
       "      <td>74.0</td>\n",
       "    </tr>\n",
       "    <tr>\n",
       "      <th>2</th>\n",
       "      <td>3</td>\n",
       "      <td>80.4</td>\n",
       "      <td>74.6</td>\n",
       "    </tr>\n",
       "    <tr>\n",
       "      <th>3</th>\n",
       "      <td>4</td>\n",
       "      <td>68.6</td>\n",
       "      <td>71.2</td>\n",
       "    </tr>\n",
       "    <tr>\n",
       "      <th>4</th>\n",
       "      <td>5</td>\n",
       "      <td>73.3</td>\n",
       "      <td>72.1</td>\n",
       "    </tr>\n",
       "  </tbody>\n",
       "</table>\n",
       "</div>"
      ],
      "text/plain": [
       "   酒样品  第一组评分  第二组评分\n",
       "0    1   62.7   68.1\n",
       "1    2   80.3   74.0\n",
       "2    3   80.4   74.6\n",
       "3    4   68.6   71.2\n",
       "4    5   73.3   72.1"
      ]
     },
     "execution_count": 19,
     "metadata": {},
     "output_type": "execute_result"
    }
   ],
   "source": [
    "data_1 = pd.read_excel('整理评分.xlsx',sheet_name='红葡萄酒')\n",
    "data_2 = pd.read_excel('整理评分.xlsx',sheet_name='白葡萄酒')\n",
    "data_1.head()"
   ]
  },
  {
   "cell_type": "markdown",
   "metadata": {},
   "source": [
    "## 正态分布检验：Shapior-wilk检验"
   ]
  },
  {
   "cell_type": "code",
   "execution_count": 20,
   "metadata": {},
   "outputs": [
    {
     "name": "stdout",
     "output_type": "stream",
     "text": [
      "Shapiro wilk Test Statstic:0.9251846075057983   Pvalue:0.052711352705955505\n",
      "Shapiro wilk Test Statstic:0.9802535772323608   Pvalue:0.8680329918861389\n",
      "Shapiro wilk Test Statstic:0.9682436585426331   Pvalue:0.5343675017356873\n",
      "Shapiro wilk Test Statstic:0.9455091953277588   Pvalue:0.15258711576461792\n"
     ]
    }
   ],
   "source": [
    "\"\"\"\n",
    "Shapior-wilk检验主要应用于小样本(3<n<50)的情况;\n",
    "H0: 该变量服从正态分布, H1: 该变量不服从正态分布;\n",
    "\"\"\"\n",
    "shapiro_test = scipy.stats.shapiro(data_1['第一组评分'])\n",
    "print(\"Shapiro wilk Test Statstic:{}   Pvalue:{}\".format(shapiro_test.statistic,shapiro_test.pvalue))\n",
    "shapiro_test = scipy.stats.shapiro(data_1['第二组评分'])\n",
    "print(\"Shapiro wilk Test Statstic:{}   Pvalue:{}\".format(shapiro_test.statistic,shapiro_test.pvalue))\n",
    "shapiro_test = scipy.stats.shapiro(data_2['第一组评分'])\n",
    "print(\"Shapiro wilk Test Statstic:{}   Pvalue:{}\".format(shapiro_test.statistic,shapiro_test.pvalue))\n",
    "shapiro_test = scipy.stats.shapiro(data_2['第二组评分'])\n",
    "print(\"Shapiro wilk Test Statstic:{}   Pvalue:{}\".format(shapiro_test.statistic,shapiro_test.pvalue))"
   ]
  },
  {
   "cell_type": "markdown",
   "metadata": {},
   "source": [
    "## Wilcoxon符号秩和检验"
   ]
  },
  {
   "cell_type": "code",
   "execution_count": 25,
   "metadata": {},
   "outputs": [
    {
     "name": "stdout",
     "output_type": "stream",
     "text": [
      "Wilcoxon Test Statstic:83.0   Pvalue:0.010873386170518438\n",
      "Wilcoxon Test Statstic:97.0   Pvalue:0.015781608763317006\n"
     ]
    }
   ],
   "source": [
    "statistic, pvalue = scipy.stats.wilcoxon(data_1['第一组评分'],\n",
    "                                         data_1['第二组评分'],\n",
    "                                         zero_method='wilcox',\n",
    "                                         alternative='two-sided')\n",
    "print(\"Wilcoxon Test Statstic:{}   Pvalue:{}\".format(statistic,pvalue))\n",
    "\n",
    "statistic, pvalue = scipy.stats.wilcoxon(data_2['第一组评分'],\n",
    "                                         data_2['第二组评分'],\n",
    "                                         zero_method='wilcox',\n",
    "                                         alternative='two-sided')\n",
    "print(\"Wilcoxon Test Statstic:{}   Pvalue:{}\".format(statistic,pvalue))"
   ]
  },
  {
   "cell_type": "code",
   "execution_count": 87,
   "metadata": {},
   "outputs": [
    {
     "name": "stdout",
     "output_type": "stream",
     "text": [
      "第一组红葡萄酒的总欧氏距离： 504.16\n",
      "第二组红葡萄酒的总欧氏距离： 513.97\n",
      "第一组白葡萄酒的总欧氏距离： 666.73\n",
      "第二组白葡萄酒的总欧氏距离： 937.27\n"
     ]
    }
   ],
   "source": [
    "data_3 = pd.read_excel('整理评分.xlsx',sheet_name='第一组红葡萄酒的评分',header=None).iloc[32:,1:].astype(np.int32)\n",
    "data_4 = pd.read_excel('整理评分.xlsx',sheet_name='第二组红葡萄酒的评分',header=None).iloc[32:,1:].astype(np.int32)\n",
    "data_5 = pd.read_excel('整理评分.xlsx',sheet_name='第一组白葡萄酒的评分',header=None).iloc[33:,1:].astype(np.int32)\n",
    "data_6 = pd.read_excel('整理评分.xlsx',sheet_name='第二组白葡萄酒的评分',header=None).iloc[33:,1:].astype(np.int32)\n",
    "\n",
    "def func_dis(data):\n",
    "    data_all = data.iloc[:,:-1].values\n",
    "    data_mean = data.iloc[:,-1].values.reshape(-1,1)\n",
    "    temp = (data_all-data_mean)**2\n",
    "    temp = temp.sum(axis=1)\n",
    "    temp = np.sqrt(temp).sum()\n",
    "    return np.round(temp,2)\n",
    "\n",
    "print('第一组红葡萄酒的总欧氏距离：',func_dis(data_3))\n",
    "print('第二组红葡萄酒的总欧氏距离：',func_dis(data_4))\n",
    "print('第一组白葡萄酒的总欧氏距离：',func_dis(data_5))\n",
    "print('第二组白葡萄酒的总欧氏距离：',func_dis(data_6))"
   ]
  },
  {
   "cell_type": "code",
   "execution_count": null,
   "metadata": {},
   "outputs": [],
   "source": []
  },
  {
   "cell_type": "code",
   "execution_count": null,
   "metadata": {},
   "outputs": [],
   "source": []
  }
 ],
 "metadata": {
  "kernelspec": {
   "display_name": "Python 3.9.13 ('base')",
   "language": "python",
   "name": "python3"
  },
  "language_info": {
   "codemirror_mode": {
    "name": "ipython",
    "version": 3
   },
   "file_extension": ".py",
   "mimetype": "text/x-python",
   "name": "python",
   "nbconvert_exporter": "python",
   "pygments_lexer": "ipython3",
   "version": "3.9.13"
  },
  "orig_nbformat": 4,
  "vscode": {
   "interpreter": {
    "hash": "91bb753b057673435fb8d6f6a083e6c818364728098c7ae050ca3a25357dd754"
   }
  }
 },
 "nbformat": 4,
 "nbformat_minor": 2
}
