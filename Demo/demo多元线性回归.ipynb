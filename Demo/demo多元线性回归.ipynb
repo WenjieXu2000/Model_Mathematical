{
 "cells": [
  {
   "cell_type": "code",
   "execution_count": 1,
   "metadata": {
    "ExecuteTime": {
     "end_time": "2021-12-13T17:23:03.561402Z",
     "start_time": "2021-12-13T17:23:01.493403Z"
    }
   },
   "outputs": [],
   "source": [
    "import pandas as pd\n",
    "import numpy as np\n",
    "import seaborn as sns\n",
    "import matplotlib.pyplot as plt"
   ]
  },
  {
   "cell_type": "markdown",
   "metadata": {},
   "source": [
    "# 数据描述"
   ]
  },
  {
   "cell_type": "code",
   "execution_count": 8,
   "metadata": {
    "ExecuteTime": {
     "end_time": "2021-12-13T17:24:40.435808Z",
     "start_time": "2021-12-13T17:24:40.423809Z"
    }
   },
   "outputs": [
    {
     "data": {
      "text/html": [
       "<div>\n",
       "<style scoped>\n",
       "    .dataframe tbody tr th:only-of-type {\n",
       "        vertical-align: middle;\n",
       "    }\n",
       "\n",
       "    .dataframe tbody tr th {\n",
       "        vertical-align: top;\n",
       "    }\n",
       "\n",
       "    .dataframe thead th {\n",
       "        text-align: right;\n",
       "    }\n",
       "</style>\n",
       "<table border=\"1\" class=\"dataframe\">\n",
       "  <thead>\n",
       "    <tr style=\"text-align: right;\">\n",
       "      <th></th>\n",
       "      <th>常住人口（万人）</th>\n",
       "      <th>总量</th>\n",
       "      <th>第三产业（亿元）</th>\n",
       "      <th>固定资产投资额（亿元）</th>\n",
       "      <th>社会消费品零售总额</th>\n",
       "    </tr>\n",
       "  </thead>\n",
       "  <tbody>\n",
       "    <tr>\n",
       "      <th>0</th>\n",
       "      <td>7810.27</td>\n",
       "      <td>160967</td>\n",
       "      <td>13660.89</td>\n",
       "      <td>18949.88000</td>\n",
       "      <td>11807.16</td>\n",
       "    </tr>\n",
       "    <tr>\n",
       "      <th>1</th>\n",
       "      <td>7869.34</td>\n",
       "      <td>188558</td>\n",
       "      <td>17121.03</td>\n",
       "      <td>23184.28000</td>\n",
       "      <td>13990.35</td>\n",
       "    </tr>\n",
       "    <tr>\n",
       "      <th>2</th>\n",
       "      <td>8022.99</td>\n",
       "      <td>212594</td>\n",
       "      <td>20699.22</td>\n",
       "      <td>26314.66000</td>\n",
       "      <td>16511.02</td>\n",
       "    </tr>\n",
       "    <tr>\n",
       "      <th>3</th>\n",
       "      <td>8119.81</td>\n",
       "      <td>231295</td>\n",
       "      <td>23309.75</td>\n",
       "      <td>31706.58000</td>\n",
       "      <td>18946.41</td>\n",
       "    </tr>\n",
       "    <tr>\n",
       "      <th>4</th>\n",
       "      <td>8192.44</td>\n",
       "      <td>194048</td>\n",
       "      <td>26752.50</td>\n",
       "      <td>35982.52000</td>\n",
       "      <td>21504.90</td>\n",
       "    </tr>\n",
       "    <tr>\n",
       "      <th>5</th>\n",
       "      <td>8281.09</td>\n",
       "      <td>208623</td>\n",
       "      <td>30174.27</td>\n",
       "      <td>41552.75000</td>\n",
       "      <td>24176.13</td>\n",
       "    </tr>\n",
       "    <tr>\n",
       "      <th>6</th>\n",
       "      <td>8315.11</td>\n",
       "      <td>211648</td>\n",
       "      <td>33931.69</td>\n",
       "      <td>45905.17000</td>\n",
       "      <td>26710.13</td>\n",
       "    </tr>\n",
       "    <tr>\n",
       "      <th>7</th>\n",
       "      <td>8381.47</td>\n",
       "      <td>215651</td>\n",
       "      <td>38269.57</td>\n",
       "      <td>49370.85000</td>\n",
       "      <td>29612.50</td>\n",
       "    </tr>\n",
       "    <tr>\n",
       "      <th>8</th>\n",
       "      <td>8423.50</td>\n",
       "      <td>234092</td>\n",
       "      <td>42700.49</td>\n",
       "      <td>53000.21000</td>\n",
       "      <td>32818.24</td>\n",
       "    </tr>\n",
       "    <tr>\n",
       "      <th>9</th>\n",
       "      <td>8446.19</td>\n",
       "      <td>247388</td>\n",
       "      <td>46936.47</td>\n",
       "      <td>55915.22155</td>\n",
       "      <td>35472.62</td>\n",
       "    </tr>\n",
       "    <tr>\n",
       "      <th>10</th>\n",
       "      <td>8469.09</td>\n",
       "      <td>281060</td>\n",
       "      <td>50852.05</td>\n",
       "      <td>58766.89785</td>\n",
       "      <td>37672.51</td>\n",
       "    </tr>\n",
       "    <tr>\n",
       "      <th>11</th>\n",
       "      <td>8477.26</td>\n",
       "      <td>288513</td>\n",
       "      <td>53955.83</td>\n",
       "      <td>58943.19854</td>\n",
       "      <td>37086.06</td>\n",
       "    </tr>\n",
       "  </tbody>\n",
       "</table>\n",
       "</div>"
      ],
      "text/plain": [
       "    常住人口（万人）      总量  第三产业（亿元）  固定资产投资额（亿元）  社会消费品零售总额\n",
       "0    7810.27  160967  13660.89  18949.88000   11807.16\n",
       "1    7869.34  188558  17121.03  23184.28000   13990.35\n",
       "2    8022.99  212594  20699.22  26314.66000   16511.02\n",
       "3    8119.81  231295  23309.75  31706.58000   18946.41\n",
       "4    8192.44  194048  26752.50  35982.52000   21504.90\n",
       "5    8281.09  208623  30174.27  41552.75000   24176.13\n",
       "6    8315.11  211648  33931.69  45905.17000   26710.13\n",
       "7    8381.47  215651  38269.57  49370.85000   29612.50\n",
       "8    8423.50  234092  42700.49  53000.21000   32818.24\n",
       "9    8446.19  247388  46936.47  55915.22155   35472.62\n",
       "10   8469.09  281060  50852.05  58766.89785   37672.51\n",
       "11   8477.26  288513  53955.83  58943.19854   37086.06"
      ]
     },
     "execution_count": 8,
     "metadata": {},
     "output_type": "execute_result"
    }
   ],
   "source": [
    "data = pd.read_csv(\"E:\\Code\\Jupyter Notebook Code\\数学建模\\9980.csv\",encoding='gb18030').iloc[:,1:]\n",
    "data"
   ]
  },
  {
   "cell_type": "code",
   "execution_count": 9,
   "metadata": {
    "ExecuteTime": {
     "end_time": "2021-12-13T17:24:44.563058Z",
     "start_time": "2021-12-13T17:24:44.539059Z"
    }
   },
   "outputs": [
    {
     "data": {
      "text/html": [
       "<div>\n",
       "<style scoped>\n",
       "    .dataframe tbody tr th:only-of-type {\n",
       "        vertical-align: middle;\n",
       "    }\n",
       "\n",
       "    .dataframe tbody tr th {\n",
       "        vertical-align: top;\n",
       "    }\n",
       "\n",
       "    .dataframe thead th {\n",
       "        text-align: right;\n",
       "    }\n",
       "</style>\n",
       "<table border=\"1\" class=\"dataframe\">\n",
       "  <thead>\n",
       "    <tr style=\"text-align: right;\">\n",
       "      <th></th>\n",
       "      <th>常住人口（万人）</th>\n",
       "      <th>总量</th>\n",
       "      <th>第三产业（亿元）</th>\n",
       "      <th>固定资产投资额（亿元）</th>\n",
       "      <th>社会消费品零售总额</th>\n",
       "    </tr>\n",
       "  </thead>\n",
       "  <tbody>\n",
       "    <tr>\n",
       "      <th>count</th>\n",
       "      <td>12.000000</td>\n",
       "      <td>12.00000</td>\n",
       "      <td>12.000000</td>\n",
       "      <td>12.000000</td>\n",
       "      <td>12.000000</td>\n",
       "    </tr>\n",
       "    <tr>\n",
       "      <th>mean</th>\n",
       "      <td>8234.046667</td>\n",
       "      <td>222869.75000</td>\n",
       "      <td>33196.980000</td>\n",
       "      <td>41632.684828</td>\n",
       "      <td>25525.669167</td>\n",
       "    </tr>\n",
       "    <tr>\n",
       "      <th>std</th>\n",
       "      <td>233.108850</td>\n",
       "      <td>36704.90263</td>\n",
       "      <td>13459.390122</td>\n",
       "      <td>14220.770417</td>\n",
       "      <td>9121.485156</td>\n",
       "    </tr>\n",
       "    <tr>\n",
       "      <th>min</th>\n",
       "      <td>7810.270000</td>\n",
       "      <td>160967.00000</td>\n",
       "      <td>13660.890000</td>\n",
       "      <td>18949.880000</td>\n",
       "      <td>11807.160000</td>\n",
       "    </tr>\n",
       "    <tr>\n",
       "      <th>25%</th>\n",
       "      <td>8095.605000</td>\n",
       "      <td>204979.25000</td>\n",
       "      <td>22657.117500</td>\n",
       "      <td>30358.600000</td>\n",
       "      <td>18337.562500</td>\n",
       "    </tr>\n",
       "    <tr>\n",
       "      <th>50%</th>\n",
       "      <td>8298.100000</td>\n",
       "      <td>214122.50000</td>\n",
       "      <td>32052.980000</td>\n",
       "      <td>43728.960000</td>\n",
       "      <td>25443.130000</td>\n",
       "    </tr>\n",
       "    <tr>\n",
       "      <th>75%</th>\n",
       "      <td>8429.172500</td>\n",
       "      <td>237416.00000</td>\n",
       "      <td>43759.485000</td>\n",
       "      <td>53728.962888</td>\n",
       "      <td>33481.835000</td>\n",
       "    </tr>\n",
       "    <tr>\n",
       "      <th>max</th>\n",
       "      <td>8477.260000</td>\n",
       "      <td>288513.00000</td>\n",
       "      <td>53955.830000</td>\n",
       "      <td>58943.198540</td>\n",
       "      <td>37672.510000</td>\n",
       "    </tr>\n",
       "  </tbody>\n",
       "</table>\n",
       "</div>"
      ],
      "text/plain": [
       "          常住人口（万人）            总量      第三产业（亿元）   固定资产投资额（亿元）     社会消费品零售总额\n",
       "count    12.000000      12.00000     12.000000     12.000000     12.000000\n",
       "mean   8234.046667  222869.75000  33196.980000  41632.684828  25525.669167\n",
       "std     233.108850   36704.90263  13459.390122  14220.770417   9121.485156\n",
       "min    7810.270000  160967.00000  13660.890000  18949.880000  11807.160000\n",
       "25%    8095.605000  204979.25000  22657.117500  30358.600000  18337.562500\n",
       "50%    8298.100000  214122.50000  32052.980000  43728.960000  25443.130000\n",
       "75%    8429.172500  237416.00000  43759.485000  53728.962888  33481.835000\n",
       "max    8477.260000  288513.00000  53955.830000  58943.198540  37672.510000"
      ]
     },
     "execution_count": 9,
     "metadata": {},
     "output_type": "execute_result"
    }
   ],
   "source": [
    "data.describe()"
   ]
  },
  {
   "cell_type": "code",
   "execution_count": 12,
   "metadata": {
    "ExecuteTime": {
     "end_time": "2021-12-13T17:26:10.753663Z",
     "start_time": "2021-12-13T17:26:10.748665Z"
    }
   },
   "outputs": [],
   "source": [
    "label = data.iloc[:,1]\n",
    "factor = data.drop('总量',axis=1)"
   ]
  },
  {
   "cell_type": "code",
   "execution_count": 14,
   "metadata": {
    "ExecuteTime": {
     "end_time": "2021-12-13T17:26:22.447458Z",
     "start_time": "2021-12-13T17:26:22.435457Z"
    }
   },
   "outputs": [
    {
     "data": {
      "text/html": [
       "<div>\n",
       "<style scoped>\n",
       "    .dataframe tbody tr th:only-of-type {\n",
       "        vertical-align: middle;\n",
       "    }\n",
       "\n",
       "    .dataframe tbody tr th {\n",
       "        vertical-align: top;\n",
       "    }\n",
       "\n",
       "    .dataframe thead th {\n",
       "        text-align: right;\n",
       "    }\n",
       "</style>\n",
       "<table border=\"1\" class=\"dataframe\">\n",
       "  <thead>\n",
       "    <tr style=\"text-align: right;\">\n",
       "      <th></th>\n",
       "      <th>常住人口（万人）</th>\n",
       "      <th>第三产业（亿元）</th>\n",
       "      <th>固定资产投资额（亿元）</th>\n",
       "      <th>社会消费品零售总额</th>\n",
       "    </tr>\n",
       "  </thead>\n",
       "  <tbody>\n",
       "    <tr>\n",
       "      <th>常住人口（万人）</th>\n",
       "      <td>1.000000</td>\n",
       "      <td>0.949111</td>\n",
       "      <td>0.983057</td>\n",
       "      <td>0.967775</td>\n",
       "    </tr>\n",
       "    <tr>\n",
       "      <th>第三产业（亿元）</th>\n",
       "      <td>0.949111</td>\n",
       "      <td>1.000000</td>\n",
       "      <td>0.985287</td>\n",
       "      <td>0.994588</td>\n",
       "    </tr>\n",
       "    <tr>\n",
       "      <th>固定资产投资额（亿元）</th>\n",
       "      <td>0.983057</td>\n",
       "      <td>0.985287</td>\n",
       "      <td>1.000000</td>\n",
       "      <td>0.995259</td>\n",
       "    </tr>\n",
       "    <tr>\n",
       "      <th>社会消费品零售总额</th>\n",
       "      <td>0.967775</td>\n",
       "      <td>0.994588</td>\n",
       "      <td>0.995259</td>\n",
       "      <td>1.000000</td>\n",
       "    </tr>\n",
       "  </tbody>\n",
       "</table>\n",
       "</div>"
      ],
      "text/plain": [
       "             常住人口（万人）  第三产业（亿元）  固定资产投资额（亿元）  社会消费品零售总额\n",
       "常住人口（万人）     1.000000  0.949111     0.983057   0.967775\n",
       "第三产业（亿元）     0.949111  1.000000     0.985287   0.994588\n",
       "固定资产投资额（亿元）  0.983057  0.985287     1.000000   0.995259\n",
       "社会消费品零售总额    0.967775  0.994588     0.995259   1.000000"
      ]
     },
     "execution_count": 14,
     "metadata": {},
     "output_type": "execute_result"
    }
   ],
   "source": [
    "factor.corr(method='pearson')"
   ]
  },
  {
   "cell_type": "markdown",
   "metadata": {},
   "source": [
    "# 多元线性回归模型（OLS）"
   ]
  },
  {
   "cell_type": "code",
   "execution_count": 15,
   "metadata": {
    "ExecuteTime": {
     "end_time": "2021-12-13T17:26:42.187396Z",
     "start_time": "2021-12-13T17:26:41.622398Z"
    }
   },
   "outputs": [],
   "source": [
    "import statsmodels.api as sm"
   ]
  },
  {
   "cell_type": "code",
   "execution_count": 33,
   "metadata": {
    "ExecuteTime": {
     "end_time": "2021-12-13T17:30:08.415644Z",
     "start_time": "2021-12-13T17:30:08.397643Z"
    }
   },
   "outputs": [],
   "source": [
    "label_train = data.iloc[:-2,1].to_numpy().reshape(-1,1)\n",
    "label_predict = data.iloc[-2:,1].to_numpy().reshape(-1,1)\n",
    "factor_train = factor.iloc[:-2,:].to_numpy()\n",
    "factor_predic =  factor.iloc[-2:,:].to_numpy()\n",
    "\n",
    "Y=label_train\n",
    "X=factor_train\n",
    "X=sm.add_constant(X) # 添加截距项"
   ]
  },
  {
   "cell_type": "code",
   "execution_count": 46,
   "metadata": {
    "ExecuteTime": {
     "end_time": "2021-12-13T17:31:26.290130Z",
     "start_time": "2021-12-13T17:31:26.285132Z"
    }
   },
   "outputs": [
    {
     "data": {
      "text/plain": [
       "(2, 4)"
      ]
     },
     "execution_count": 46,
     "metadata": {},
     "output_type": "execute_result"
    }
   ],
   "source": [
    "factor_predic.shape"
   ]
  },
  {
   "cell_type": "code",
   "execution_count": 35,
   "metadata": {
    "ExecuteTime": {
     "end_time": "2021-12-13T17:30:13.462665Z",
     "start_time": "2021-12-13T17:30:13.452666Z"
    }
   },
   "outputs": [],
   "source": [
    "model = sm.OLS(Y,X).fit()"
   ]
  },
  {
   "cell_type": "code",
   "execution_count": 36,
   "metadata": {
    "ExecuteTime": {
     "end_time": "2021-12-13T17:30:13.684436Z",
     "start_time": "2021-12-13T17:30:13.666438Z"
    }
   },
   "outputs": [
    {
     "data": {
      "text/plain": [
       "2.9751539639733933"
      ]
     },
     "execution_count": 36,
     "metadata": {},
     "output_type": "execute_result"
    }
   ],
   "source": [
    "from scipy.stats import f,t\n",
    "F_Theroy = f.ppf(q=0.95,dfn = 3,dfd = 30-3-1)\n",
    "F_Theroy"
   ]
  },
  {
   "cell_type": "code",
   "execution_count": 37,
   "metadata": {
    "ExecuteTime": {
     "end_time": "2021-12-13T17:30:13.999771Z",
     "start_time": "2021-12-13T17:30:13.993771Z"
    }
   },
   "outputs": [
    {
     "data": {
      "text/plain": [
       "2.055529438642871"
      ]
     },
     "execution_count": 37,
     "metadata": {},
     "output_type": "execute_result"
    }
   ],
   "source": [
    "T_Theroy = t.ppf(q=0.975,df=30-3-1)\n",
    "T_Theroy"
   ]
  },
  {
   "cell_type": "code",
   "execution_count": 47,
   "metadata": {
    "ExecuteTime": {
     "end_time": "2021-12-13T17:31:34.845429Z",
     "start_time": "2021-12-13T17:31:34.828429Z"
    }
   },
   "outputs": [
    {
     "name": "stderr",
     "output_type": "stream",
     "text": [
      "C:\\ProgramData\\Anaconda3\\lib\\site-packages\\scipy\\stats\\stats.py:1541: UserWarning: kurtosistest only valid for n>=20 ... continuing anyway, n=10\n",
      "  warnings.warn(\"kurtosistest only valid for n>=20 ... continuing \"\n"
     ]
    },
    {
     "data": {
      "text/html": [
       "<table class=\"simpletable\">\n",
       "<caption>OLS Regression Results</caption>\n",
       "<tr>\n",
       "  <th>Dep. Variable:</th>            <td>y</td>        <th>  R-squared:         </th> <td>   0.786</td>\n",
       "</tr>\n",
       "<tr>\n",
       "  <th>Model:</th>                   <td>OLS</td>       <th>  Adj. R-squared:    </th> <td>   0.615</td>\n",
       "</tr>\n",
       "<tr>\n",
       "  <th>Method:</th>             <td>Least Squares</td>  <th>  F-statistic:       </th> <td>   4.598</td>\n",
       "</tr>\n",
       "<tr>\n",
       "  <th>Date:</th>             <td>Tue, 14 Dec 2021</td> <th>  Prob (F-statistic):</th>  <td>0.0626</td> \n",
       "</tr>\n",
       "<tr>\n",
       "  <th>Time:</th>                 <td>01:31:34</td>     <th>  Log-Likelihood:    </th> <td> -107.18</td>\n",
       "</tr>\n",
       "<tr>\n",
       "  <th>No. Observations:</th>      <td>    10</td>      <th>  AIC:               </th> <td>   224.4</td>\n",
       "</tr>\n",
       "<tr>\n",
       "  <th>Df Residuals:</th>          <td>     5</td>      <th>  BIC:               </th> <td>   225.9</td>\n",
       "</tr>\n",
       "<tr>\n",
       "  <th>Df Model:</th>              <td>     4</td>      <th>                     </th>     <td> </td>   \n",
       "</tr>\n",
       "<tr>\n",
       "  <th>Covariance Type:</th>      <td>nonrobust</td>    <th>                     </th>     <td> </td>   \n",
       "</tr>\n",
       "</table>\n",
       "<table class=\"simpletable\">\n",
       "<tr>\n",
       "    <td></td>       <th>coef</th>     <th>std err</th>      <th>t</th>      <th>P>|t|</th>  <th>[0.025</th>    <th>0.975]</th>  \n",
       "</tr>\n",
       "<tr>\n",
       "  <th>const</th> <td>-1.805e+06</td> <td>  1.1e+06</td> <td>   -1.644</td> <td> 0.161</td> <td>-4.63e+06</td> <td> 1.02e+06</td>\n",
       "</tr>\n",
       "<tr>\n",
       "  <th>x1</th>    <td>  268.7023</td> <td>  148.003</td> <td>    1.816</td> <td> 0.129</td> <td> -111.751</td> <td>  649.155</td>\n",
       "</tr>\n",
       "<tr>\n",
       "  <th>x2</th>    <td>   25.1197</td> <td>   24.182</td> <td>    1.039</td> <td> 0.347</td> <td>  -37.042</td> <td>   87.281</td>\n",
       "</tr>\n",
       "<tr>\n",
       "  <th>x3</th>    <td>   -4.8242</td> <td>    7.537</td> <td>   -0.640</td> <td> 0.550</td> <td>  -24.198</td> <td>   14.550</td>\n",
       "</tr>\n",
       "<tr>\n",
       "  <th>x4</th>    <td>  -31.8395</td> <td>   42.718</td> <td>   -0.745</td> <td> 0.490</td> <td> -141.651</td> <td>   77.972</td>\n",
       "</tr>\n",
       "</table>\n",
       "<table class=\"simpletable\">\n",
       "<tr>\n",
       "  <th>Omnibus:</th>       <td> 3.616</td> <th>  Durbin-Watson:     </th> <td>   3.092</td>\n",
       "</tr>\n",
       "<tr>\n",
       "  <th>Prob(Omnibus):</th> <td> 0.164</td> <th>  Jarque-Bera (JB):  </th> <td>   1.094</td>\n",
       "</tr>\n",
       "<tr>\n",
       "  <th>Skew:</th>          <td> 0.774</td> <th>  Prob(JB):          </th> <td>   0.579</td>\n",
       "</tr>\n",
       "<tr>\n",
       "  <th>Kurtosis:</th>      <td> 3.480</td> <th>  Cond. No.          </th> <td>1.28e+07</td>\n",
       "</tr>\n",
       "</table><br/><br/>Notes:<br/>[1] Standard Errors assume that the covariance matrix of the errors is correctly specified.<br/>[2] The condition number is large, 1.28e+07. This might indicate that there are<br/>strong multicollinearity or other numerical problems."
      ],
      "text/plain": [
       "<class 'statsmodels.iolib.summary.Summary'>\n",
       "\"\"\"\n",
       "                            OLS Regression Results                            \n",
       "==============================================================================\n",
       "Dep. Variable:                      y   R-squared:                       0.786\n",
       "Model:                            OLS   Adj. R-squared:                  0.615\n",
       "Method:                 Least Squares   F-statistic:                     4.598\n",
       "Date:                Tue, 14 Dec 2021   Prob (F-statistic):             0.0626\n",
       "Time:                        01:31:34   Log-Likelihood:                -107.18\n",
       "No. Observations:                  10   AIC:                             224.4\n",
       "Df Residuals:                       5   BIC:                             225.9\n",
       "Df Model:                           4                                         \n",
       "Covariance Type:            nonrobust                                         \n",
       "==============================================================================\n",
       "                 coef    std err          t      P>|t|      [0.025      0.975]\n",
       "------------------------------------------------------------------------------\n",
       "const      -1.805e+06    1.1e+06     -1.644      0.161   -4.63e+06    1.02e+06\n",
       "x1           268.7023    148.003      1.816      0.129    -111.751     649.155\n",
       "x2            25.1197     24.182      1.039      0.347     -37.042      87.281\n",
       "x3            -4.8242      7.537     -0.640      0.550     -24.198      14.550\n",
       "x4           -31.8395     42.718     -0.745      0.490    -141.651      77.972\n",
       "==============================================================================\n",
       "Omnibus:                        3.616   Durbin-Watson:                   3.092\n",
       "Prob(Omnibus):                  0.164   Jarque-Bera (JB):                1.094\n",
       "Skew:                           0.774   Prob(JB):                        0.579\n",
       "Kurtosis:                       3.480   Cond. No.                     1.28e+07\n",
       "==============================================================================\n",
       "\n",
       "Notes:\n",
       "[1] Standard Errors assume that the covariance matrix of the errors is correctly specified.\n",
       "[2] The condition number is large, 1.28e+07. This might indicate that there are\n",
       "strong multicollinearity or other numerical problems.\n",
       "\"\"\""
      ]
     },
     "execution_count": 47,
     "metadata": {},
     "output_type": "execute_result"
    }
   ],
   "source": [
    "model.summary()"
   ]
  },
  {
   "cell_type": "code",
   "execution_count": 65,
   "metadata": {
    "ExecuteTime": {
     "end_time": "2021-12-13T17:36:02.866178Z",
     "start_time": "2021-12-13T17:36:02.856178Z"
    }
   },
   "outputs": [],
   "source": [
    "#模型的拟合值\n",
    "factor_train_predic = sm.add_constant(factor_train) # 添加截距项\n",
    "z = model.predict(factor_train_predic).reshape(-1,1)"
   ]
  },
  {
   "cell_type": "code",
   "execution_count": 66,
   "metadata": {
    "ExecuteTime": {
     "end_time": "2021-12-13T17:36:03.635199Z",
     "start_time": "2021-12-13T17:36:03.617201Z"
    }
   },
   "outputs": [],
   "source": [
    "y = np.concatenate((z,y_train_pred.reshape(-1,1)),axis=0)"
   ]
  },
  {
   "cell_type": "code",
   "execution_count": 67,
   "metadata": {
    "ExecuteTime": {
     "end_time": "2021-12-13T17:36:04.213192Z",
     "start_time": "2021-12-13T17:36:04.084193Z"
    }
   },
   "outputs": [
    {
     "data": {
      "image/png": "[encoded data removed]",
      "text/plain": [
       "<Figure size 576x288 with 1 Axes>"
      ]
     },
     "metadata": {
      "needs_background": "light"
     },
     "output_type": "display_data"
    }
   ],
   "source": [
    "#绘制最佳拟合线：标签用的是训练数据的预测值y_train_pred\n",
    "plt.figure(figsize=(8,4))\n",
    "plt.plot(label,color='#00b0ff',label=\"Observations\",linewidth=1.5)\n",
    "plt.plot(y,color='#ff3d00',label=\"Prediction\",linewidth=1.5)\n",
    "plt.legend(loc=\"upper left\")\n",
    "plt.grid(alpha=0.6)\n",
    "plt.tight_layout()"
   ]
  },
  {
   "cell_type": "code",
   "execution_count": 54,
   "metadata": {
    "ExecuteTime": {
     "end_time": "2021-12-13T17:33:18.624315Z",
     "start_time": "2021-12-13T17:33:18.605314Z"
    }
   },
   "outputs": [
    {
     "data": {
      "text/plain": [
       "array([264970.59233921, 362953.64831249])"
      ]
     },
     "execution_count": 54,
     "metadata": {},
     "output_type": "execute_result"
    }
   ],
   "source": [
    "y_train_pred"
   ]
  },
  {
   "cell_type": "code",
   "execution_count": 55,
   "metadata": {
    "ExecuteTime": {
     "end_time": "2021-12-13T17:33:23.417726Z",
     "start_time": "2021-12-13T17:33:23.398723Z"
    }
   },
   "outputs": [
    {
     "data": {
      "text/plain": [
       "array([[281060],\n",
       "       [288513]], dtype=int64)"
      ]
     },
     "execution_count": 55,
     "metadata": {},
     "output_type": "execute_result"
    }
   ],
   "source": [
    "label_predict"
   ]
  },
  {
   "cell_type": "code",
   "execution_count": null,
   "metadata": {},
   "outputs": [],
   "source": []
  },
  {
   "cell_type": "code",
   "execution_count": null,
   "metadata": {},
   "outputs": [],
   "source": []
  },
  {
   "cell_type": "code",
   "execution_count": null,
   "metadata": {},
   "outputs": [],
   "source": []
  }
 ],
 "metadata": {
  "kernelspec": {
   "display_name": "Python 3 (ipykernel)",
   "language": "python",
   "name": "python3"
  },
  "language_info": {
   "codemirror_mode": {
    "name": "ipython",
    "version": 3
   },
   "file_extension": ".py",
   "mimetype": "text/x-python",
   "name": "python",
   "nbconvert_exporter": "python",
   "pygments_lexer": "ipython3",
   "version": "3.8.8"
  },
  "nbTranslate": {
   "displayLangs": [
    "*"
   ],
   "hotkey": "alt-t",
   "langInMainMenu": true,
   "sourceLang": "en",
   "targetLang": "fr",
   "useGoogleTranslate": true
  },
  "toc": {
   "base_numbering": 1,
   "nav_menu": {},
   "number_sections": true,
   "sideBar": true,
   "skip_h1_title": false,
   "title_cell": "Table of Contents",
   "title_sidebar": "Contents",
   "toc_cell": false,
   "toc_position": {
    "height": "calc(100% - 180px)",
    "left": "10px",
    "top": "150px",
    "width": "196.997px"
   },
   "toc_section_display": true,
   "toc_window_display": true
  }
 },
 "nbformat": 4,
 "nbformat_minor": 4
}
