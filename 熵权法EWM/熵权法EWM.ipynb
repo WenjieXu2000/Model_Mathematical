{
 "cells": [
  {
   "cell_type": "code",
   "execution_count": null,
   "metadata": {
    "ExecuteTime": {
     "end_time": "2021-11-09T07:51:54.465690Z",
     "start_time": "2021-11-09T07:51:54.441944Z"
    }
   },
   "outputs": [],
   "source": [
    "import numpy as np"
   ]
  },
  {
   "cell_type": "code",
   "execution_count": 2,
   "metadata": {},
   "outputs": [],
   "source": [
    "def MinMaxNormalized(x,type,ymin=0,ymax=1):\n",
    "    \"\"\"\n",
    "    实现正向或负向指标MinMax归一化，返回归一化后的数据矩阵；\n",
    "    x：为原始数据矩阵, 一行代表一个样本, 每列对应一个指标；\n",
    "    type：设定正向指标1,负向指标2；\n",
    "    ymin,ymax：归一化的区间端点，即归一化时将数据缩放到(ymin,ymax)的范围内，默认应设置为[0,1]；\n",
    "    \"\"\"\n",
    "    n, m = x.shape\n",
    "    y = np.zeros((n, m))\n",
    "    xmin = np.min(x,axis=0)\n",
    "    xmax = np.max(x,axis=0)\n",
    "    if type == 1:\n",
    "        for j in range(m):\n",
    "            y[:,j] = (ymax-ymin)*(x[:,j]-xmin[j]) / (xmax[j]-xmin[j])+ymin\n",
    "    elif type == 2:\n",
    "        for j in range(m):\n",
    "            y[:,j] = (ymax-ymin)*(xmax[j]-x[:,j]) / (xmax[j]-xmin[j])+ymin\n",
    "    return y"
   ]
  },
  {
   "cell_type": "code",
   "execution_count": null,
   "metadata": {},
   "outputs": [],
   "source": [
    "def Entropy_Weight_Method(x,ind,ymin=0.0001,ymax=0.9999):\n",
    "    \"\"\"熵权法（EWM）\n",
    "    输入变量\n",
    "    x: 原始数据矩阵, 一行代表一个样本, 每列对应一个指标；\n",
    "    ind: 指示向量，指示各列正向指标还是负向指标，1表示正向指标，2表示负向指标；\n",
    "    输出变量\n",
    "    Y:归一化后的数据\n",
    "    s:综合加权评分\n",
    "    w: 各指标权重；\n",
    "    \"\"\"\n",
    "    # n个样本, m个指标\n",
    "    n,m = x.shape\n",
    "    # 数据的归一化处理\n",
    "    # 归一化结果\n",
    "    Y = np.zeros((n, m))\n",
    "    for i in range(m):\n",
    "        if ind[i] == 1: #正向指标归一化\n",
    "            Y[:,i] = MinMaxNormalized(x[:,i].reshape(-1,1),1,ymin,ymax).flatten()\n",
    "        elif ind[i] == 2: #负向指标归一化\n",
    "            Y[:,i] = MinMaxNormalized(x[:,i].reshape(-1,1),2,ymin,ymax).flatten()\n",
    "    # 计算第m项指标下第m个样本值占该指标的比重：比重P(i,j)\n",
    "    P = np.zeros((n, m))\n",
    "    for i in range(n):\n",
    "        for j in range(m):\n",
    "            P[i,j] = Y[i,j] / np.sum(Y[:,j])\n",
    "    # 第j个指标的熵值e(j)\n",
    "    e = np.zeros((1,m))\n",
    "    # 其中k = 1/ln(n)\n",
    "    k= 1/np.log10(n)\n",
    "    for j in range(m):\n",
    "        e[0,j] = -k * np.sum(P[:,j] * np.log10(P[:,j]))\n",
    "    # 计算信息熵冗余度\n",
    "    d = np.ones_like(e)-e\n",
    "    # 计算各项指标的权重\n",
    "    w = d / np.sum(d) \n",
    "    # 计算该样本的综合加权评分\n",
    "    s = np.sum(w * Y,axis=1).reshape(-1,1)\n",
    "    return Y,s, w"
   ]
  }
 ],
 "metadata": {
  "kernelspec": {
   "display_name": "Python 3",
   "language": "python",
   "name": "python3"
  },
  "language_info": {
   "codemirror_mode": {
    "name": "ipython",
    "version": 3
   },
   "file_extension": ".py",
   "mimetype": "text/x-python",
   "name": "python",
   "nbconvert_exporter": "python",
   "pygments_lexer": "ipython3",
   "version": "3.9.12 (main, Apr  4 2022, 05:22:27) [MSC v.1916 64 bit (AMD64)]"
  },
  "nbTranslate": {
   "displayLangs": [
    "*"
   ],
   "hotkey": "alt-t",
   "langInMainMenu": true,
   "sourceLang": "en",
   "targetLang": "fr",
   "useGoogleTranslate": true
  },
  "toc": {
   "base_numbering": 1,
   "nav_menu": {},
   "number_sections": true,
   "sideBar": true,
   "skip_h1_title": false,
   "title_cell": "Table of Contents",
   "title_sidebar": "Contents",
   "toc_cell": false,
   "toc_position": {},
   "toc_section_display": true,
   "toc_window_display": false
  },
  "vscode": {
   "interpreter": {
    "hash": "f8b40d688a12481f01eadf7380c47edd8a49484a47dba3db091451640e880c68"
   }
  }
 },
 "nbformat": 4,
 "nbformat_minor": 4
}
