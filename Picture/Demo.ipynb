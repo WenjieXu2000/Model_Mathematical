{
 "cells": [
  {
   "cell_type": "code",
   "execution_count": 1,
   "metadata": {},
   "outputs": [],
   "source": [
    "import numpy as np\n",
    "import matplotlib\n",
    "import matplotlib.pyplot as plt"
   ]
  },
  {
   "cell_type": "code",
   "execution_count": 2,
   "metadata": {},
   "outputs": [],
   "source": [
    "people = ('Tom', 'Dick', 'Harry', 'Slim', 'Jim')\n",
    "y_pos = np.arange(len(people))\n",
    "performance = 3 + 10 * np.random.rand(len(people))\n",
    "error = np.random.rand(len(people))"
   ]
  },
  {
   "cell_type": "code",
   "execution_count": null,
   "metadata": {},
   "outputs": [],
   "source": []
  },
  {
   "cell_type": "code",
   "execution_count": 3,
   "metadata": {},
   "outputs": [
    {
     "data": {
      "text/plain": [
       "[<matplotlib.axis.YTick at 0x2007c0f0370>,\n",
       " <matplotlib.axis.YTick at 0x2007c0d9bb0>,\n",
       " <matplotlib.axis.YTick at 0x2007c0c6fa0>,\n",
       " <matplotlib.axis.YTick at 0x2007c12a940>]"
      ]
     },
     "execution_count": 3,
     "metadata": {},
     "output_type": "execute_result"
    },
    {
     "data": {
      "image/png": "[encoded data removed]",
      "text/plain": [
       "<Figure size 720x288 with 1 Axes>"
      ]
     },
     "metadata": {
      "needs_background": "light"
     },
     "output_type": "display_data"
    }
   ],
   "source": [
    "fig, ax = plt.subplots(figsize=(10,4),layout='constrained')\n",
    "index = ['Comprehensive metric', 'Economic recession', 'Ecosytem sustainability', 'Society habitability']\n",
    "\n",
    "# 构建数据\n",
    "y_index = np.arange(len(index))\n",
    "x = np.array([100]*4)\n",
    "\n",
    "# 取消右边和上边的坐标轴\n",
    "ax.spines['top'].set_visible(False)\n",
    "ax.spines['right'].set_visible(False)\n",
    "\n",
    "# 绘制 x 轴方向的箭头\n",
    "ax.annotate('', \n",
    "             xy=(1.06, 0), xycoords='axes fraction',\n",
    "             xytext=(-0.06, 0), textcoords='axes fraction',\n",
    "             arrowprops=dict(facecolor='black', shrink=0.05),\n",
    "             zorder=5)\n",
    "# 绘制 y 轴方向的箭头\n",
    "ax.annotate('', \n",
    "             xy=(0, 1.06), xycoords='axes fraction',\n",
    "             xytext=(0, -0.06), textcoords='axes fraction',\n",
    "             arrowprops=dict(facecolor='black', shrink=0.05),\n",
    "             zorder=5)\n",
    "\n",
    "ax.barh(y_index,x,height=0.6)\n",
    "\n",
    "# 更改y轴刻度线\n",
    "ax.set_yticks(y_index, labels=index,size=15)\n"
   ]
  },
  {
   "cell_type": "code",
   "execution_count": null,
   "metadata": {},
   "outputs": [],
   "source": []
  }
 ],
 "metadata": {
  "interpreter": {
   "hash": "b3ba2566441a7c06988d0923437866b63cedc61552a5af99d1f4fb67d367b25f"
  },
  "kernelspec": {
   "display_name": "Python 3.8.3 64-bit ('base': conda)",
   "language": "python",
   "name": "python3"
  },
  "language_info": {
   "codemirror_mode": {
    "name": "ipython",
    "version": 3
   },
   "file_extension": ".py",
   "mimetype": "text/x-python",
   "name": "python",
   "nbconvert_exporter": "python",
   "pygments_lexer": "ipython3",
   "version": "3.8.3"
  },
  "orig_nbformat": 4
 },
 "nbformat": 4,
 "nbformat_minor": 2
}
