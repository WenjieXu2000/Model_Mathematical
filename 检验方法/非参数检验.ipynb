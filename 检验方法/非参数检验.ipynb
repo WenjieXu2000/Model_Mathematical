{
 "cells": [
  {
   "cell_type": "code",
   "execution_count": 3,
   "metadata": {},
   "outputs": [],
   "source": [
    "import numpy as np\n",
    "import pandas as pd\n",
    "import pingouin as pg \n",
    "import matplotlib.pyplot as plt\n",
    "import scipy"
   ]
  },
  {
   "cell_type": "markdown",
   "metadata": {},
   "source": [
    "# 单样本的非参数检验\n",
    "1. 目的：对单个总体的分布形态等进行推断，其分布是否与某个已知的分布相吻合\n",
    "2. 方法：卡方检验、二项分布检验、K-S检验、变量值随机性检验等\n",
    "## 卡方检验\n",
    "1. **基本概念**: 卡方检验（Chi-Square Test）法，也称卡方拟合优度检验，它是K.Pearson给出的一种最常用的非参数检验方法，主要是比较两个及两个以上样本率(构成比）以及两个分类变量的关联性分析。其根本思想就是在于比较理论频数和实际频数的吻合程度或拟合优度问题。\n",
    "2. **统计原理**: 为检验实际分布是否与理论分布（期望分布一致），可采用卡方统计量，典型的卡方统计量是Pearson卡方统计量。\n",
    "3. 假设检验：\n",
    "   - 原假设$H_{0}$: 观察频数与期望频数没有差别\n",
    "   - 备择假设$H_{1}$: 观察频数与期望频数有差别\n",
    "   - 检验统计量：Pearson卡方统计量。当n充分大时，它近似地服从自由度为k-1的卡方分布\n",
    "4. 检验结果\n",
    "   - 观察频数与期望频数完全一致时，$\\chi$值为0;\n",
    "   - 观察频数与期望频数越接近，两者之间的差异越小，$\\chi$值越小;\n",
    "   - 观察频数与期望频数差别越大，两者之间的差异越大，$\\chi$值越大;"
   ]
  },
  {
   "cell_type": "code",
   "execution_count": 41,
   "metadata": {},
   "outputs": [
    {
     "name": "stdout",
     "output_type": "stream",
     "text": [
      "卡方检验统计量为: 5.934451456402678\n",
      "P值为: 0.20409724923343175\n",
      "自由度为: 4\n",
      "期望频率为: [[20.97674419 23.02325581]\n",
      " [17.1627907  18.8372093 ]\n",
      " [10.48837209 11.51162791]\n",
      " [12.39534884 13.60465116]\n",
      " [20.97674419 23.02325581]]\n"
     ]
    }
   ],
   "source": [
    "data = pd.DataFrame({'男生人数':[19,21,14,10,18],'女生人数':[25,15,8,16,26]})\n",
    "statistic, pvalue, dof, expected_freq = scipy.stats.chi2_contingency(observed=data)\n",
    "alpha = 0.05\n",
    "print(\"卡方检验统计量为:\",statistic)\n",
    "print(\"P值为:\",pvalue)\n",
    "print(\"自由度为:\",dof)\n",
    "print(\"期望频率为:\",expected_freq)"
   ]
  },
  {
   "cell_type": "markdown",
   "metadata": {},
   "source": [
    "## 二项分布检验\n",
    "1. **基本原理**: 二项分布检验正是要通过样本数据检验样本来自的总体是否服从指定的概率为p的二项分布，其零假设H0是：样本来自的总体与指定的二项分布无显著性差异。\n",
    "2. **统计原理**:二项分布检验小样本下，即在样本小于等于30时，按下式计算概率$P\\left\\{X\\le x\\right\\}=\\sum_{t=1}^{x}C_{n}^{i}p^{i}q^{n-i}$。在大样本的情况下，计算的是Z统计量，认为在零假设下，Z统计量服从正态分布。\n",
    "3. 假设检验:\n",
    "   - 原假设$H_{0}$: 样本来自的总体与指定的二项分布无显著性差异\n",
    "   - 备择假设$H_{1}$: 样本来自的总体与指定的二项分布具有显著性差异。"
   ]
  },
  {
   "cell_type": "code",
   "execution_count": 74,
   "metadata": {},
   "outputs": [
    {
     "name": "stdout",
     "output_type": "stream",
     "text": [
      "BinomTestResult(k=5, n=20, alternative='two-sided', proportion_estimate=0.25, pvalue=0.04317449528446339)\n",
      "ConfidenceInterval(low=0.08657146910143455, high=0.49104587170795755)\n"
     ]
    }
   ],
   "source": [
    "# 20名学生的成绩，90分以上为优秀，检验优秀率是否达到了10%。\n",
    "score = np.array([18,75,84,76,89,93,94,88,95,87,88,73,84,82,80,84,87,91,95,83])\n",
    "k = (score>90).sum() # The number of successes\n",
    "n = len(score) # The number of trials.\n",
    "p = 0.1 # The expected proportion of successes\n",
    "alt = 'two-sided'\n",
    "BinomTestResult  = scipy.stats.binomtest(k,n,p,alt)\n",
    "print(BinomTestResult) # P值小于0.05，在5%的显著性水平下拒绝原假设，说明优秀率未达到10%。\n",
    "print(BinomTestResult.proportion_ci(confidence_level=0.95)) # 估计置信区间"
   ]
  },
  {
   "cell_type": "markdown",
   "metadata": {},
   "source": [
    "# 两独立样本的非参数检验\n",
    "1. 目的：两独立样本的非参数检验是通过对两独立样本的分析，**推断来自两个总体的分布是否存在显著性差异**\n",
    "2. 方法：Mann-Whitney U检验、K-S检验、W-W游程检验、极端反应检验等"
   ]
  },
  {
   "cell_type": "markdown",
   "metadata": {},
   "source": []
  },
  {
   "cell_type": "markdown",
   "metadata": {},
   "source": [
    "# 多独立样本的非参数检验\n",
    "1. 目的：与两独立样本的非参数检验类似，当多于两人样本时，对样本总体的推断称为多独立样本的参数检验\n",
    "2. 方法：Kruskal-Wallis H秩和检验、Median（中位数）检验和Jonkheere-Terpstra检验等"
   ]
  },
  {
   "cell_type": "code",
   "execution_count": null,
   "metadata": {},
   "outputs": [],
   "source": [
    "# Wilcoxon秩和检验scipy.stats.ranksums\n",
    "# Wilcoxon符号秩和检验scipy.stats.wilcoxon"
   ]
  }
 ],
 "metadata": {
  "kernelspec": {
   "display_name": "Python 3.9.13 ('base')",
   "language": "python",
   "name": "python3"
  },
  "language_info": {
   "codemirror_mode": {
    "name": "ipython",
    "version": 3
   },
   "file_extension": ".py",
   "mimetype": "text/x-python",
   "name": "python",
   "nbconvert_exporter": "python",
   "pygments_lexer": "ipython3",
   "version": "3.9.13"
  },
  "orig_nbformat": 4,
  "vscode": {
   "interpreter": {
    "hash": "91bb753b057673435fb8d6f6a083e6c818364728098c7ae050ca3a25357dd754"
   }
  }
 },
 "nbformat": 4,
 "nbformat_minor": 2
}
