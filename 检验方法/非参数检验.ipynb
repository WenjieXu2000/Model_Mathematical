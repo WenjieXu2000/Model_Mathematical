{
 "cells": [
  {
   "cell_type": "code",
   "execution_count": 9,
   "metadata": {},
   "outputs": [],
   "source": [
    "import numpy as np\n",
    "import pandas as pd\n",
    "import pingouin as pg \n",
    "import matplotlib.pyplot as plt\n",
    "import scipy"
   ]
  },
  {
   "cell_type": "markdown",
   "metadata": {},
   "source": [
    "# 单样本的非参数检验\n",
    "1. 目的：对单个总体的分布形态等进行推断，其分布是否与某个已知的分布相吻合\n",
    "2. 方法：卡方检验、二项分布检验、K-S检验、变量值随机性检验等\n",
    "## 卡方检验\n",
    "1. **基本概念**: 卡方检验（Chi-Square Test）法，也称卡方拟合优度检验，它是K.Pearson给出的一种最常用的非参数检验方法，用于检验观测数据是否与某种概率分布的理论数值相符合，进而推断观测数据是否是来自于该分布的样本的问题。\n",
    "2. **统计原理**: 为检验实际分布是否与理论分布（期望分布一致），可采用卡方统计量，典型的卡方统计量是Pearson卡方统计量。\n",
    "3. 假设检验：\n",
    "   - 原假设$H_{0}$: 总体服从某种理论分布\n",
    "   - 备择假设$H_{1}$: 总体不服从某种理论分布\n",
    "   - 检验统计量：Pearson卡方统计量。当n充分大时，它近似地服从自由度为k-1的卡方分布。"
   ]
  },
  {
   "cell_type": "code",
   "execution_count": 10,
   "metadata": {},
   "outputs": [
    {
     "data": {
      "text/plain": [
       "array([[ 1,  2,  3,  4,  5],\n",
       "       [25, 15,  8, 16, 26]])"
      ]
     },
     "execution_count": 10,
     "metadata": {},
     "output_type": "execute_result"
    }
   ],
   "source": [
    "data = np.array([[1,2,3,4,5],[25,15,8,16,26]])\n",
    "data"
   ]
  },
  {
   "cell_type": "code",
   "execution_count": 13,
   "metadata": {},
   "outputs": [
    {
     "name": "stdout",
     "output_type": "stream",
     "text": [
      "P value is 0.3382010377848584\n",
      "Independent (H0 holds true)；[gender and choice of pet is INDEPENDENT]\n"
     ]
    }
   ],
   "source": [
    "statistic, pvalue, dof, expected_freq = scipy.stats.chi2_contingency(data)\n",
    "alpha = 0.05\n",
    "print(\"P value is \" + str(pvalue))\n",
    "if pvalue <= alpha:\n",
    "    print('Dependent (reject H0);[gender and choice of pet is DEPENDENT]')\n",
    "else:\n",
    "    print('Independent (H0 holds true)；[gender and choice of pet is INDEPENDENT]')"
   ]
  },
  {
   "cell_type": "code",
   "execution_count": null,
   "metadata": {},
   "outputs": [],
   "source": []
  }
 ],
 "metadata": {
  "kernelspec": {
   "display_name": "Python 3.8.5 ('base')",
   "language": "python",
   "name": "python3"
  },
  "language_info": {
   "codemirror_mode": {
    "name": "ipython",
    "version": 3
   },
   "file_extension": ".py",
   "mimetype": "text/x-python",
   "name": "python",
   "nbconvert_exporter": "python",
   "pygments_lexer": "ipython3",
   "version": "3.8.5"
  },
  "orig_nbformat": 4,
  "vscode": {
   "interpreter": {
    "hash": "ad2bdc8ecc057115af97d19610ffacc2b4e99fae6737bb82f5d7fb13d2f2c186"
   }
  }
 },
 "nbformat": 4,
 "nbformat_minor": 2
}
