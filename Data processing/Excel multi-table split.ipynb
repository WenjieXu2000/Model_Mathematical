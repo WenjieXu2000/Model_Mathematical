{
 "cells": [
  {
   "cell_type": "code",
   "execution_count": 1,
   "metadata": {},
   "outputs": [],
   "source": [
    "import pandas as pd\n",
    "country = pd.read_excel(\"Data/Complete data.xlsx\",sheet_name=0)\n",
    "for i in range(20):\n",
    "    data = pd.read_excel(\"Data/Complete data.xlsx\",sheet_name=i+1)\n",
    "    index = country.iloc[i,0]\n",
    "    name = country.iloc[i,1]\n",
    "    data.to_csv(\"Data/initial Data/\"+str(index)+\".\"+str(name)+'.csv', sep=',',encoding='gb18030',index=False)"
   ]
  },
  {
   "cell_type": "code",
   "execution_count": null,
   "metadata": {},
   "outputs": [],
   "source": []
  }
 ],
 "metadata": {
  "interpreter": {
   "hash": "b3ba2566441a7c06988d0923437866b63cedc61552a5af99d1f4fb67d367b25f"
  },
  "kernelspec": {
   "display_name": "Python 3.8.3 64-bit ('base': conda)",
   "language": "python",
   "name": "python3"
  },
  "language_info": {
   "codemirror_mode": {
    "name": "ipython",
    "version": 3
   },
   "file_extension": ".py",
   "mimetype": "text/x-python",
   "name": "python",
   "nbconvert_exporter": "python",
   "pygments_lexer": "ipython3",
   "version": "3.8.3"
  },
  "orig_nbformat": 4
 },
 "nbformat": 4,
 "nbformat_minor": 2
}
