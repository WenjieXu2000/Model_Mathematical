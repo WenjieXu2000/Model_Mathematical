{
 "cells": [
  {
   "cell_type": "code",
   "execution_count": 1,
   "metadata": {},
   "outputs": [],
   "source": [
    "import numpy as np\n",
    "import pandas as pd\n",
    "from scipy.linalg import fractional_matrix_power  # 计算矩阵的分数次幂\n",
    "from scipy.sparse.linalg import eigs  # 计算矩阵的特征值和特征向量"
   ]
  },
  {
   "cell_type": "code",
   "execution_count": 7,
   "metadata": {},
   "outputs": [],
   "source": [
    "class SIR:\n",
    "    def __init__(self, H, K, estdim=0, Cn=1):\n",
    "        self.H = H\n",
    "        self.K = K\n",
    "        self.estdim = estdim\n",
    "        self.Cn = Cn\n",
    "\n",
    "    def fit(self, X, Y):\n",
    "        self.X = X\n",
    "        self.Y = Y\n",
    "        self.mean_x = np.mean(X, axis=0)  # 计算样本均值\n",
    "        self.sigma_x = np.cov(X, rowvar=False)  # 计算样本协方差矩阵\n",
    "        self.Z = np.matmul(X - np.tile(self.mean_x, (X.shape[0], 1)),\n",
    "                           fractional_matrix_power(self.sigma_x, -0.5))  # 标准化后的数据阵\n",
    "        n, p = self.Z.shape\n",
    "        if self.Y.ndim == 1:  # 判断响应变量Y的维度\n",
    "            self.Y = self.Y.reshape(-1, 1)\n",
    "        ny, py = self.Y.shape\n",
    "        W = np.ones((n, 1)) / n\n",
    "        nw, pw = W.shape\n",
    "        # 输入数据异常判断\n",
    "        if n != ny:\n",
    "            raise ValueError('X and Y must have the same number of samples')\n",
    "        elif p == 1:\n",
    "            raise ValueError('X must have at least 2 dimensions')\n",
    "        elif py != 1:\n",
    "            raise ValueError('Y must have only 1 dimension')\n",
    "        # 将y分为H片，c为每个片的样本数\n",
    "        c = np.ones((1, self.H)) * (n // self.H) + np.hstack(\n",
    "            [np.ones(\n",
    "                (1, n % self.H)), np.zeros((1, self.H - n % self.H))])\n",
    "        cumc = np.cumsum(c)  # 计算切片累计和\n",
    "        # 参照Y的取值从小到大进行排序\n",
    "        temp = np.hstack((self.Z, self.Y, W))\n",
    "        temp = temp[np.argsort(temp[:, p])]\n",
    "        # 提取排序后的z,y,w\n",
    "        z, y, w = temp[:, :p], temp[:, p:p + 1], temp[:, p + 1]\n",
    "        muh = np.zeros((self.H, p))\n",
    "        wh = np.zeros((self.H, 1))  # 每个切片的权重\n",
    "        k = 0  # 初始化切片编号\n",
    "        for i in range(n):\n",
    "            if i >= cumc[k]:  # 如果超过了切片的边界，则换下一个切片\n",
    "                k += 1\n",
    "            muh[k, :] = muh[k, :] + z[i, :]  # 计算切片内自变量之和\n",
    "            wh[k] = wh[k] + w[i]  # 计算每个切片包含Yi的概率\n",
    "        # 计算每个切片的样本均值,将其作为切片内自变量的取值\n",
    "        muh = muh / (np.tile(wh, (1, p)) * n)\n",
    "        # 加权主成分分析\n",
    "        self.M = np.zeros((p, p))  # 初始化切片 加权协方差矩阵\n",
    "        for i in range(self.H):\n",
    "            self.M = self.M + wh[i] * muh[i, :].reshape(-1, 1) * muh[i, :]\n",
    "        if self.estdim == 0: # 一般情况\n",
    "            self.D, self.V = eigs(A=self.M, k=self.K, which='LM')\n",
    "        else:\n",
    "            \"\"\" # 稀疏矩阵情况，待修正\n",
    "            [V D] = np.linalg,eig(full(M))\n",
    "            lambda = np.sort(abs(diag(D)),'descend')\n",
    "            L = np.log(lambda+1) - lambda\n",
    "            G = np.zeros((p,1))\n",
    "            if Cn == 1\n",
    "                Cn = n^(1/2)\n",
    "            elif Cn == 2\n",
    "            Cn = n^(1/3)\n",
    "            elif Cn == 3:\n",
    "                Cn = 0.5 * n^0.25\n",
    "            for k in range(p):\n",
    "                G(k) = n / 2 * sum(L(1:k)) / sum(L) - Cn * k * (k+1) / p\n",
    "            maxG, K = np. max(G)\n",
    "            V, D = eigs(M,K,'lm')\n",
    "            \"\"\"\n",
    "            pass\n",
    "        return self.V, self.K, self.M, self.D\n",
    "    def transform(self):\n",
    "        hatbeta = np.matmul(fractional_matrix_power(self.sigma_x, -0.5),self.V)\n",
    "        return hatbeta"
   ]
  },
  {
   "cell_type": "code",
   "execution_count": 10,
   "metadata": {},
   "outputs": [],
   "source": [
    "X = pd.read_csv('X.csv',header=None).values\n",
    "Y = pd.read_csv('Y.csv',header=None).values\n",
    "model = SIR(H=6, K=4, estdim=0, Cn=1)\n",
    "V, K, M, D = model.fit(X,Y)\n",
    "hatbeta = model.transform()"
   ]
  },
  {
   "cell_type": "markdown",
   "metadata": {},
   "source": [
    "# Test"
   ]
  },
  {
   "cell_type": "code",
   "execution_count": null,
   "metadata": {},
   "outputs": [],
   "source": [
    "from scipy.linalg import fractional_matrix_power  # 计算矩阵的分数次幂\n",
    "X = pd.read_csv('X.csv',header=None).values\n",
    "Y = pd.read_csv('Y.csv',header=None).values\n",
    "mean_x =  np.mean(X, axis=0)  # 计算X的均值\n",
    "sigma_x = np.cov(X, rowvar=False)  # 计算X的协方差矩阵\n",
    "Z = np.matmul(X - np.tile(mean_x, (X.shape[0], 1)),\n",
    "                           fractional_matrix_power(sigma_x, -0.5))  # 标准化后的数据阵"
   ]
  },
  {
   "cell_type": "code",
   "execution_count": 501,
   "metadata": {},
   "outputs": [],
   "source": [
    "n, p = Z.shape\n",
    "ny, py = Y.reshape(-1,1).shape\n",
    "estdim = 0\n",
    "Cn = 1\n",
    "H = 6\n",
    "K=5\n",
    "W = np.ones((n,1))/n\n",
    "nw,pw = W.shape\n",
    "c = np.ones((1,H)) * (n//H) + np.hstack([np.ones((1,n%H)), np.zeros((1,H-n%H))])\n",
    "cumc = np.cumsum(c)\n",
    "temp = np.hstack((Z,Y, W))\n",
    "temp = temp[np.argsort(temp[:,p])] # 按照Y进行排序\n",
    "# 提取排序后的z,y,w\n",
    "z,y,w = temp[:,:p],temp[:,p:p+1],temp[:,p+1]\n",
    "muh = np.zeros((H,p)) # 初始化切片均值\n",
    "wh = np.zeros((H,1)) # 初始化每个切片包含Yi的概率\n",
    "k = 0 # 初始化切片编号\n",
    "for i in range(n):\n",
    "    if i >= cumc[k]: # 如果超过了切片的边界，则换下一个切片\n",
    "        k += 1\n",
    "    muh[k,:] = muh[k,:] + z[i,:] # 计算切片内自变量之和\n",
    "    wh[k] = wh[k] + w[i] # 计算每个切片包含Yi的概率\n",
    "# 计算每个切片的样本均值,将其作为切片内自变量的取值\n",
    "muh = muh / (np.tile(wh, (1, p))*n) \n",
    "M = np.zeros((p,p)) # 初始化切片 加权协方差矩阵\n",
    "for i in range(H):\n",
    "    M = M + wh[i] * muh[i,:].reshape(-1,1) * muh[i,:]\n",
    "D,V = eigs(A=M,k=K,which='LM')"
   ]
  }
 ],
 "metadata": {
  "kernelspec": {
   "display_name": "Python 3.8.5 ('base')",
   "language": "python",
   "name": "python3"
  },
  "language_info": {
   "codemirror_mode": {
    "name": "ipython",
    "version": 3
   },
   "file_extension": ".py",
   "mimetype": "text/x-python",
   "name": "python",
   "nbconvert_exporter": "python",
   "pygments_lexer": "ipython3",
   "version": "3.8.5"
  },
  "orig_nbformat": 4,
  "vscode": {
   "interpreter": {
    "hash": "ad2bdc8ecc057115af97d19610ffacc2b4e99fae6737bb82f5d7fb13d2f2c186"
   }
  }
 },
 "nbformat": 4,
 "nbformat_minor": 2
}
