{
 "cells": [
  {
   "cell_type": "code",
   "execution_count": 2,
   "metadata": {
    "ExecuteTime": {
     "end_time": "2021-11-09T07:51:01.370633Z",
     "start_time": "2021-11-09T07:51:01.329924Z"
    }
   },
   "outputs": [],
   "source": [
    "import numpy as np\n",
    "class AHP:\n",
    "    #传入的np.ndarray是的判断矩阵\n",
    "    def __init__(self,array):\n",
    "        self.array = array\n",
    "        # 记录矩阵大小\n",
    "        self.n = array.shape[0]\n",
    "        # 初始化RI值,用于一致性检验 \n",
    "        RI_list = [0,0,0.58,0.90,1.12,1.24,1.32,1.41,1.45]\n",
    "        self.RI = RI_list[self.n-1]\n",
    "        \n",
    "    #获取最大特征值和对应的特征向量\n",
    "    def get_eig(self):\n",
    "        #numpy.linalg.eig() 计算矩阵特征值与特征向量\n",
    "        eig_val ,eig_vector = np.linalg.eig(self.array)\n",
    "        #获取最大特征值\n",
    "        max_val = np.max(eig_val)\n",
    "        max_val = round(max_val.real, 4)\n",
    "        #通过位置来确定最大特征值对应的特征向量\n",
    "        index = np.argmax(eig_val)\n",
    "        max_vector = eig_vector[:,index]\n",
    "        max_vector = max_vector.real.round(4) \n",
    "        #添加最大特征值属性\n",
    "        self.max_val = max_val\n",
    "        #计算权重向量W\n",
    "        weight_vector = max_vector/sum(max_vector)\n",
    "        weight_vector = weight_vector.round(4)\n",
    "        #打印结果\n",
    "        print(\"最大的特征值: \"+str(max_val))\n",
    "        print(\"对应的特征向量为: \"+str(max_vector))\n",
    "        print(\"归一化后得到权重向量: \"+str(weight_vector))\n",
    "        return weight_vector\n",
    "    \n",
    "    #测试一致性\n",
    "    def test_consitst(self):\n",
    "        #计算CI值\n",
    "        CI = (self.max_val-self.n)/(self.n-1) \n",
    "        CI = round(CI,4) \n",
    "        #打印结果\n",
    "        print(\"判断矩阵的CI值为\" +str(CI))\n",
    "        print(\"判断矩阵的RI值为\" +str(self.RI))\n",
    "        #分类讨论\n",
    "        if self.n == 2:\n",
    "            print(\"仅包含两个子因素，不存在一致性问题\")\n",
    "        else:\n",
    "            #计算CR值\n",
    "            CR = CI/self.RI \n",
    "            CR = round(CR,4)\n",
    "            #CR < 0.10才能通过检验\n",
    "            if  CR < 0.10 :\n",
    "                print(\"判断矩阵的CR值为\" +str(CR) + \"，通过一致性检验\")\n",
    "                return True\n",
    "            else:\n",
    "                print(\"判断矩阵的CR值为\" +str(CR) + \"，未通过一致性检验\")\n",
    "                return False"
   ]
  },
  {
   "cell_type": "code",
   "execution_count": 3,
   "metadata": {
    "ExecuteTime": {
     "end_time": "2021-11-09T07:51:01.604464Z",
     "start_time": "2021-11-09T07:51:01.563952Z"
    }
   },
   "outputs": [
    {
     "data": {
      "text/plain": [
       "array([[1.        , 3.        , 0.33333333, 5.        ],\n",
       "       [0.33333333, 1.        , 0.2       , 3.        ],\n",
       "       [3.        , 5.        , 1.        , 7.        ],\n",
       "       [0.2       , 0.33333333, 0.14285714, 1.        ]])"
      ]
     },
     "execution_count": 3,
     "metadata": {},
     "output_type": "execute_result"
    }
   ],
   "source": [
    "# 构造成对比较矩阵\n",
    "A = np.array([[1, 3, 1 / 3, 5], [1 / 3, 1, 1 / 5, 3], [3, 5, 1, 7],\n",
    "              [1 / 5, 1 / 3, 1 / 7, 1]])\n",
    "A"
   ]
  },
  {
   "cell_type": "code",
   "execution_count": 4,
   "metadata": {
    "ExecuteTime": {
     "end_time": "2021-11-09T07:51:12.963792Z",
     "start_time": "2021-11-09T07:51:12.923418Z"
    }
   },
   "outputs": [
    {
     "name": "stdout",
     "output_type": "stream",
     "text": [
      "最大的特征值: 4.117\n",
      "对应的特征向量为: [0.4121 0.1847 0.888  0.0869]\n",
      "归一化后得到权重向量: [0.2622 0.1175 0.565  0.0553]\n"
     ]
    },
    {
     "data": {
      "text/plain": [
       "array([0.2622, 0.1175, 0.565 , 0.0553])"
      ]
     },
     "execution_count": 4,
     "metadata": {},
     "output_type": "execute_result"
    }
   ],
   "source": [
    "model = AHP(A)\n",
    "model.get_eig()"
   ]
  },
  {
   "cell_type": "code",
   "execution_count": 5,
   "metadata": {
    "ExecuteTime": {
     "end_time": "2021-11-09T07:51:18.528981Z",
     "start_time": "2021-11-09T07:51:18.512974Z"
    }
   },
   "outputs": [
    {
     "name": "stdout",
     "output_type": "stream",
     "text": [
      "判断矩阵的CI值为0.039\n",
      "判断矩阵的RI值为0.9\n",
      "判断矩阵的CR值为0.0433，通过一致性检验\n"
     ]
    },
    {
     "data": {
      "text/plain": [
       "True"
      ]
     },
     "execution_count": 5,
     "metadata": {},
     "output_type": "execute_result"
    }
   ],
   "source": [
    "model.test_consitst()"
   ]
  },
  {
   "cell_type": "code",
   "execution_count": null,
   "metadata": {},
   "outputs": [],
   "source": []
  }
 ],
 "metadata": {
  "kernelspec": {
   "display_name": "Python 3",
   "language": "python",
   "name": "python3"
  },
  "language_info": {
   "codemirror_mode": {
    "name": "ipython",
    "version": 3
   },
   "file_extension": ".py",
   "mimetype": "text/x-python",
   "name": "python",
   "nbconvert_exporter": "python",
   "pygments_lexer": "ipython3",
   "version": "3.8.5"
  },
  "nbTranslate": {
   "displayLangs": [
    "*"
   ],
   "hotkey": "alt-t",
   "langInMainMenu": true,
   "sourceLang": "en",
   "targetLang": "fr",
   "useGoogleTranslate": true
  },
  "toc": {
   "base_numbering": 1,
   "nav_menu": {},
   "number_sections": true,
   "sideBar": true,
   "skip_h1_title": false,
   "title_cell": "Table of Contents",
   "title_sidebar": "Contents",
   "toc_cell": false,
   "toc_position": {},
   "toc_section_display": true,
   "toc_window_display": false
  }
 },
 "nbformat": 4,
 "nbformat_minor": 4
}
