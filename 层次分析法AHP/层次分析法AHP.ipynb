{
 "cells": [
  {
   "cell_type": "code",
   "execution_count": 65,
   "metadata": {
    "ExecuteTime": {
     "end_time": "2021-11-09T07:51:01.370633Z",
     "start_time": "2021-11-09T07:51:01.329924Z"
    }
   },
   "outputs": [],
   "source": [
    "import numpy as np\n",
    "class AHP:\n",
    "    # 判断矩阵的重要性标度有1,3,5,7,9，倒数等\n",
    "    # 传入numpy.array格式的判断矩阵\n",
    "    def __init__(self,data):\n",
    "        self.data = data\n",
    "        # 记录变量的数量即判断矩阵的长度\n",
    "        self.size = data.shape[0]\n",
    "        # 初始化一致性检验RI值  \n",
    "        RI_value = [0, 0, 0.58, 0.90, 1.12, 1.24, 1.32, 1.41, 1.45, 1.51]\n",
    "        # 根据变量的数量选择RI\n",
    "        self.RI = RI_value[self.size - 1]\n",
    "        \n",
    "    # 计算归一化的权重向量\n",
    "    def calculate_eigen(self):\n",
    "        # 计算判断矩阵的特征值与特征向量\n",
    "        eigen_value ,eigen_vector = np.linalg.eig(self.data)\n",
    "        # 计算矩阵的最大特征值与其对应的特征向量\n",
    "        max_variable = np.max(eigen_value)\n",
    "        index = np.argmax(eigen_value)\n",
    "        max_variable = round(max_variable.real, 4)\n",
    "        max_vector = eigen_vector[:,index]\n",
    "        max_vector = max_vector.real.round(4) #\n",
    "        self.max_var = max_variable\n",
    "        # 计算归一化的权重向量W\n",
    "        weight_vector = max_vector/sum(max_vector)\n",
    "        weight_vector = weight_vector.round(4) \n",
    "        # 输出结果\n",
    "        print(\"AHP模型计算结果:\\n\\\n",
    "        判断矩阵最大的特征值: {}\\n\\\n",
    "        其对应的特征向量为: {}\\n\\\n",
    "        归一化后的权重向量: {}\".format(max_variable, max_vector, weight_vector))\n",
    "        return max_variable, max_vector, weight_vector\n",
    "    \n",
    "    # 检验判断矩阵的一致性\n",
    "    def check_consistency(self):\n",
    "        # 计算判断矩阵的CI值\n",
    "        CI = (self.max_var - self.size)/(self.size - 1) \n",
    "        CI = round(CI,4) \n",
    "        # 输出结果\n",
    "        print(\"\\n\\\n",
    "        判断矩阵的CI值: {}\\n\\\n",
    "        判断矩阵的RI值: {}\".format(CI, self.RI))\n",
    "        if self.size == 2:\n",
    "            print(\"判断矩阵仅有两个变量，不存在一致性问题\")\n",
    "        else:\n",
    "            # 计算CR值\n",
    "            CR = CI / self.RI \n",
    "            CR = round(CR, 4)\n",
    "            if  CR < 0.10 :\n",
    "                return print(\"判断矩阵的CR值{}，通过一致性检验\".format(CR))\n",
    "            else:\n",
    "                return print(\"判断矩阵的CR值{}，未通过一致性检验\".format(CR))"
   ]
  },
  {
   "cell_type": "code",
   "execution_count": 66,
   "metadata": {
    "ExecuteTime": {
     "end_time": "2021-11-09T07:51:01.604464Z",
     "start_time": "2021-11-09T07:51:01.563952Z"
    }
   },
   "outputs": [
    {
     "data": {
      "text/plain": [
       "array([[1.        , 3.        , 0.33333333, 5.        ],\n",
       "       [0.33333333, 1.        , 0.2       , 3.        ],\n",
       "       [3.        , 5.        , 1.        , 7.        ],\n",
       "       [0.2       , 0.33333333, 0.14285714, 1.        ]])"
      ]
     },
     "execution_count": 66,
     "metadata": {},
     "output_type": "execute_result"
    }
   ],
   "source": [
    "# 构造变量的成对比较矩阵\n",
    "A = np.array([\\\n",
    "            [1, 3, 1 / 3, 5], \\\n",
    "            [1 / 3, 1, 1 / 5, 3], \\\n",
    "            [3, 5, 1, 7],\\\n",
    "            [1 / 5, 1 / 3, 1 / 7, 1]\\\n",
    "            ])\n",
    "A"
   ]
  },
  {
   "cell_type": "code",
   "execution_count": 67,
   "metadata": {
    "ExecuteTime": {
     "end_time": "2021-11-09T07:51:12.963792Z",
     "start_time": "2021-11-09T07:51:12.923418Z"
    }
   },
   "outputs": [
    {
     "name": "stdout",
     "output_type": "stream",
     "text": [
      "AHP模型计算结果:\n",
      "        判断矩阵最大的特征值: 4.117\n",
      "        其对应的特征向量为: [0.4121 0.1847 0.888  0.0869]\n",
      "        归一化后的权重向量: [0.2622 0.1175 0.565  0.0553]\n",
      "\n",
      "        判断矩阵的CI值: 0.039\n",
      "        判断矩阵的RI值: 0.9\n",
      "判断矩阵的CR值0.0433，通过一致性检验\n"
     ]
    }
   ],
   "source": [
    "model = AHP(A)\n",
    "mmax_variable, max_vector, weight_vector = model.calculate_eigen()\n",
    "model.check_consistency()"
   ]
  },
  {
   "cell_type": "code",
   "execution_count": null,
   "metadata": {},
   "outputs": [],
   "source": []
  }
 ],
 "metadata": {
  "kernelspec": {
   "display_name": "Python 3",
   "language": "python",
   "name": "python3"
  },
  "language_info": {
   "codemirror_mode": {
    "name": "ipython",
    "version": 3
   },
   "file_extension": ".py",
   "mimetype": "text/x-python",
   "name": "python",
   "nbconvert_exporter": "python",
   "pygments_lexer": "ipython3",
   "version": "3.8.12"
  },
  "nbTranslate": {
   "displayLangs": [
    "*"
   ],
   "hotkey": "alt-t",
   "langInMainMenu": true,
   "sourceLang": "en",
   "targetLang": "fr",
   "useGoogleTranslate": true
  },
  "toc": {
   "base_numbering": 1,
   "nav_menu": {},
   "number_sections": true,
   "sideBar": true,
   "skip_h1_title": false,
   "title_cell": "Table of Contents",
   "title_sidebar": "Contents",
   "toc_cell": false,
   "toc_position": {},
   "toc_section_display": true,
   "toc_window_display": false
  }
 },
 "nbformat": 4,
 "nbformat_minor": 4
}
