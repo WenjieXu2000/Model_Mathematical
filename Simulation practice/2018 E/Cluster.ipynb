{
 "cells": [
  {
   "cell_type": "code",
   "execution_count": 53,
   "metadata": {},
   "outputs": [],
   "source": [
    "import numpy as np\n",
    "import pandas as pd\n",
    "import matplotlib as mpl\n",
    "import matplotlib.pyplot as plt"
   ]
  },
  {
   "cell_type": "markdown",
   "metadata": {},
   "source": [
    "# FCI"
   ]
  },
  {
   "cell_type": "code",
   "execution_count": 54,
   "metadata": {},
   "outputs": [],
   "source": [
    "from sklearn.cluster import KMeans\n",
    "from sklearn.preprocessing import MinMaxScaler\n",
    "import numpy as np\n",
    "\n",
    "data  = pd.read_csv(\"Result\\FCI.csv\",header=None)\n",
    "x = data.iloc[:,1:].to_numpy(copy=True).T\n",
    "kmeans = KMeans(n_clusters=4, random_state=0)\n",
    "\n",
    "result_min = []\n",
    "result_max = []\n",
    "for i in range(16):\n",
    "    t = x[:,i].reshape(-1,1)\n",
    "    kmeans.fit(t)\n",
    "    label = kmeans.labels_\n",
    "    x1 = t[np.where(label==0)[0].tolist(),:]\n",
    "    x2 = t[np.where(label==1)[0].tolist(),:]\n",
    "    x3 = t[np.where(label==2)[0].tolist(),:]\n",
    "    x4 = t[np.where(label==3)[0].tolist(),:]\n",
    "    label_min = [np.min(x1),np.min(x2),np.min(x3),np.min(x4)]\n",
    "    label_min.sort()\n",
    "    result_min.append(label_min)\n",
    "\n",
    "result_min = np.array(result_min)"
   ]
  },
  {
   "cell_type": "code",
   "execution_count": 55,
   "metadata": {},
   "outputs": [
    {
     "name": "stdout",
     "output_type": "stream",
     "text": [
      "[24.716 36.743 49.144 60.11 ]\n",
      "[37.557 50.777 63.397 84.468]\n",
      "[37.15   49.9605 61.7535]\n"
     ]
    }
   ],
   "source": [
    "print(np.min(result_min,axis=0))\n",
    "print(np.max(result_min,axis=0))\n",
    "a = np.min(result_min,axis=0)[1:]\n",
    "b = np.max(result_min,axis=0)[:-1]\n",
    "print((a+b)/2)"
   ]
  },
  {
   "cell_type": "markdown",
   "metadata": {},
   "source": [
    "# ERI"
   ]
  },
  {
   "cell_type": "code",
   "execution_count": 56,
   "metadata": {},
   "outputs": [],
   "source": [
    "from sklearn.cluster import KMeans\n",
    "from sklearn.preprocessing import MinMaxScaler\n",
    "import numpy as np\n",
    "\n",
    "data  = pd.read_csv(\"Result\\ERI.csv\",header=None)\n",
    "x = data.iloc[:,1:].to_numpy(copy=True).T\n",
    "kmeans = KMeans(n_clusters=4, random_state=0)\n",
    "\n",
    "result_min = []\n",
    "result_max = []\n",
    "for i in range(16):\n",
    "    t = x[:,i].reshape(-1,1)\n",
    "    kmeans.fit(t)\n",
    "    label = kmeans.labels_\n",
    "    x1 = t[np.where(label==0)[0].tolist(),:]\n",
    "    x2 = t[np.where(label==1)[0].tolist(),:]\n",
    "    x3 = t[np.where(label==2)[0].tolist(),:]\n",
    "    x4 = t[np.where(label==3)[0].tolist(),:]\n",
    "    label_min = [np.min(x1),np.min(x2),np.min(x3),np.min(x4)]\n",
    "    label_min.sort()\n",
    "    result_min.append(label_min)\n",
    "\n",
    "result_min = np.array(result_min)"
   ]
  },
  {
   "cell_type": "code",
   "execution_count": 57,
   "metadata": {},
   "outputs": [
    {
     "name": "stdout",
     "output_type": "stream",
     "text": [
      "[ 0.404 19.072 34.351 68.223]\n",
      "[28.963 53.542 72.925 94.936]\n",
      "[24.0175 43.9465 70.574 ]\n"
     ]
    }
   ],
   "source": [
    "print(np.min(result_min,axis=0))\n",
    "print(np.max(result_min,axis=0))\n",
    "a = np.min(result_min,axis=0)[1:]\n",
    "b = np.max(result_min,axis=0)[:-1]\n",
    "print((a+b)/2)"
   ]
  },
  {
   "cell_type": "markdown",
   "metadata": {},
   "source": [
    "# ESI"
   ]
  },
  {
   "cell_type": "code",
   "execution_count": 58,
   "metadata": {},
   "outputs": [],
   "source": [
    "from sklearn.cluster import KMeans\n",
    "from sklearn.preprocessing import MinMaxScaler\n",
    "import numpy as np\n",
    "\n",
    "data  = pd.read_csv(\"Result\\ESI.csv\",header=None)\n",
    "x = data.iloc[:,1:].to_numpy(copy=True).T\n",
    "kmeans = KMeans(n_clusters=4, random_state=0)\n",
    "\n",
    "result_min = []\n",
    "result_max = []\n",
    "for i in range(16):\n",
    "    t = x[:,i].reshape(-1,1)\n",
    "    kmeans.fit(t)\n",
    "    label = kmeans.labels_\n",
    "    x1 = t[np.where(label==0)[0].tolist(),:]\n",
    "    x2 = t[np.where(label==1)[0].tolist(),:]\n",
    "    x3 = t[np.where(label==2)[0].tolist(),:]\n",
    "    x4 = t[np.where(label==3)[0].tolist(),:]\n",
    "    label_min = [np.min(x1),np.min(x2),np.min(x3),np.min(x4)]\n",
    "    label_min.sort()\n",
    "    result_min.append(label_min)\n",
    "\n",
    "result_min = np.array(result_min)"
   ]
  },
  {
   "cell_type": "code",
   "execution_count": 59,
   "metadata": {},
   "outputs": [
    {
     "name": "stdout",
     "output_type": "stream",
     "text": [
      "[1.0000e-02 2.3966e+01 4.2216e+01 5.8143e+01]\n",
      "[30.299 57.952 77.673 96.855]\n",
      "[27.1325 50.084  67.908 ]\n"
     ]
    }
   ],
   "source": [
    "print(np.min(result_min,axis=0))\n",
    "print(np.max(result_min,axis=0))\n",
    "a = np.min(result_min,axis=0)[1:]\n",
    "b = np.max(result_min,axis=0)[:-1]\n",
    "print((a+b)/2)"
   ]
  },
  {
   "cell_type": "markdown",
   "metadata": {},
   "source": [
    "# SHI"
   ]
  },
  {
   "cell_type": "code",
   "execution_count": 60,
   "metadata": {},
   "outputs": [],
   "source": [
    "from sklearn.cluster import KMeans\n",
    "from sklearn.preprocessing import MinMaxScaler\n",
    "import numpy as np\n",
    "\n",
    "data  = pd.read_csv(\"Result\\SHI.csv\",header=None)\n",
    "x = data.iloc[:,1:].to_numpy(copy=True).T\n",
    "kmeans = KMeans(n_clusters=4, random_state=0)\n",
    "\n",
    "result_min = []\n",
    "result_max = []\n",
    "for i in range(16):\n",
    "    t = x[:,i].reshape(-1,1)\n",
    "    kmeans.fit(t)\n",
    "    label = kmeans.labels_\n",
    "    x1 = t[np.where(label==0)[0].tolist(),:]\n",
    "    x2 = t[np.where(label==1)[0].tolist(),:]\n",
    "    x3 = t[np.where(label==2)[0].tolist(),:]\n",
    "    x4 = t[np.where(label==3)[0].tolist(),:]\n",
    "    label_min = [np.min(x1),np.min(x2),np.min(x3),np.min(x4)]\n",
    "    label_min.sort()\n",
    "    result_min.append(label_min)\n",
    "\n",
    "result_min = np.array(result_min)"
   ]
  },
  {
   "cell_type": "code",
   "execution_count": 61,
   "metadata": {},
   "outputs": [
    {
     "name": "stdout",
     "output_type": "stream",
     "text": [
      "[1.0000e-02 2.7641e+01 4.5592e+01 6.5493e+01]\n",
      "[41.034 58.58  67.749 91.702]\n",
      "[34.3375 52.086  66.621 ]\n"
     ]
    }
   ],
   "source": [
    "print(np.min(result_min,axis=0))\n",
    "print(np.max(result_min,axis=0))\n",
    "a = np.min(result_min,axis=0)[1:]\n",
    "b = np.max(result_min,axis=0)[:-1]\n",
    "print((a+b)/2)"
   ]
  },
  {
   "cell_type": "code",
   "execution_count": null,
   "metadata": {},
   "outputs": [],
   "source": [
    "\n",
    "[37.15   49.9605 61.7535]\n",
    "[24.0175 43.9465 70.574 ]\n",
    "[27.1325 50.084  67.908 ]\n",
    "[34.3375 52.086  66.621 ]"
   ]
  }
 ],
 "metadata": {
  "interpreter": {
   "hash": "b3ba2566441a7c06988d0923437866b63cedc61552a5af99d1f4fb67d367b25f"
  },
  "kernelspec": {
   "display_name": "Python 3.8.3 64-bit ('base': conda)",
   "language": "python",
   "name": "python3"
  },
  "language_info": {
   "codemirror_mode": {
    "name": "ipython",
    "version": 3
   },
   "file_extension": ".py",
   "mimetype": "text/x-python",
   "name": "python",
   "nbconvert_exporter": "python",
   "pygments_lexer": "ipython3",
   "version": "3.8.3"
  },
  "orig_nbformat": 4
 },
 "nbformat": 4,
 "nbformat_minor": 2
}
