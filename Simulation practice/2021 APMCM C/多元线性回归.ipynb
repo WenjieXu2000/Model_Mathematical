{
 "cells": [
  {
   "cell_type": "code",
   "execution_count": 2,
   "metadata": {
    "ExecuteTime": {
     "end_time": "2021-12-13T17:23:03.561402Z",
     "start_time": "2021-12-13T17:23:01.493403Z"
    }
   },
   "outputs": [
    {
     "name": "stderr",
     "output_type": "stream",
     "text": [
      "C:\\ProgramData\\Anaconda3\\lib\\site-packages\\torchvision\\io\\image.py:11: UserWarning: Failed to load image Python extension: Could not find module 'C:\\ProgramData\\Anaconda3\\Lib\\site-packages\\torchvision\\image.pyd' (or one of its dependencies). Try using the full path with constructor syntax.\n",
      "  warn(f\"Failed to load image Python extension: {e}\")\n"
     ]
    }
   ],
   "source": [
    "import pandas as pd\n",
    "import numpy as np\n",
    "import seaborn as sns\n",
    "import matplotlib.pyplot as plt\n",
    "from cca_zoo.models import CCA"
   ]
  },
  {
   "cell_type": "markdown",
   "metadata": {},
   "source": [
    "# 数据描述"
   ]
  },
  {
   "cell_type": "code",
   "execution_count": 3,
   "metadata": {
    "ExecuteTime": {
     "end_time": "2021-12-13T17:24:40.435808Z",
     "start_time": "2021-12-13T17:24:40.423809Z"
    }
   },
   "outputs": [
    {
     "data": {
      "text/html": [
       "<div>\n",
       "<style scoped>\n",
       "    .dataframe tbody tr th:only-of-type {\n",
       "        vertical-align: middle;\n",
       "    }\n",
       "\n",
       "    .dataframe tbody tr th {\n",
       "        vertical-align: top;\n",
       "    }\n",
       "\n",
       "    .dataframe thead th {\n",
       "        text-align: right;\n",
       "    }\n",
       "</style>\n",
       "<table border=\"1\" class=\"dataframe\">\n",
       "  <thead>\n",
       "    <tr style=\"text-align: right;\">\n",
       "      <th></th>\n",
       "      <th>覆盖面积/万亩</th>\n",
       "      <th>降水量(mm)</th>\n",
       "      <th>最大能见度</th>\n",
       "      <th>平均最大瞬时风速(knots)</th>\n",
       "      <th>降尘量吨/月</th>\n",
       "    </tr>\n",
       "  </thead>\n",
       "  <tbody>\n",
       "    <tr>\n",
       "      <th>0</th>\n",
       "      <td>88.11</td>\n",
       "      <td>870.71</td>\n",
       "      <td>19.15</td>\n",
       "      <td>28.69</td>\n",
       "      <td>21.90</td>\n",
       "    </tr>\n",
       "    <tr>\n",
       "      <th>1</th>\n",
       "      <td>89.85</td>\n",
       "      <td>649.22</td>\n",
       "      <td>18.35</td>\n",
       "      <td>28.01</td>\n",
       "      <td>20.00</td>\n",
       "    </tr>\n",
       "    <tr>\n",
       "      <th>2</th>\n",
       "      <td>91.54</td>\n",
       "      <td>791.97</td>\n",
       "      <td>18.35</td>\n",
       "      <td>28.68</td>\n",
       "      <td>12.30</td>\n",
       "    </tr>\n",
       "    <tr>\n",
       "      <th>3</th>\n",
       "      <td>93.15</td>\n",
       "      <td>463.30</td>\n",
       "      <td>18.02</td>\n",
       "      <td>26.72</td>\n",
       "      <td>16.40</td>\n",
       "    </tr>\n",
       "    <tr>\n",
       "      <th>4</th>\n",
       "      <td>94.65</td>\n",
       "      <td>841.25</td>\n",
       "      <td>17.70</td>\n",
       "      <td>25.64</td>\n",
       "      <td>15.20</td>\n",
       "    </tr>\n",
       "    <tr>\n",
       "      <th>5</th>\n",
       "      <td>96.02</td>\n",
       "      <td>49.02</td>\n",
       "      <td>16.42</td>\n",
       "      <td>24.85</td>\n",
       "      <td>14.95</td>\n",
       "    </tr>\n",
       "    <tr>\n",
       "      <th>6</th>\n",
       "      <td>97.22</td>\n",
       "      <td>434.59</td>\n",
       "      <td>16.09</td>\n",
       "      <td>25.95</td>\n",
       "      <td>15.43</td>\n",
       "    </tr>\n",
       "    <tr>\n",
       "      <th>7</th>\n",
       "      <td>98.23</td>\n",
       "      <td>448.56</td>\n",
       "      <td>19.15</td>\n",
       "      <td>27.65</td>\n",
       "      <td>15.18</td>\n",
       "    </tr>\n",
       "    <tr>\n",
       "      <th>8</th>\n",
       "      <td>99.00</td>\n",
       "      <td>443.99</td>\n",
       "      <td>16.90</td>\n",
       "      <td>26.25</td>\n",
       "      <td>13.23</td>\n",
       "    </tr>\n",
       "    <tr>\n",
       "      <th>9</th>\n",
       "      <td>99.58</td>\n",
       "      <td>471.17</td>\n",
       "      <td>16.58</td>\n",
       "      <td>25.69</td>\n",
       "      <td>11.98</td>\n",
       "    </tr>\n",
       "    <tr>\n",
       "      <th>10</th>\n",
       "      <td>100.05</td>\n",
       "      <td>521.21</td>\n",
       "      <td>16.58</td>\n",
       "      <td>26.83</td>\n",
       "      <td>12.30</td>\n",
       "    </tr>\n",
       "    <tr>\n",
       "      <th>11</th>\n",
       "      <td>100.44</td>\n",
       "      <td>467.61</td>\n",
       "      <td>18.35</td>\n",
       "      <td>27.59</td>\n",
       "      <td>12.50</td>\n",
       "    </tr>\n",
       "    <tr>\n",
       "      <th>12</th>\n",
       "      <td>100.77</td>\n",
       "      <td>341.12</td>\n",
       "      <td>16.58</td>\n",
       "      <td>26.69</td>\n",
       "      <td>12.80</td>\n",
       "    </tr>\n",
       "    <tr>\n",
       "      <th>13</th>\n",
       "      <td>101.08</td>\n",
       "      <td>530.35</td>\n",
       "      <td>17.38</td>\n",
       "      <td>26.75</td>\n",
       "      <td>11.70</td>\n",
       "    </tr>\n",
       "    <tr>\n",
       "      <th>14</th>\n",
       "      <td>101.40</td>\n",
       "      <td>675.13</td>\n",
       "      <td>16.90</td>\n",
       "      <td>26.13</td>\n",
       "      <td>11.51</td>\n",
       "    </tr>\n",
       "    <tr>\n",
       "      <th>15</th>\n",
       "      <td>101.75</td>\n",
       "      <td>617.73</td>\n",
       "      <td>11.59</td>\n",
       "      <td>25.13</td>\n",
       "      <td>11.13</td>\n",
       "    </tr>\n",
       "    <tr>\n",
       "      <th>16</th>\n",
       "      <td>102.16</td>\n",
       "      <td>666.75</td>\n",
       "      <td>11.59</td>\n",
       "      <td>25.89</td>\n",
       "      <td>10.79</td>\n",
       "    </tr>\n",
       "    <tr>\n",
       "      <th>17</th>\n",
       "      <td>102.67</td>\n",
       "      <td>788.67</td>\n",
       "      <td>12.39</td>\n",
       "      <td>25.23</td>\n",
       "      <td>10.35</td>\n",
       "    </tr>\n",
       "    <tr>\n",
       "      <th>18</th>\n",
       "      <td>103.30</td>\n",
       "      <td>773.43</td>\n",
       "      <td>11.59</td>\n",
       "      <td>25.24</td>\n",
       "      <td>7.30</td>\n",
       "    </tr>\n",
       "    <tr>\n",
       "      <th>19</th>\n",
       "      <td>104.30</td>\n",
       "      <td>661.92</td>\n",
       "      <td>14.97</td>\n",
       "      <td>23.82</td>\n",
       "      <td>8.23</td>\n",
       "    </tr>\n",
       "    <tr>\n",
       "      <th>20</th>\n",
       "      <td>105.73</td>\n",
       "      <td>524.51</td>\n",
       "      <td>18.83</td>\n",
       "      <td>23.66</td>\n",
       "      <td>8.89</td>\n",
       "    </tr>\n",
       "    <tr>\n",
       "      <th>21</th>\n",
       "      <td>107.39</td>\n",
       "      <td>483.36</td>\n",
       "      <td>14.81</td>\n",
       "      <td>23.53</td>\n",
       "      <td>9.42</td>\n",
       "    </tr>\n",
       "    <tr>\n",
       "      <th>22</th>\n",
       "      <td>109.05</td>\n",
       "      <td>735.08</td>\n",
       "      <td>12.71</td>\n",
       "      <td>23.69</td>\n",
       "      <td>7.51</td>\n",
       "    </tr>\n",
       "    <tr>\n",
       "      <th>23</th>\n",
       "      <td>110.50</td>\n",
       "      <td>710.44</td>\n",
       "      <td>23.01</td>\n",
       "      <td>24.47</td>\n",
       "      <td>8.40</td>\n",
       "    </tr>\n",
       "    <tr>\n",
       "      <th>24</th>\n",
       "      <td>111.74</td>\n",
       "      <td>672.34</td>\n",
       "      <td>14.97</td>\n",
       "      <td>24.69</td>\n",
       "      <td>7.50</td>\n",
       "    </tr>\n",
       "    <tr>\n",
       "      <th>25</th>\n",
       "      <td>112.93</td>\n",
       "      <td>490.47</td>\n",
       "      <td>14.00</td>\n",
       "      <td>23.05</td>\n",
       "      <td>5.80</td>\n",
       "    </tr>\n",
       "    <tr>\n",
       "      <th>26</th>\n",
       "      <td>114.05</td>\n",
       "      <td>528.57</td>\n",
       "      <td>12.39</td>\n",
       "      <td>22.36</td>\n",
       "      <td>5.10</td>\n",
       "    </tr>\n",
       "    <tr>\n",
       "      <th>27</th>\n",
       "      <td>115.10</td>\n",
       "      <td>699.52</td>\n",
       "      <td>10.78</td>\n",
       "      <td>23.18</td>\n",
       "      <td>4.83</td>\n",
       "    </tr>\n",
       "  </tbody>\n",
       "</table>\n",
       "</div>"
      ],
      "text/plain": [
       "    覆盖面积/万亩  降水量(mm)  最大能见度  平均最大瞬时风速(knots)  降尘量吨/月\n",
       "0     88.11   870.71  19.15            28.69   21.90\n",
       "1     89.85   649.22  18.35            28.01   20.00\n",
       "2     91.54   791.97  18.35            28.68   12.30\n",
       "3     93.15   463.30  18.02            26.72   16.40\n",
       "4     94.65   841.25  17.70            25.64   15.20\n",
       "5     96.02    49.02  16.42            24.85   14.95\n",
       "6     97.22   434.59  16.09            25.95   15.43\n",
       "7     98.23   448.56  19.15            27.65   15.18\n",
       "8     99.00   443.99  16.90            26.25   13.23\n",
       "9     99.58   471.17  16.58            25.69   11.98\n",
       "10   100.05   521.21  16.58            26.83   12.30\n",
       "11   100.44   467.61  18.35            27.59   12.50\n",
       "12   100.77   341.12  16.58            26.69   12.80\n",
       "13   101.08   530.35  17.38            26.75   11.70\n",
       "14   101.40   675.13  16.90            26.13   11.51\n",
       "15   101.75   617.73  11.59            25.13   11.13\n",
       "16   102.16   666.75  11.59            25.89   10.79\n",
       "17   102.67   788.67  12.39            25.23   10.35\n",
       "18   103.30   773.43  11.59            25.24    7.30\n",
       "19   104.30   661.92  14.97            23.82    8.23\n",
       "20   105.73   524.51  18.83            23.66    8.89\n",
       "21   107.39   483.36  14.81            23.53    9.42\n",
       "22   109.05   735.08  12.71            23.69    7.51\n",
       "23   110.50   710.44  23.01            24.47    8.40\n",
       "24   111.74   672.34  14.97            24.69    7.50\n",
       "25   112.93   490.47  14.00            23.05    5.80\n",
       "26   114.05   528.57  12.39            22.36    5.10\n",
       "27   115.10   699.52  10.78            23.18    4.83"
      ]
     },
     "execution_count": 3,
     "metadata": {},
     "output_type": "execute_result"
    }
   ],
   "source": [
    "data = pd.read_csv(\"Preprocess Data\\第二问.csv\").iloc[:,[2,3,4,7,8]]\n",
    "data"
   ]
  },
  {
   "cell_type": "code",
   "execution_count": 4,
   "metadata": {},
   "outputs": [
    {
     "data": {
      "text/html": [
       "<div>\n",
       "<style scoped>\n",
       "    .dataframe tbody tr th:only-of-type {\n",
       "        vertical-align: middle;\n",
       "    }\n",
       "\n",
       "    .dataframe tbody tr th {\n",
       "        vertical-align: top;\n",
       "    }\n",
       "\n",
       "    .dataframe thead th {\n",
       "        text-align: right;\n",
       "    }\n",
       "</style>\n",
       "<table border=\"1\" class=\"dataframe\">\n",
       "  <thead>\n",
       "    <tr style=\"text-align: right;\">\n",
       "      <th></th>\n",
       "      <th>覆盖面积/万亩</th>\n",
       "      <th>降水量(mm)</th>\n",
       "      <th>最大能见度</th>\n",
       "      <th>平均最大瞬时风速(knots)</th>\n",
       "      <th>降尘量吨/月</th>\n",
       "    </tr>\n",
       "  </thead>\n",
       "  <tbody>\n",
       "    <tr>\n",
       "      <th>覆盖面积/万亩</th>\n",
       "      <td>1.000000</td>\n",
       "      <td>0.016729</td>\n",
       "      <td>-0.468653</td>\n",
       "      <td>-0.852724</td>\n",
       "      <td>-0.928601</td>\n",
       "    </tr>\n",
       "    <tr>\n",
       "      <th>降水量(mm)</th>\n",
       "      <td>0.016729</td>\n",
       "      <td>1.000000</td>\n",
       "      <td>-0.120975</td>\n",
       "      <td>0.075588</td>\n",
       "      <td>-0.095220</td>\n",
       "    </tr>\n",
       "    <tr>\n",
       "      <th>最大能见度</th>\n",
       "      <td>-0.468653</td>\n",
       "      <td>-0.120975</td>\n",
       "      <td>1.000000</td>\n",
       "      <td>0.517947</td>\n",
       "      <td>0.545101</td>\n",
       "    </tr>\n",
       "    <tr>\n",
       "      <th>平均最大瞬时风速(knots)</th>\n",
       "      <td>-0.852724</td>\n",
       "      <td>0.075588</td>\n",
       "      <td>0.517947</td>\n",
       "      <td>1.000000</td>\n",
       "      <td>0.807380</td>\n",
       "    </tr>\n",
       "    <tr>\n",
       "      <th>降尘量吨/月</th>\n",
       "      <td>-0.928601</td>\n",
       "      <td>-0.095220</td>\n",
       "      <td>0.545101</td>\n",
       "      <td>0.807380</td>\n",
       "      <td>1.000000</td>\n",
       "    </tr>\n",
       "  </tbody>\n",
       "</table>\n",
       "</div>"
      ],
      "text/plain": [
       "                  覆盖面积/万亩   降水量(mm)     最大能见度  平均最大瞬时风速(knots)    降尘量吨/月\n",
       "覆盖面积/万亩          1.000000  0.016729 -0.468653        -0.852724 -0.928601\n",
       "降水量(mm)          0.016729  1.000000 -0.120975         0.075588 -0.095220\n",
       "最大能见度           -0.468653 -0.120975  1.000000         0.517947  0.545101\n",
       "平均最大瞬时风速(knots) -0.852724  0.075588  0.517947         1.000000  0.807380\n",
       "降尘量吨/月          -0.928601 -0.095220  0.545101         0.807380  1.000000"
      ]
     },
     "execution_count": 4,
     "metadata": {},
     "output_type": "execute_result"
    }
   ],
   "source": [
    "data.corr(method='pearson')"
   ]
  },
  {
   "cell_type": "code",
   "execution_count": 5,
   "metadata": {},
   "outputs": [],
   "source": [
    "from sklearn.preprocessing import MinMaxScaler\n",
    "scaler = MinMaxScaler()\n",
    "data = scaler.fit_transform(data)"
   ]
  },
  {
   "cell_type": "code",
   "execution_count": 20,
   "metadata": {},
   "outputs": [
    {
     "data": {
      "image/png": "[encoded data removed]",
      "text/plain": [
       "<Figure size 720x576 with 4 Axes>"
      ]
     },
     "metadata": {
      "needs_background": "light"
     },
     "output_type": "display_data"
    }
   ],
   "source": [
    "# 森林覆盖面积与因素的折线图\n",
    "fig, ax = plt.subplots(nrows=2,ncols=2,figsize=(10,8))\n",
    "ax[0,0].plot(data[:,0],'-o',color='#333E50',label='Forest covering area')\n",
    "ax[0,0].plot(data[:,1],'-o',color='#891C13',label='Precipitation')\n",
    "ax[0,0].legend()\n",
    "\n",
    "ax[0,1].plot(data[:,0],'-o',color='#333E50',label='Forest covering area')\n",
    "ax[0,1].plot(data[:,2],'-o',color='#891C13',label='Maximum visibility')\n",
    "ax[0,1].legend()\n",
    "\n",
    "ax[1,0].plot(data[:,0],'-o',color='#333E50',label='Forest covering area')\n",
    "ax[1,0].plot(data[:,3],'-o',color='#891C13',label='Average maximum instantaneous wind speed')\n",
    "ax[1,0].legend()\n",
    "\n",
    "ax[1,1].plot(data[:,0],'-o',color='#333E50',label='Forest covering area')\n",
    "ax[1,1].plot(data[:,4],'-o',color='#891C13',label='Dust reduction')\n",
    "ax[1,1].legend()\n",
    "\n",
    "plt.savefig('皮尔逊.jpg',dpi=300)"
   ]
  },
  {
   "cell_type": "markdown",
   "metadata": {},
   "source": [
    "- Pearson 相关系数以及典型相关分析都要求样本数据满足正态分布的要求\n",
    "- 因此，我们首先对样本数据的正态分布进行检验"
   ]
  },
  {
   "cell_type": "code",
   "execution_count": 22,
   "metadata": {},
   "outputs": [
    {
     "name": "stdout",
     "output_type": "stream",
     "text": [
      "Shapiro wilk Test Statstic:0.974230945110321   Pvalue:0.697206974029541\n",
      "Shapiro wilk Test Statstic:0.9344239234924316   Pvalue:0.07976467162370682\n",
      "Shapiro wilk Test Statstic:0.9483016133308411   Pvalue:0.1795463114976883\n",
      "Shapiro wilk Test Statstic:0.9761701822280884   Pvalue:0.7509426474571228\n",
      "Shapiro wilk Test Statstic:0.9653383493423462   Pvalue:0.46256113052368164\n"
     ]
    }
   ],
   "source": [
    "from scipy import stats\n",
    "# Statstic: 代表显著性水平\n",
    "# P: 代表概率论与数理统计中的P值\n",
    "shapiro_test = stats.shapiro(data[:,0])\n",
    "print(\"Shapiro wilk Test Statstic:{}   Pvalue:{}\".format(shapiro_test.statistic,shapiro_test.pvalue))\n",
    "shapiro_test = stats.shapiro(data[:,1])\n",
    "print(\"Shapiro wilk Test Statstic:{}   Pvalue:{}\".format(shapiro_test.statistic,shapiro_test.pvalue))\n",
    "shapiro_test = stats.shapiro(data[:,2])\n",
    "print(\"Shapiro wilk Test Statstic:{}   Pvalue:{}\".format(shapiro_test.statistic,shapiro_test.pvalue))\n",
    "shapiro_test = stats.shapiro(data[:,3])\n",
    "print(\"Shapiro wilk Test Statstic:{}   Pvalue:{}\".format(shapiro_test.statistic,shapiro_test.pvalue))\n",
    "shapiro_test = stats.shapiro(data[:,4])\n",
    "print(\"Shapiro wilk Test Statstic:{}   Pvalue:{}\".format(shapiro_test.statistic,shapiro_test.pvalue))"
   ]
  },
  {
   "cell_type": "code",
   "execution_count": 23,
   "metadata": {},
   "outputs": [],
   "source": [
    "import statsmodels.api as sm\n",
    "\n",
    "label_train = data[:, 0].reshape(-1,1)\n",
    "factor_train = data[:,2:]\n",
    "\n",
    "Y=label_train\n",
    "X=factor_train\n",
    "X=sm.add_constant(X) # 添加截距项"
   ]
  },
  {
   "cell_type": "code",
   "execution_count": 24,
   "metadata": {},
   "outputs": [],
   "source": [
    "model = sm.OLS(Y,X).fit()"
   ]
  },
  {
   "cell_type": "code",
   "execution_count": 25,
   "metadata": {},
   "outputs": [
    {
     "name": "stdout",
     "output_type": "stream",
     "text": [
      "F: 2.758710469717632\n",
      "T: 2.059538552753294\n"
     ]
    }
   ],
   "source": [
    "from scipy.stats import f,t\n",
    "F_Theroy = f.ppf(q=0.95,dfn = 4,dfd = 30-4-1)\n",
    "print('F: {}'.format(F_Theroy))\n",
    "T_Theroy = t.ppf(q=0.975,df=30-4-1)\n",
    "print('T: {}'.format(T_Theroy))"
   ]
  },
  {
   "cell_type": "code",
   "execution_count": 26,
   "metadata": {},
   "outputs": [
    {
     "data": {
      "text/html": [
       "<table class=\"simpletable\">\n",
       "<caption>OLS Regression Results</caption>\n",
       "<tr>\n",
       "  <th>Dep. Variable:</th>            <td>y</td>        <th>  R-squared:         </th> <td>   0.898</td>\n",
       "</tr>\n",
       "<tr>\n",
       "  <th>Model:</th>                   <td>OLS</td>       <th>  Adj. R-squared:    </th> <td>   0.885</td>\n",
       "</tr>\n",
       "<tr>\n",
       "  <th>Method:</th>             <td>Least Squares</td>  <th>  F-statistic:       </th> <td>   70.52</td>\n",
       "</tr>\n",
       "<tr>\n",
       "  <th>Date:</th>             <td>Thu, 20 Jan 2022</td> <th>  Prob (F-statistic):</th> <td>4.80e-12</td>\n",
       "</tr>\n",
       "<tr>\n",
       "  <th>Time:</th>                 <td>17:23:09</td>     <th>  Log-Likelihood:    </th> <td>  29.932</td>\n",
       "</tr>\n",
       "<tr>\n",
       "  <th>No. Observations:</th>      <td>    28</td>      <th>  AIC:               </th> <td>  -51.86</td>\n",
       "</tr>\n",
       "<tr>\n",
       "  <th>Df Residuals:</th>          <td>    24</td>      <th>  BIC:               </th> <td>  -46.53</td>\n",
       "</tr>\n",
       "<tr>\n",
       "  <th>Df Model:</th>              <td>     3</td>      <th>                     </th>     <td> </td>   \n",
       "</tr>\n",
       "<tr>\n",
       "  <th>Covariance Type:</th>      <td>nonrobust</td>    <th>                     </th>     <td> </td>   \n",
       "</tr>\n",
       "</table>\n",
       "<table class=\"simpletable\">\n",
       "<tr>\n",
       "    <td></td>       <th>coef</th>     <th>std err</th>      <th>t</th>      <th>P>|t|</th>  <th>[0.025</th>    <th>0.975]</th>  \n",
       "</tr>\n",
       "<tr>\n",
       "  <th>const</th> <td>    0.9322</td> <td>    0.040</td> <td>   23.487</td> <td> 0.000</td> <td>    0.850</td> <td>    1.014</td>\n",
       "</tr>\n",
       "<tr>\n",
       "  <th>x1</th>    <td>    0.0970</td> <td>    0.086</td> <td>    1.123</td> <td> 0.273</td> <td>   -0.081</td> <td>    0.275</td>\n",
       "</tr>\n",
       "<tr>\n",
       "  <th>x2</th>    <td>   -0.3075</td> <td>    0.109</td> <td>   -2.822</td> <td> 0.009</td> <td>   -0.532</td> <td>   -0.083</td>\n",
       "</tr>\n",
       "<tr>\n",
       "  <th>x3</th>    <td>   -0.7853</td> <td>    0.124</td> <td>   -6.328</td> <td> 0.000</td> <td>   -1.041</td> <td>   -0.529</td>\n",
       "</tr>\n",
       "</table>\n",
       "<table class=\"simpletable\">\n",
       "<tr>\n",
       "  <th>Omnibus:</th>       <td> 2.512</td> <th>  Durbin-Watson:     </th> <td>   1.051</td>\n",
       "</tr>\n",
       "<tr>\n",
       "  <th>Prob(Omnibus):</th> <td> 0.285</td> <th>  Jarque-Bera (JB):  </th> <td>   1.820</td>\n",
       "</tr>\n",
       "<tr>\n",
       "  <th>Skew:</th>          <td>-0.624</td> <th>  Prob(JB):          </th> <td>   0.403</td>\n",
       "</tr>\n",
       "<tr>\n",
       "  <th>Kurtosis:</th>      <td> 2.941</td> <th>  Cond. No.          </th> <td>    11.7</td>\n",
       "</tr>\n",
       "</table><br/><br/>Notes:<br/>[1] Standard Errors assume that the covariance matrix of the errors is correctly specified."
      ],
      "text/plain": [
       "<class 'statsmodels.iolib.summary.Summary'>\n",
       "\"\"\"\n",
       "                            OLS Regression Results                            \n",
       "==============================================================================\n",
       "Dep. Variable:                      y   R-squared:                       0.898\n",
       "Model:                            OLS   Adj. R-squared:                  0.885\n",
       "Method:                 Least Squares   F-statistic:                     70.52\n",
       "Date:                Thu, 20 Jan 2022   Prob (F-statistic):           4.80e-12\n",
       "Time:                        17:23:09   Log-Likelihood:                 29.932\n",
       "No. Observations:                  28   AIC:                            -51.86\n",
       "Df Residuals:                      24   BIC:                            -46.53\n",
       "Df Model:                           3                                         \n",
       "Covariance Type:            nonrobust                                         \n",
       "==============================================================================\n",
       "                 coef    std err          t      P>|t|      [0.025      0.975]\n",
       "------------------------------------------------------------------------------\n",
       "const          0.9322      0.040     23.487      0.000       0.850       1.014\n",
       "x1             0.0970      0.086      1.123      0.273      -0.081       0.275\n",
       "x2            -0.3075      0.109     -2.822      0.009      -0.532      -0.083\n",
       "x3            -0.7853      0.124     -6.328      0.000      -1.041      -0.529\n",
       "==============================================================================\n",
       "Omnibus:                        2.512   Durbin-Watson:                   1.051\n",
       "Prob(Omnibus):                  0.285   Jarque-Bera (JB):                1.820\n",
       "Skew:                          -0.624   Prob(JB):                        0.403\n",
       "Kurtosis:                       2.941   Cond. No.                         11.7\n",
       "==============================================================================\n",
       "\n",
       "Notes:\n",
       "[1] Standard Errors assume that the covariance matrix of the errors is correctly specified.\n",
       "\"\"\""
      ]
     },
     "execution_count": 26,
     "metadata": {},
     "output_type": "execute_result"
    }
   ],
   "source": [
    "model.summary()"
   ]
  },
  {
   "cell_type": "code",
   "execution_count": 36,
   "metadata": {},
   "outputs": [
    {
     "data": {
      "image/png": "[encoded data removed]",
      "text/plain": [
       "<Figure size 576x288 with 1 Axes>"
      ]
     },
     "metadata": {
      "needs_background": "light"
     },
     "output_type": "display_data"
    }
   ],
   "source": [
    "#绘制最佳拟合线：标签用的是训练数据的预测值y_train_pred\n",
    "y_pred = model.predict(X)\n",
    "fig,ax = plt.subplots(figsize=(8,4))\n",
    "ax.plot(label_train,color='#00b0ff',label=\"Observations\",linewidth=1.5)\n",
    "ax.plot(y_pred,color='#ff3d00',label=\"Prediction\",linewidth=1.5)\n",
    "ax.legend(loc=\"upper left\",fontsize=12)\n",
    "ax.grid(alpha=0.6)\n",
    "\n",
    "ax.spines['top'].set_visible(False)\n",
    "ax.spines['right'].set_visible(False)\n",
    "# 绘制 x 轴方向的箭头\n",
    "ax.annotate('', \n",
    "             xy=(1.06, 0), xycoords='axes fraction',\n",
    "             xytext=(-0.06, 0), textcoords='axes fraction',\n",
    "             arrowprops=dict(facecolor='black', shrink=0.05),\n",
    "             zorder=5)\n",
    "# 绘制 y 轴方向的箭头\n",
    "ax.annotate('', \n",
    "             xy=(0, 1.06), xycoords='axes fraction',\n",
    "             xytext=(0, -0.06), textcoords='axes fraction',\n",
    "             arrowprops=dict(facecolor='black', shrink=0.05),\n",
    "             zorder=5)\n",
    "\n",
    "ax.tick_params(labelsize=14)"
   ]
  },
  {
   "cell_type": "code",
   "execution_count": 100,
   "metadata": {},
   "outputs": [
    {
     "data": {
      "text/plain": [
       "array([ 0.09428568,  0.04465414, -0.21444042, -0.0587535 , -0.10831222,\n",
       "       -0.09727495,  0.02532471,  0.10954682, -0.00179527, -0.06248013,\n",
       "        0.02503587,  0.07156205,  0.06791517,  0.02535933,  0.00216414,\n",
       "       -0.00879485,  0.02767321, -0.01208416, -0.12223141, -0.13819569,\n",
       "       -0.09324979,  0.01822191,  0.01628785,  0.06711911,  0.14613994,\n",
       "        0.04004537,  0.02859298,  0.10768412])"
      ]
     },
     "execution_count": 100,
     "metadata": {},
     "output_type": "execute_result"
    }
   ],
   "source": [
    "#模型的残差\n",
    "error = model.resid\n",
    "error"
   ]
  },
  {
   "cell_type": "markdown",
   "metadata": {},
   "source": [
    "# 多重共线性检验\n",
    "## 方差膨胀系数（VIF）\n",
    "- 通常以10作为判断边界。\n",
    "  - 当VIF<10,不存在多重共线性；\n",
    "  - 当10<=VIF<100,存在较强的多重共线性；\n",
    "  - 当VIF>=100, 存在严重多重共线性。\n",
    "\n",
    "1. 多重共线性是普遍存在的，轻微的多重共线性问题可不采取措施。 \n",
    "2. 严重的多重共线性问题，一般可根据经验或通过分析回归结果发现。如影响系数符号，重要的解释变量t值很低。要根据不同情况采取必要措施。\n",
    "3. 如果模型仅用于预测，则只要拟合程度好，可不处理多重共线性问题，存在多重共线性的模型用于预测时，往往不影响预测结果。\n"
   ]
  },
  {
   "cell_type": "code",
   "execution_count": 108,
   "metadata": {},
   "outputs": [
    {
     "name": "stdout",
     "output_type": "stream",
     "text": [
      "5.147732881666058\n",
      "11.903493872882112\n",
      "11.291520889344524\n"
     ]
    }
   ],
   "source": [
    "from statsmodels.stats.outliers_influence import variance_inflation_factor\n",
    "\n",
    "for i in range(factor_train.shape[1]):\n",
    "    print(variance_inflation_factor(factor_train,i))"
   ]
  },
  {
   "cell_type": "code",
   "execution_count": 113,
   "metadata": {},
   "outputs": [
    {
     "data": {
      "text/plain": [
       "(10.831796044639631, 0.28741496073841477, 9)"
      ]
     },
     "execution_count": 113,
     "metadata": {},
     "output_type": "execute_result"
    }
   ],
   "source": [
    "from statsmodels.stats.diagnostic import spec_white\n",
    "# 异方差检验\n",
    "X=factor_train\n",
    "X=sm.add_constant(X) # 添加截距项\n",
    "error = model.resid  #模型的残差\n",
    "\n",
    "spec_white(error,X)\n",
    "print(\"P值为 0.28741496073841477，接受原假设，不存在异方差性\")"
   ]
  },
  {
   "cell_type": "code",
   "execution_count": 118,
   "metadata": {},
   "outputs": [
    {
     "name": "stdout",
     "output_type": "stream",
     "text": [
      "P值为1.87，接受原假设，不存在自相关性\n"
     ]
    }
   ],
   "source": [
    "from statsmodels.stats.diagnostic import acorr_breusch_godfrey\n",
    "# 自相关性检验\n",
    "acorr_breusch_godfrey(model)\n",
    "print(\"P值为1.87，接受原假设，不存在自相关性\")"
   ]
  },
  {
   "cell_type": "code",
   "execution_count": null,
   "metadata": {},
   "outputs": [],
   "source": []
  }
 ],
 "metadata": {
  "kernelspec": {
   "display_name": "Python 3 (ipykernel)",
   "language": "python",
   "name": "python3"
  },
  "language_info": {
   "codemirror_mode": {
    "name": "ipython",
    "version": 3
   },
   "file_extension": ".py",
   "mimetype": "text/x-python",
   "name": "python",
   "nbconvert_exporter": "python",
   "pygments_lexer": "ipython3",
   "version": "3.8.12"
  },
  "nbTranslate": {
   "displayLangs": [
    "*"
   ],
   "hotkey": "alt-t",
   "langInMainMenu": true,
   "sourceLang": "en",
   "targetLang": "fr",
   "useGoogleTranslate": true
  },
  "toc": {
   "base_numbering": 1,
   "nav_menu": {},
   "number_sections": true,
   "sideBar": true,
   "skip_h1_title": false,
   "title_cell": "Table of Contents",
   "title_sidebar": "Contents",
   "toc_cell": false,
   "toc_position": {
    "height": "calc(100% - 180px)",
    "left": "10px",
    "top": "150px",
    "width": "196.997px"
   },
   "toc_section_display": true,
   "toc_window_display": true
  }
 },
 "nbformat": 4,
 "nbformat_minor": 4
}
