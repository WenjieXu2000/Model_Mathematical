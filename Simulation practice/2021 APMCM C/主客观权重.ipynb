{
 "cells": [
  {
   "cell_type": "code",
   "execution_count": 69,
   "metadata": {},
   "outputs": [],
   "source": [
    "import numpy as np\n",
    "import pandas as pd"
   ]
  },
  {
   "cell_type": "code",
   "execution_count": 134,
   "metadata": {},
   "outputs": [
    {
     "data": {
      "text/html": [
       "<div>\n",
       "<style scoped>\n",
       "    .dataframe tbody tr th:only-of-type {\n",
       "        vertical-align: middle;\n",
       "    }\n",
       "\n",
       "    .dataframe tbody tr th {\n",
       "        vertical-align: top;\n",
       "    }\n",
       "\n",
       "    .dataframe thead th {\n",
       "        text-align: right;\n",
       "    }\n",
       "</style>\n",
       "<table border=\"1\" class=\"dataframe\">\n",
       "  <thead>\n",
       "    <tr style=\"text-align: right;\">\n",
       "      <th></th>\n",
       "      <th>年份</th>\n",
       "      <th>自然保护区面积(万公顷)</th>\n",
       "      <th>森林病虫鼠害防治率(%)</th>\n",
       "      <th>森林覆盖率(%)</th>\n",
       "      <th>水土流失治理面积</th>\n",
       "      <th>降水量</th>\n",
       "      <th>地表水供水总量(亿立方米)</th>\n",
       "      <th>地表水水质达标率/%</th>\n",
       "      <th>空气质量优良天数</th>\n",
       "      <th>市区PM2.5浓度/微克每立方米</th>\n",
       "    </tr>\n",
       "  </thead>\n",
       "  <tbody>\n",
       "    <tr>\n",
       "      <th>0</th>\n",
       "      <td>2000</td>\n",
       "      <td>9.5</td>\n",
       "      <td>97.0</td>\n",
       "      <td>22.3</td>\n",
       "      <td>5328.3</td>\n",
       "      <td>5647.9</td>\n",
       "      <td>34.0</td>\n",
       "      <td>50.0</td>\n",
       "      <td>169.0</td>\n",
       "      <td>68</td>\n",
       "    </tr>\n",
       "    <tr>\n",
       "      <th>1</th>\n",
       "      <td>2001</td>\n",
       "      <td>18.9</td>\n",
       "      <td>94.5</td>\n",
       "      <td>22.3</td>\n",
       "      <td>5485.6</td>\n",
       "      <td>4943.3</td>\n",
       "      <td>34.9</td>\n",
       "      <td>52.0</td>\n",
       "      <td>183.5</td>\n",
       "      <td>65</td>\n",
       "    </tr>\n",
       "    <tr>\n",
       "      <th>2</th>\n",
       "      <td>2002</td>\n",
       "      <td>28.3</td>\n",
       "      <td>92.0</td>\n",
       "      <td>22.3</td>\n",
       "      <td>5642.9</td>\n",
       "      <td>9679.4</td>\n",
       "      <td>35.8</td>\n",
       "      <td>54.0</td>\n",
       "      <td>198.0</td>\n",
       "      <td>62</td>\n",
       "    </tr>\n",
       "    <tr>\n",
       "      <th>3</th>\n",
       "      <td>2003</td>\n",
       "      <td>37.7</td>\n",
       "      <td>89.5</td>\n",
       "      <td>22.3</td>\n",
       "      <td>5791.7</td>\n",
       "      <td>13328.0</td>\n",
       "      <td>36.7</td>\n",
       "      <td>56.0</td>\n",
       "      <td>212.5</td>\n",
       "      <td>59</td>\n",
       "    </tr>\n",
       "    <tr>\n",
       "      <th>4</th>\n",
       "      <td>2004</td>\n",
       "      <td>47.1</td>\n",
       "      <td>87.0</td>\n",
       "      <td>22.3</td>\n",
       "      <td>5876.5</td>\n",
       "      <td>11897.0</td>\n",
       "      <td>37.6</td>\n",
       "      <td>58.0</td>\n",
       "      <td>227.0</td>\n",
       "      <td>57</td>\n",
       "    </tr>\n",
       "    <tr>\n",
       "      <th>5</th>\n",
       "      <td>2005</td>\n",
       "      <td>56.5</td>\n",
       "      <td>84.5</td>\n",
       "      <td>22.3</td>\n",
       "      <td>5981.2</td>\n",
       "      <td>11798.0</td>\n",
       "      <td>38.5</td>\n",
       "      <td>60.0</td>\n",
       "      <td>256.0</td>\n",
       "      <td>55</td>\n",
       "    </tr>\n",
       "    <tr>\n",
       "      <th>6</th>\n",
       "      <td>2006</td>\n",
       "      <td>59.7</td>\n",
       "      <td>81.0</td>\n",
       "      <td>22.3</td>\n",
       "      <td>6076.2</td>\n",
       "      <td>10346.0</td>\n",
       "      <td>38.7</td>\n",
       "      <td>62.0</td>\n",
       "      <td>277.0</td>\n",
       "      <td>53</td>\n",
       "    </tr>\n",
       "    <tr>\n",
       "      <th>7</th>\n",
       "      <td>2007</td>\n",
       "      <td>56.6</td>\n",
       "      <td>90.8</td>\n",
       "      <td>22.3</td>\n",
       "      <td>6133.7</td>\n",
       "      <td>11710.0</td>\n",
       "      <td>38.9</td>\n",
       "      <td>64.0</td>\n",
       "      <td>306.0</td>\n",
       "      <td>52</td>\n",
       "    </tr>\n",
       "    <tr>\n",
       "      <th>8</th>\n",
       "      <td>2008</td>\n",
       "      <td>56.7</td>\n",
       "      <td>95.8</td>\n",
       "      <td>22.3</td>\n",
       "      <td>6194.0</td>\n",
       "      <td>12632.0</td>\n",
       "      <td>37.8</td>\n",
       "      <td>72.0</td>\n",
       "      <td>320.0</td>\n",
       "      <td>51</td>\n",
       "    </tr>\n",
       "    <tr>\n",
       "      <th>9</th>\n",
       "      <td>2009</td>\n",
       "      <td>57.2</td>\n",
       "      <td>100.0</td>\n",
       "      <td>23.4</td>\n",
       "      <td>6230.7</td>\n",
       "      <td>11604.0</td>\n",
       "      <td>37.5</td>\n",
       "      <td>75.0</td>\n",
       "      <td>334.0</td>\n",
       "      <td>51</td>\n",
       "    </tr>\n",
       "    <tr>\n",
       "      <th>10</th>\n",
       "      <td>2010</td>\n",
       "      <td>58.7</td>\n",
       "      <td>100.0</td>\n",
       "      <td>23.4</td>\n",
       "      <td>6290.3</td>\n",
       "      <td>11717.0</td>\n",
       "      <td>36.1</td>\n",
       "      <td>78.3</td>\n",
       "      <td>337.0</td>\n",
       "      <td>50</td>\n",
       "    </tr>\n",
       "    <tr>\n",
       "      <th>11</th>\n",
       "      <td>2011</td>\n",
       "      <td>58.7</td>\n",
       "      <td>82.7</td>\n",
       "      <td>23.4</td>\n",
       "      <td>6351.5</td>\n",
       "      <td>14353.0</td>\n",
       "      <td>38.5</td>\n",
       "      <td>84.6</td>\n",
       "      <td>339.0</td>\n",
       "      <td>50</td>\n",
       "    </tr>\n",
       "    <tr>\n",
       "      <th>12</th>\n",
       "      <td>2012</td>\n",
       "      <td>69.3</td>\n",
       "      <td>77.7</td>\n",
       "      <td>23.4</td>\n",
       "      <td>6411.5</td>\n",
       "      <td>11959.0</td>\n",
       "      <td>41.3</td>\n",
       "      <td>56.0</td>\n",
       "      <td>340.0</td>\n",
       "      <td>50</td>\n",
       "    </tr>\n",
       "    <tr>\n",
       "      <th>13</th>\n",
       "      <td>2013</td>\n",
       "      <td>70.7</td>\n",
       "      <td>81.8</td>\n",
       "      <td>23.4</td>\n",
       "      <td>4679.1</td>\n",
       "      <td>10421.0</td>\n",
       "      <td>43.1</td>\n",
       "      <td>68.0</td>\n",
       "      <td>265.0</td>\n",
       "      <td>50</td>\n",
       "    </tr>\n",
       "    <tr>\n",
       "      <th>14</th>\n",
       "      <td>2014</td>\n",
       "      <td>70.5</td>\n",
       "      <td>83.9</td>\n",
       "      <td>26.8</td>\n",
       "      <td>4826.4</td>\n",
       "      <td>12150.0</td>\n",
       "      <td>46.8</td>\n",
       "      <td>84.0</td>\n",
       "      <td>242.0</td>\n",
       "      <td>52</td>\n",
       "    </tr>\n",
       "    <tr>\n",
       "      <th>15</th>\n",
       "      <td>2015</td>\n",
       "      <td>70.0</td>\n",
       "      <td>78.5</td>\n",
       "      <td>26.8</td>\n",
       "      <td>5061.6</td>\n",
       "      <td>14254.0</td>\n",
       "      <td>48.7</td>\n",
       "      <td>88.0</td>\n",
       "      <td>269.0</td>\n",
       "      <td>43</td>\n",
       "    </tr>\n",
       "    <tr>\n",
       "      <th>16</th>\n",
       "      <td>2016</td>\n",
       "      <td>71.0</td>\n",
       "      <td>90.7</td>\n",
       "      <td>26.8</td>\n",
       "      <td>5187.9</td>\n",
       "      <td>11918.0</td>\n",
       "      <td>51.5</td>\n",
       "      <td>100.0</td>\n",
       "      <td>275.0</td>\n",
       "      <td>40</td>\n",
       "    </tr>\n",
       "    <tr>\n",
       "      <th>17</th>\n",
       "      <td>2017</td>\n",
       "      <td>70.9</td>\n",
       "      <td>94.5</td>\n",
       "      <td>26.8</td>\n",
       "      <td>5379.1</td>\n",
       "      <td>11984.0</td>\n",
       "      <td>59.4</td>\n",
       "      <td>100.0</td>\n",
       "      <td>291.0</td>\n",
       "      <td>35</td>\n",
       "    </tr>\n",
       "    <tr>\n",
       "      <th>18</th>\n",
       "      <td>2018</td>\n",
       "      <td>70.8</td>\n",
       "      <td>94.1</td>\n",
       "      <td>26.8</td>\n",
       "      <td>5532.5</td>\n",
       "      <td>10743.0</td>\n",
       "      <td>70.4</td>\n",
       "      <td>100.0</td>\n",
       "      <td>299.5</td>\n",
       "      <td>32</td>\n",
       "    </tr>\n",
       "    <tr>\n",
       "      <th>19</th>\n",
       "      <td>2019</td>\n",
       "      <td>70.7</td>\n",
       "      <td>92.4</td>\n",
       "      <td>26.8</td>\n",
       "      <td>5722.2</td>\n",
       "      <td>9501.7</td>\n",
       "      <td>78.3</td>\n",
       "      <td>100.0</td>\n",
       "      <td>308.0</td>\n",
       "      <td>29</td>\n",
       "    </tr>\n",
       "    <tr>\n",
       "      <th>20</th>\n",
       "      <td>2020</td>\n",
       "      <td>70.6</td>\n",
       "      <td>91.8</td>\n",
       "      <td>26.8</td>\n",
       "      <td>5934.4</td>\n",
       "      <td>8260.4</td>\n",
       "      <td>84.8</td>\n",
       "      <td>100.0</td>\n",
       "      <td>322.0</td>\n",
       "      <td>27</td>\n",
       "    </tr>\n",
       "  </tbody>\n",
       "</table>\n",
       "</div>"
      ],
      "text/plain": [
       "      年份  自然保护区面积(万公顷)  森林病虫鼠害防治率(%)  森林覆盖率(%)  水土流失治理面积      降水量  \\\n",
       "0   2000           9.5          97.0      22.3    5328.3   5647.9   \n",
       "1   2001          18.9          94.5      22.3    5485.6   4943.3   \n",
       "2   2002          28.3          92.0      22.3    5642.9   9679.4   \n",
       "3   2003          37.7          89.5      22.3    5791.7  13328.0   \n",
       "4   2004          47.1          87.0      22.3    5876.5  11897.0   \n",
       "5   2005          56.5          84.5      22.3    5981.2  11798.0   \n",
       "6   2006          59.7          81.0      22.3    6076.2  10346.0   \n",
       "7   2007          56.6          90.8      22.3    6133.7  11710.0   \n",
       "8   2008          56.7          95.8      22.3    6194.0  12632.0   \n",
       "9   2009          57.2         100.0      23.4    6230.7  11604.0   \n",
       "10  2010          58.7         100.0      23.4    6290.3  11717.0   \n",
       "11  2011          58.7          82.7      23.4    6351.5  14353.0   \n",
       "12  2012          69.3          77.7      23.4    6411.5  11959.0   \n",
       "13  2013          70.7          81.8      23.4    4679.1  10421.0   \n",
       "14  2014          70.5          83.9      26.8    4826.4  12150.0   \n",
       "15  2015          70.0          78.5      26.8    5061.6  14254.0   \n",
       "16  2016          71.0          90.7      26.8    5187.9  11918.0   \n",
       "17  2017          70.9          94.5      26.8    5379.1  11984.0   \n",
       "18  2018          70.8          94.1      26.8    5532.5  10743.0   \n",
       "19  2019          70.7          92.4      26.8    5722.2   9501.7   \n",
       "20  2020          70.6          91.8      26.8    5934.4   8260.4   \n",
       "\n",
       "    地表水供水总量(亿立方米)  地表水水质达标率/%  空气质量优良天数  市区PM2.5浓度/微克每立方米  \n",
       "0            34.0        50.0     169.0                68  \n",
       "1            34.9        52.0     183.5                65  \n",
       "2            35.8        54.0     198.0                62  \n",
       "3            36.7        56.0     212.5                59  \n",
       "4            37.6        58.0     227.0                57  \n",
       "5            38.5        60.0     256.0                55  \n",
       "6            38.7        62.0     277.0                53  \n",
       "7            38.9        64.0     306.0                52  \n",
       "8            37.8        72.0     320.0                51  \n",
       "9            37.5        75.0     334.0                51  \n",
       "10           36.1        78.3     337.0                50  \n",
       "11           38.5        84.6     339.0                50  \n",
       "12           41.3        56.0     340.0                50  \n",
       "13           43.1        68.0     265.0                50  \n",
       "14           46.8        84.0     242.0                52  \n",
       "15           48.7        88.0     269.0                43  \n",
       "16           51.5       100.0     275.0                40  \n",
       "17           59.4       100.0     291.0                35  \n",
       "18           70.4       100.0     299.5                32  \n",
       "19           78.3       100.0     308.0                29  \n",
       "20           84.8       100.0     322.0                27  "
      ]
     },
     "execution_count": 134,
     "metadata": {},
     "output_type": "execute_result"
    }
   ],
   "source": [
    "indicator = pd.read_csv(\"Preprocess Data\\问题1-1.csv\",encoding='gb18030')\n",
    "label_1 = indicator.iloc[:,1:5].to_numpy()\n",
    "label_2 = indicator.iloc[:,5:8].to_numpy()\n",
    "label_3 = indicator.iloc[:,8:].to_numpy()\n",
    "indicator"
   ]
  },
  {
   "cell_type": "code",
   "execution_count": null,
   "metadata": {},
   "outputs": [],
   "source": [
    "\n",
    "    n,m = x.shape\n",
    "    # 数据的归一化处理\n",
    "    # 归一化结果\n"
   ]
  },
  {
   "cell_type": "code",
   "execution_count": null,
   "metadata": {},
   "outputs": [],
   "source": [
    "    Y = np.zeros((n, m))\n",
    "    for i in range(m):\n",
    "        if ind[i] == 1: #正向指标归一化\n",
    "            Y[:,i] = MinMaxNormalized(x[:,i].reshape(-1,1),1,0.0001,0.9999).flatten()\n",
    "            Y[:,i] = MinMaxNormalized(x[:,i].reshape(-1,1),2,0.0001,0.9999).flatten()\n",
    "    # 比重P(i,j)\n",
    "    P = np.zeros((n, m))\n",
    "    for i in range(n):\n",
    "        for j in range(m):\n",
    "            P[i,j] = Y[i,j] / np.sum(Y[:,j])\n",
    "    # 第j个指标的熵值e(j)\n",
    "    e = np.zeros(m)\n",
    "    k= 1/np.log(n)\n",
    "    for j in range(m):\n",
    "        e[m] = -k * np.sum(P[:,j] * np.log(P[:,j]))\n",
    "    d = np.ones(m)-e #信息熵冗余度\n",
    "    w = d / np.sum(d) \n",
    "    s = 100 * w * Y"
   ]
  },
  {
   "cell_type": "code",
   "execution_count": null,
   "metadata": {},
   "outputs": [],
   "source": []
  },
  {
   "cell_type": "code",
   "execution_count": null,
   "metadata": {},
   "outputs": [],
   "source": []
  },
  {
   "cell_type": "code",
   "execution_count": null,
   "metadata": {},
   "outputs": [],
   "source": []
  },
  {
   "cell_type": "markdown",
   "metadata": {},
   "source": [
    "# 熵权法"
   ]
  },
  {
   "cell_type": "code",
   "execution_count": 132,
   "metadata": {},
   "outputs": [],
   "source": [
    "def MinMaxNormalized(x,type,ymin=0,ymax=1):\n",
    "    \"\"\"\n",
    "    实现正向或负向指标MinMax归一化，返回归一化后的数据矩阵；\n",
    "    x：为原始数据矩阵, 一行代表一个样本, 每列对应一个指标；\n",
    "    type：设定正向指标1,负向指标2；\n",
    "    ymin,ymax：归一化的区间端点，即归一化时将数据缩放到(ymin,ymax)的范围内，默认应设置为[0,1]；\n",
    "    \"\"\"\n",
    "    n, m = x.shape\n",
    "    y = np.zeros((n, m))\n",
    "    xmin = np.min(x,axis=0)\n",
    "    xmax = np.max(x,axis=0)\n",
    "    if type == 1:\n",
    "        for j in range(m):\n",
    "            y[:,j] = (ymax-ymin)*(x[:,j]-xmin[j]) / (xmax[j]-xmin[j])+ymin\n",
    "    elif type == 2:\n",
    "        for j in range(m):\n",
    "            y[:,j] = (ymax-ymin)*(xmax[j]-x[:,j]) / (xmax[j]-xmin[j])+ymin\n",
    "    return y"
   ]
  },
  {
   "cell_type": "code",
   "execution_count": 163,
   "metadata": {},
   "outputs": [],
   "source": [
    "def Entropy_Weight_Method(x,ind):\n",
    "    \"\"\"熵权法（EWM）\n",
    "    输入变量\n",
    "    x: 原始数据矩阵, 一行代表一个样本, 每列对应一个指标；\n",
    "    ind: 指示向量，指示各列正向指标还是负向指标，1表示正向指标，2表示负向指标；\n",
    "    输出变量\n",
    "    s: 各行的得分；\n",
    "    w: 各指标权重；\n",
    "    \"\"\"\n",
    "    # n个样本, m个指标\n",
    "    n,m = x.shape\n",
    "    # 数据的归一化处理\n",
    "    # 归一化结果\n",
    "    Y = np.zeros((n, m))\n",
    "    for i in range(m):\n",
    "        if ind[i] == 1: #正向指标归一化\n",
    "            Y[:,i] = MinMaxNormalized(x[:,i].reshape(-1,1),1,0.0001,0.9999).flatten()\n",
    "            Y[:,i] = MinMaxNormalized(x[:,i].reshape(-1,1),2,0.0001,0.9999).flatten()\n",
    "    # 比重P(i,j)\n",
    "    P = np.zeros((n, m))\n",
    "    for i in range(n):\n",
    "        for j in range(m):\n",
    "            P[i,j] = Y[i,j] / np.sum(Y[:,j])\n",
    "    # 第j个指标的熵值e(j)\n",
    "    e = np.zeros(m)\n",
    "    k= 1/np.log(n)\n",
    "    for j in range(m):\n",
    "        e[m] = -k * np.sum(P[:,j] * np.log(P[:,j]))\n",
    "    d = np.ones(m)-e #信息熵冗余度\n",
    "    w = d / np.sum(d) \n",
    "    s = 100 * w * Y\n",
    "    return s, w"
   ]
  },
  {
   "cell_type": "code",
   "execution_count": 104,
   "metadata": {
    "ExecuteTime": {
     "end_time": "2021-11-09T07:52:00.260460Z",
     "start_time": "2021-11-09T07:51:59.846955Z"
    }
   },
   "outputs": [],
   "source": [
    "w_1 = cal_weight(label_1)  # 调用cal_weight\n",
    "w_2 = cal_weight(label_2) \n",
    "w_3 = cal_weight(label_3) \n",
    "w_1.index = label_1.columns\n",
    "w_2.index = label_2.columns\n",
    "w_3.index = label_3.columns\n",
    "w_1.columns = ['weight']\n",
    "w_2.columns = ['weight']\n",
    "w_3.columns = ['weight']"
   ]
  },
  {
   "cell_type": "code",
   "execution_count": 105,
   "metadata": {},
   "outputs": [
    {
     "data": {
      "text/html": [
       "<div>\n",
       "<style scoped>\n",
       "    .dataframe tbody tr th:only-of-type {\n",
       "        vertical-align: middle;\n",
       "    }\n",
       "\n",
       "    .dataframe tbody tr th {\n",
       "        vertical-align: top;\n",
       "    }\n",
       "\n",
       "    .dataframe thead th {\n",
       "        text-align: right;\n",
       "    }\n",
       "</style>\n",
       "<table border=\"1\" class=\"dataframe\">\n",
       "  <thead>\n",
       "    <tr style=\"text-align: right;\">\n",
       "      <th></th>\n",
       "      <th>weight</th>\n",
       "    </tr>\n",
       "  </thead>\n",
       "  <tbody>\n",
       "    <tr>\n",
       "      <th>自然保护区面积(万公顷)</th>\n",
       "      <td>0.089750</td>\n",
       "    </tr>\n",
       "    <tr>\n",
       "      <th>森林病虫鼠害防治率(%)</th>\n",
       "      <td>0.166006</td>\n",
       "    </tr>\n",
       "    <tr>\n",
       "      <th>森林覆盖率(%)</th>\n",
       "      <td>0.620562</td>\n",
       "    </tr>\n",
       "    <tr>\n",
       "      <th>水土流失治理面积</th>\n",
       "      <td>0.123681</td>\n",
       "    </tr>\n",
       "  </tbody>\n",
       "</table>\n",
       "</div>"
      ],
      "text/plain": [
       "                weight\n",
       "自然保护区面积(万公顷)  0.089750\n",
       "森林病虫鼠害防治率(%)  0.166006\n",
       "森林覆盖率(%)      0.620562\n",
       "水土流失治理面积      0.123681"
      ]
     },
     "execution_count": 105,
     "metadata": {},
     "output_type": "execute_result"
    }
   ],
   "source": [
    "w_1"
   ]
  },
  {
   "cell_type": "code",
   "execution_count": 106,
   "metadata": {},
   "outputs": [
    {
     "data": {
      "text/html": [
       "<div>\n",
       "<style scoped>\n",
       "    .dataframe tbody tr th:only-of-type {\n",
       "        vertical-align: middle;\n",
       "    }\n",
       "\n",
       "    .dataframe tbody tr th {\n",
       "        vertical-align: top;\n",
       "    }\n",
       "\n",
       "    .dataframe thead th {\n",
       "        text-align: right;\n",
       "    }\n",
       "</style>\n",
       "<table border=\"1\" class=\"dataframe\">\n",
       "  <thead>\n",
       "    <tr style=\"text-align: right;\">\n",
       "      <th></th>\n",
       "      <th>weight</th>\n",
       "    </tr>\n",
       "  </thead>\n",
       "  <tbody>\n",
       "    <tr>\n",
       "      <th>降水量</th>\n",
       "      <td>0.109718</td>\n",
       "    </tr>\n",
       "    <tr>\n",
       "      <th>地表水供水总量(亿立方米)</th>\n",
       "      <td>0.585450</td>\n",
       "    </tr>\n",
       "    <tr>\n",
       "      <th>地表水水质达标率/%</th>\n",
       "      <td>0.304833</td>\n",
       "    </tr>\n",
       "  </tbody>\n",
       "</table>\n",
       "</div>"
      ],
      "text/plain": [
       "                 weight\n",
       "降水量            0.109718\n",
       "地表水供水总量(亿立方米)  0.585450\n",
       "地表水水质达标率/%     0.304833"
      ]
     },
     "execution_count": 106,
     "metadata": {},
     "output_type": "execute_result"
    }
   ],
   "source": [
    "w_2"
   ]
  },
  {
   "cell_type": "code",
   "execution_count": 107,
   "metadata": {},
   "outputs": [
    {
     "data": {
      "text/html": [
       "<div>\n",
       "<style scoped>\n",
       "    .dataframe tbody tr th:only-of-type {\n",
       "        vertical-align: middle;\n",
       "    }\n",
       "\n",
       "    .dataframe tbody tr th {\n",
       "        vertical-align: top;\n",
       "    }\n",
       "\n",
       "    .dataframe thead th {\n",
       "        text-align: right;\n",
       "    }\n",
       "</style>\n",
       "<table border=\"1\" class=\"dataframe\">\n",
       "  <thead>\n",
       "    <tr style=\"text-align: right;\">\n",
       "      <th></th>\n",
       "      <th>weight</th>\n",
       "    </tr>\n",
       "  </thead>\n",
       "  <tbody>\n",
       "    <tr>\n",
       "      <th>空气质量优良天数</th>\n",
       "      <td>0.489391</td>\n",
       "    </tr>\n",
       "    <tr>\n",
       "      <th>市区PM2.5浓度/微克每立方米</th>\n",
       "      <td>0.510609</td>\n",
       "    </tr>\n",
       "  </tbody>\n",
       "</table>\n",
       "</div>"
      ],
      "text/plain": [
       "                    weight\n",
       "空气质量优良天数          0.489391\n",
       "市区PM2.5浓度/微克每立方米  0.510609"
      ]
     },
     "execution_count": 107,
     "metadata": {},
     "output_type": "execute_result"
    }
   ],
   "source": [
    "w_3"
   ]
  },
  {
   "cell_type": "markdown",
   "metadata": {},
   "source": [
    "# 层次分析法"
   ]
  },
  {
   "cell_type": "code",
   "execution_count": 108,
   "metadata": {},
   "outputs": [],
   "source": [
    "import numpy as np\n",
    "class AHP:\n",
    "    #传入的np.ndarray是的判断矩阵\n",
    "    def __init__(self,array):\n",
    "        self.array = array\n",
    "        # 记录矩阵大小\n",
    "        self.n = array.shape[0]\n",
    "        # 初始化RI值,用于一致性检验 \n",
    "        RI_list = [0,0,0.58,0.90,1.12,1.24,1.32,1.41,1.45]\n",
    "        self.RI = RI_list[self.n-1]\n",
    "        \n",
    "    #获取最大特征值和对应的特征向量\n",
    "    def get_eig(self):\n",
    "        #numpy.linalg.eig() 计算矩阵特征值与特征向量\n",
    "        eig_val ,eig_vector = np.linalg.eig(self.array)\n",
    "        #获取最大特征值\n",
    "        max_val = np.max(eig_val)\n",
    "        max_val = round(max_val.real, 4)\n",
    "        #通过位置来确定最大特征值对应的特征向量\n",
    "        index = np.argmax(eig_val)\n",
    "        max_vector = eig_vector[:,index]\n",
    "        max_vector = max_vector.real.round(4) \n",
    "        #添加最大特征值属性\n",
    "        self.max_val = max_val\n",
    "        #计算权重向量W\n",
    "        weight_vector = max_vector/sum(max_vector)\n",
    "        weight_vector = weight_vector.round(4)\n",
    "        #打印结果\n",
    "        print(\"最大的特征值: \"+str(max_val))\n",
    "        print(\"对应的特征向量为: \"+str(max_vector))\n",
    "        print(\"归一化后得到权重向量: \"+str(weight_vector))\n",
    "        return weight_vector\n",
    "    \n",
    "    #测试一致性\n",
    "    def test_consitst(self):\n",
    "        #计算CI值\n",
    "        CI = (self.max_val-self.n)/(self.n-1) \n",
    "        CI = round(CI,4) \n",
    "        #打印结果\n",
    "        print(\"判断矩阵的CI值为\" +str(CI))\n",
    "        print(\"判断矩阵的RI值为\" +str(self.RI))\n",
    "        #分类讨论\n",
    "        if self.n == 2:\n",
    "            print(\"仅包含两个子因素，不存在一致性问题\")\n",
    "        else:\n",
    "            #计算CR值\n",
    "            CR = CI/self.RI \n",
    "            CR = round(CR,4)\n",
    "            #CR < 0.10才能通过检验\n",
    "            if  CR < 0.10 :\n",
    "                print(\"判断矩阵的CR值为\" +str(CR) + \"，通过一致性检验\")\n",
    "                return True\n",
    "            else:\n",
    "                print(\"判断矩阵的CR值为\" +str(CR) + \"，未通过一致性检验\")\n",
    "                return False"
   ]
  },
  {
   "cell_type": "markdown",
   "metadata": {},
   "source": [
    "1. 指标1：$\\begin{bmatrix} 1  &  3  & \\frac{1}{3} & \\frac{1}{5}\\\\ \\frac{1}{3}  & 1 & \\frac{1}{5}  &  \\frac{1}{7} \\\\ 3 & 5 &  1& \\frac{1}{3}\\\\ 5 & 7 &  3 &1 \\end{bmatrix}$\n",
    "2. 指标2：$\\begin{bmatrix} 1 & 3 & \\frac{1}{3}\\\\ \\frac{1}{3}  & 1 & \\frac{1}{5}\\\\ 3 &  5 & 1 \\end{bmatrix} $\n",
    "3. 指标3：$\\begin{bmatrix} 1 & 3 \\\\  \\frac{1}{3} & 1 \\end{bmatrix}$"
   ]
  },
  {
   "cell_type": "code",
   "execution_count": 109,
   "metadata": {},
   "outputs": [],
   "source": [
    "A = np.array([[1, 3, 1/3, 1/5],\n",
    "              [1/3, 1, 1/5, 1/7],\n",
    "              [3, 5, 1, 1/3],\n",
    "              [5, 7, 3, 1]])\n",
    "B = np.array([[1, 3, 1/3],\n",
    "              [1/3, 1, 1/5],\n",
    "              [3, 5, 1]])\n",
    "# 构造成对比较矩阵\n",
    "C = np.array([[1, 3],\n",
    "              [1/3, 1]])"
   ]
  },
  {
   "cell_type": "code",
   "execution_count": 110,
   "metadata": {},
   "outputs": [
    {
     "name": "stdout",
     "output_type": "stream",
     "text": [
      "最大的特征值: 4.117\n",
      "对应的特征向量为: [0.1847 0.0869 0.4121 0.888 ]\n",
      "归一化后得到权重向量: [0.1175 0.0553 0.2622 0.565 ]\n",
      "判断矩阵的CI值为0.039\n",
      "判断矩阵的RI值为0.9\n",
      "判断矩阵的CR值为0.0433，通过一致性检验\n"
     ]
    },
    {
     "data": {
      "text/plain": [
       "True"
      ]
     },
     "execution_count": 110,
     "metadata": {},
     "output_type": "execute_result"
    }
   ],
   "source": [
    "model = AHP(A)\n",
    "model.get_eig()\n",
    "model.test_consitst()"
   ]
  },
  {
   "cell_type": "code",
   "execution_count": 111,
   "metadata": {},
   "outputs": [
    {
     "name": "stdout",
     "output_type": "stream",
     "text": [
      "最大的特征值: 3.0385\n",
      "对应的特征向量为: [0.3715 0.1506 0.9161]\n",
      "归一化后得到权重向量: [0.2583 0.1047 0.637 ]\n",
      "判断矩阵的CI值为0.0192\n",
      "判断矩阵的RI值为0.58\n",
      "判断矩阵的CR值为0.0331，通过一致性检验\n"
     ]
    },
    {
     "data": {
      "text/plain": [
       "True"
      ]
     },
     "execution_count": 111,
     "metadata": {},
     "output_type": "execute_result"
    }
   ],
   "source": [
    "model= AHP(B)\n",
    "model.get_eig()\n",
    "model.test_consitst()"
   ]
  },
  {
   "cell_type": "code",
   "execution_count": 112,
   "metadata": {},
   "outputs": [
    {
     "name": "stdout",
     "output_type": "stream",
     "text": [
      "最大的特征值: 2.0\n",
      "对应的特征向量为: [0.9487 0.3162]\n",
      "归一化后得到权重向量: [0.75 0.25]\n",
      "判断矩阵的CI值为0.0\n",
      "判断矩阵的RI值为0\n",
      "仅包含两个子因素，不存在一致性问题\n"
     ]
    }
   ],
   "source": [
    "model_1 = AHP(C)\n",
    "model_1.get_eig()\n",
    "model_1.test_consitst()"
   ]
  },
  {
   "cell_type": "markdown",
   "metadata": {},
   "source": [
    "# 主客观权重组合"
   ]
  },
  {
   "cell_type": "code",
   "execution_count": 113,
   "metadata": {},
   "outputs": [],
   "source": [
    "# 客观-熵权法\n",
    "w1 = [0.08970404,0.1659243,0.62075094,0.12362073]\n",
    "w2 = [0.10971046,0.58553263,0.30475691]\n",
    "w3 = [0.48936584,0.51063416]\n",
    "# 主观-层次分析法\n",
    "W1 = [0.1175, 0.0553, 0.2622 ,0.565]\n",
    "W2 = [0.2583, 0.1047, 0.637]\n",
    "W3 = [0.75, 0.25]"
   ]
  },
  {
   "cell_type": "markdown",
   "metadata": {},
   "source": [
    "- 组合权重（乘法组合）\n",
    "$ W_{j}=\\frac{\\sqrt{\\alpha_{j} \\beta_{j}}}{\\sum_{j=1}^{n} \\sqrt{\\alpha_{j} \\beta_{j}}}$"
   ]
  },
  {
   "cell_type": "code",
   "execution_count": 114,
   "metadata": {},
   "outputs": [],
   "source": [
    "def combine_weight(a,b):\n",
    "    a, b = np.array(a),np.array(b)\n",
    "    return np.sqrt(a*b)/np.sqrt(a*b).sum()"
   ]
  },
  {
   "cell_type": "code",
   "execution_count": 115,
   "metadata": {},
   "outputs": [
    {
     "name": "stdout",
     "output_type": "stream",
     "text": [
      "[0.11852758 0.11058903 0.46576785 0.30511555]\n",
      "[0.19653426 0.28906861 0.51439713]\n",
      "[0.6290246 0.3709754]\n"
     ]
    }
   ],
   "source": [
    "CW1 = combine_weight(w1,W1)\n",
    "CW2 = combine_weight(w2,W2)\n",
    "CW3 = combine_weight(w3,W3)\n",
    "print(CW1)\n",
    "print(CW2)\n",
    "print(CW3)"
   ]
  },
  {
   "cell_type": "markdown",
   "metadata": {},
   "source": [
    "# 计算三个一级权重"
   ]
  },
  {
   "cell_type": "code",
   "execution_count": 116,
   "metadata": {},
   "outputs": [],
   "source": [
    "indicator = pd.read_csv(\"Preprocess Data\\问题1-1.csv\",encoding='gb18030').iloc[:,1:]\n",
    "indicator = MinMaxScaler().fit_transform(indicator)\n",
    "label_1 = indicator[:,1:5]\n",
    "label_2 = indicator[:,5:8]\n",
    "label_3 = indicator[:,8:]"
   ]
  },
  {
   "cell_type": "code",
   "execution_count": 117,
   "metadata": {},
   "outputs": [],
   "source": [
    "label_1 = (label_1*CW1).sum(axis=1).reshape(-1,1)\n",
    "label_2 = (label_2*CW2).sum(axis=1).reshape(-1,1)\n",
    "label_3 = (label_3*CW3).sum(axis=1).reshape(-1,1)\n",
    "label_data = np.hstack((label_1,label_2,label_3))"
   ]
  },
  {
   "cell_type": "code",
   "execution_count": 118,
   "metadata": {},
   "outputs": [
    {
     "data": {
      "text/plain": [
       "array([0.21080779, 0.40557226, 0.38361995])"
      ]
     },
     "execution_count": 118,
     "metadata": {},
     "output_type": "execute_result"
    }
   ],
   "source": [
    "# 变异系数\n",
    "def CV(x):\n",
    "    return np.std(x,axis=0)/np.mean(x,axis=0)\n",
    "\n",
    "label_cv = CV(label_data)\n",
    "FCI = label_cv/np.sum(label_cv)\n",
    "FCI"
   ]
  },
  {
   "cell_type": "code",
   "execution_count": 119,
   "metadata": {},
   "outputs": [
    {
     "data": {
      "text/plain": [
       "array([44.68562189, 44.38763873, 47.80868832, 50.43819326, 50.16842283,\n",
       "       52.69098304, 53.03580611, 58.49489974, 62.50273715, 65.41291711,\n",
       "       65.81240781, 68.12049758, 60.11920445, 43.65445876, 51.06533855,\n",
       "       49.34072133, 51.00483937, 51.07272414, 51.00506705, 50.51086929,\n",
       "       51.6544522 ])"
      ]
     },
     "execution_count": 119,
     "metadata": {},
     "output_type": "execute_result"
    }
   ],
   "source": [
    "FCI_data = (FCI*label_data).sum(axis=1)*100\n",
    "FCI_data"
   ]
  },
  {
   "cell_type": "code",
   "execution_count": 120,
   "metadata": {},
   "outputs": [],
   "source": [
    "import matplotlib.pyplot as plt"
   ]
  },
  {
   "cell_type": "code",
   "execution_count": 121,
   "metadata": {},
   "outputs": [
    {
     "data": {
      "text/plain": [
       "[<matplotlib.lines.Line2D at 0x1e4633cdb20>]"
      ]
     },
     "execution_count": 121,
     "metadata": {},
     "output_type": "execute_result"
    },
    {
     "data": {
      "image/png": "[encoded data removed]",
      "text/plain": [
       "<Figure size 432x288 with 1 Axes>"
      ]
     },
     "metadata": {
      "needs_background": "light"
     },
     "output_type": "display_data"
    }
   ],
   "source": [
    "plt.plot(FCI_data)"
   ]
  },
  {
   "cell_type": "code",
   "execution_count": null,
   "metadata": {},
   "outputs": [],
   "source": []
  },
  {
   "cell_type": "code",
   "execution_count": null,
   "metadata": {},
   "outputs": [],
   "source": []
  }
 ],
 "metadata": {
  "kernelspec": {
   "display_name": "Python 3",
   "language": "python",
   "name": "python3"
  },
  "language_info": {
   "codemirror_mode": {
    "name": "ipython",
    "version": 3
   },
   "file_extension": ".py",
   "mimetype": "text/x-python",
   "name": "python",
   "nbconvert_exporter": "python",
   "pygments_lexer": "ipython3",
   "version": "3.8.12"
  },
  "nbTranslate": {
   "displayLangs": [
    "*"
   ],
   "hotkey": "alt-t",
   "langInMainMenu": true,
   "sourceLang": "en",
   "targetLang": "fr",
   "useGoogleTranslate": true
  },
  "toc": {
   "base_numbering": 1,
   "nav_menu": {},
   "number_sections": true,
   "sideBar": true,
   "skip_h1_title": false,
   "title_cell": "Table of Contents",
   "title_sidebar": "Contents",
   "toc_cell": false,
   "toc_position": {},
   "toc_section_display": true,
   "toc_window_display": false
  }
 },
 "nbformat": 4,
 "nbformat_minor": 4
}
