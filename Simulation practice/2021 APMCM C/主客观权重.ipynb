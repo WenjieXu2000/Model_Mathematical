{
 "cells": [
  {
   "cell_type": "code",
   "execution_count": 2,
   "metadata": {},
   "outputs": [],
   "source": [
    "import numpy as np\n",
    "import pandas as pd"
   ]
  },
  {
   "cell_type": "code",
   "execution_count": 3,
   "metadata": {},
   "outputs": [
    {
     "data": {
      "text/html": [
       "<div>\n",
       "<style scoped>\n",
       "    .dataframe tbody tr th:only-of-type {\n",
       "        vertical-align: middle;\n",
       "    }\n",
       "\n",
       "    .dataframe tbody tr th {\n",
       "        vertical-align: top;\n",
       "    }\n",
       "\n",
       "    .dataframe thead th {\n",
       "        text-align: right;\n",
       "    }\n",
       "</style>\n",
       "<table border=\"1\" class=\"dataframe\">\n",
       "  <thead>\n",
       "    <tr style=\"text-align: right;\">\n",
       "      <th></th>\n",
       "      <th>年份</th>\n",
       "      <th>旅游收入/亿</th>\n",
       "      <th>旅游人次/万人</th>\n",
       "      <th>自然保护区面积(万公顷)</th>\n",
       "      <th>森林病虫鼠害防治率(%)</th>\n",
       "      <th>森林覆盖率(%)</th>\n",
       "      <th>水土流失治理面积</th>\n",
       "      <th>降水量</th>\n",
       "      <th>地表水供水总量(亿立方米)</th>\n",
       "      <th>空气质量优良天数</th>\n",
       "    </tr>\n",
       "  </thead>\n",
       "  <tbody>\n",
       "    <tr>\n",
       "      <th>0</th>\n",
       "      <td>2000</td>\n",
       "      <td>21.50</td>\n",
       "      <td>623.3</td>\n",
       "      <td>9.5</td>\n",
       "      <td>97.0</td>\n",
       "      <td>22.3</td>\n",
       "      <td>5328.3</td>\n",
       "      <td>5647.9</td>\n",
       "      <td>34.0</td>\n",
       "      <td>169.0</td>\n",
       "    </tr>\n",
       "    <tr>\n",
       "      <th>1</th>\n",
       "      <td>2001</td>\n",
       "      <td>20.10</td>\n",
       "      <td>555.0</td>\n",
       "      <td>18.9</td>\n",
       "      <td>94.5</td>\n",
       "      <td>22.3</td>\n",
       "      <td>5485.6</td>\n",
       "      <td>4943.3</td>\n",
       "      <td>34.9</td>\n",
       "      <td>183.5</td>\n",
       "    </tr>\n",
       "    <tr>\n",
       "      <th>2</th>\n",
       "      <td>2002</td>\n",
       "      <td>18.70</td>\n",
       "      <td>486.7</td>\n",
       "      <td>28.3</td>\n",
       "      <td>92.0</td>\n",
       "      <td>22.3</td>\n",
       "      <td>5642.9</td>\n",
       "      <td>9679.4</td>\n",
       "      <td>35.8</td>\n",
       "      <td>198.0</td>\n",
       "    </tr>\n",
       "    <tr>\n",
       "      <th>3</th>\n",
       "      <td>2003</td>\n",
       "      <td>17.30</td>\n",
       "      <td>418.4</td>\n",
       "      <td>37.7</td>\n",
       "      <td>89.5</td>\n",
       "      <td>22.3</td>\n",
       "      <td>5791.7</td>\n",
       "      <td>13328.0</td>\n",
       "      <td>36.7</td>\n",
       "      <td>212.5</td>\n",
       "    </tr>\n",
       "    <tr>\n",
       "      <th>4</th>\n",
       "      <td>2004</td>\n",
       "      <td>23.30</td>\n",
       "      <td>552.0</td>\n",
       "      <td>47.1</td>\n",
       "      <td>87.0</td>\n",
       "      <td>22.3</td>\n",
       "      <td>5876.5</td>\n",
       "      <td>11897.0</td>\n",
       "      <td>37.6</td>\n",
       "      <td>227.0</td>\n",
       "    </tr>\n",
       "    <tr>\n",
       "      <th>5</th>\n",
       "      <td>2005</td>\n",
       "      <td>31.50</td>\n",
       "      <td>671.8</td>\n",
       "      <td>56.5</td>\n",
       "      <td>84.5</td>\n",
       "      <td>22.3</td>\n",
       "      <td>5981.2</td>\n",
       "      <td>11798.0</td>\n",
       "      <td>38.5</td>\n",
       "      <td>256.0</td>\n",
       "    </tr>\n",
       "    <tr>\n",
       "      <th>6</th>\n",
       "      <td>2006</td>\n",
       "      <td>40.50</td>\n",
       "      <td>777.6</td>\n",
       "      <td>59.7</td>\n",
       "      <td>81.0</td>\n",
       "      <td>22.3</td>\n",
       "      <td>6076.2</td>\n",
       "      <td>10346.0</td>\n",
       "      <td>38.7</td>\n",
       "      <td>277.0</td>\n",
       "    </tr>\n",
       "    <tr>\n",
       "      <th>7</th>\n",
       "      <td>2007</td>\n",
       "      <td>47.20</td>\n",
       "      <td>823.1</td>\n",
       "      <td>56.6</td>\n",
       "      <td>90.8</td>\n",
       "      <td>22.3</td>\n",
       "      <td>6133.7</td>\n",
       "      <td>11710.0</td>\n",
       "      <td>38.9</td>\n",
       "      <td>306.0</td>\n",
       "    </tr>\n",
       "    <tr>\n",
       "      <th>8</th>\n",
       "      <td>2008</td>\n",
       "      <td>50.60</td>\n",
       "      <td>754.6</td>\n",
       "      <td>56.7</td>\n",
       "      <td>95.8</td>\n",
       "      <td>22.3</td>\n",
       "      <td>6194.0</td>\n",
       "      <td>12632.0</td>\n",
       "      <td>37.8</td>\n",
       "      <td>320.0</td>\n",
       "    </tr>\n",
       "    <tr>\n",
       "      <th>9</th>\n",
       "      <td>2009</td>\n",
       "      <td>72.20</td>\n",
       "      <td>1080.9</td>\n",
       "      <td>57.2</td>\n",
       "      <td>100.0</td>\n",
       "      <td>23.4</td>\n",
       "      <td>6230.7</td>\n",
       "      <td>11604.0</td>\n",
       "      <td>37.5</td>\n",
       "      <td>334.0</td>\n",
       "    </tr>\n",
       "    <tr>\n",
       "      <th>10</th>\n",
       "      <td>2010</td>\n",
       "      <td>91.45</td>\n",
       "      <td>1307.9</td>\n",
       "      <td>58.7</td>\n",
       "      <td>100.0</td>\n",
       "      <td>23.4</td>\n",
       "      <td>6290.3</td>\n",
       "      <td>11717.0</td>\n",
       "      <td>36.1</td>\n",
       "      <td>337.0</td>\n",
       "    </tr>\n",
       "    <tr>\n",
       "      <th>11</th>\n",
       "      <td>2011</td>\n",
       "      <td>126.00</td>\n",
       "      <td>1698.8</td>\n",
       "      <td>58.7</td>\n",
       "      <td>82.7</td>\n",
       "      <td>23.4</td>\n",
       "      <td>6351.5</td>\n",
       "      <td>14353.0</td>\n",
       "      <td>38.5</td>\n",
       "      <td>339.0</td>\n",
       "    </tr>\n",
       "    <tr>\n",
       "      <th>12</th>\n",
       "      <td>2012</td>\n",
       "      <td>162.00</td>\n",
       "      <td>2010.0</td>\n",
       "      <td>69.3</td>\n",
       "      <td>77.7</td>\n",
       "      <td>23.4</td>\n",
       "      <td>6411.5</td>\n",
       "      <td>11959.0</td>\n",
       "      <td>41.3</td>\n",
       "      <td>340.0</td>\n",
       "    </tr>\n",
       "    <tr>\n",
       "      <th>13</th>\n",
       "      <td>2013</td>\n",
       "      <td>204.00</td>\n",
       "      <td>2463.4</td>\n",
       "      <td>70.7</td>\n",
       "      <td>81.8</td>\n",
       "      <td>23.4</td>\n",
       "      <td>4679.1</td>\n",
       "      <td>10421.0</td>\n",
       "      <td>43.1</td>\n",
       "      <td>265.0</td>\n",
       "    </tr>\n",
       "    <tr>\n",
       "      <th>14</th>\n",
       "      <td>2014</td>\n",
       "      <td>265.00</td>\n",
       "      <td>2931.6</td>\n",
       "      <td>70.5</td>\n",
       "      <td>83.9</td>\n",
       "      <td>26.8</td>\n",
       "      <td>4826.4</td>\n",
       "      <td>12150.0</td>\n",
       "      <td>46.8</td>\n",
       "      <td>242.0</td>\n",
       "    </tr>\n",
       "    <tr>\n",
       "      <th>15</th>\n",
       "      <td>2015</td>\n",
       "      <td>338.20</td>\n",
       "      <td>3349.6</td>\n",
       "      <td>70.0</td>\n",
       "      <td>78.5</td>\n",
       "      <td>26.8</td>\n",
       "      <td>5061.6</td>\n",
       "      <td>14254.0</td>\n",
       "      <td>48.7</td>\n",
       "      <td>269.0</td>\n",
       "    </tr>\n",
       "    <tr>\n",
       "      <th>16</th>\n",
       "      <td>2016</td>\n",
       "      <td>495.00</td>\n",
       "      <td>4636.6</td>\n",
       "      <td>71.0</td>\n",
       "      <td>90.7</td>\n",
       "      <td>26.8</td>\n",
       "      <td>5187.9</td>\n",
       "      <td>11918.0</td>\n",
       "      <td>51.5</td>\n",
       "      <td>275.0</td>\n",
       "    </tr>\n",
       "    <tr>\n",
       "      <th>17</th>\n",
       "      <td>2017</td>\n",
       "      <td>671.00</td>\n",
       "      <td>5796.6</td>\n",
       "      <td>70.9</td>\n",
       "      <td>94.5</td>\n",
       "      <td>26.8</td>\n",
       "      <td>5379.1</td>\n",
       "      <td>11984.0</td>\n",
       "      <td>59.4</td>\n",
       "      <td>291.0</td>\n",
       "    </tr>\n",
       "    <tr>\n",
       "      <th>18</th>\n",
       "      <td>2018</td>\n",
       "      <td>865.30</td>\n",
       "      <td>7009.4</td>\n",
       "      <td>70.8</td>\n",
       "      <td>94.1</td>\n",
       "      <td>26.8</td>\n",
       "      <td>5532.5</td>\n",
       "      <td>10743.0</td>\n",
       "      <td>70.4</td>\n",
       "      <td>299.5</td>\n",
       "    </tr>\n",
       "    <tr>\n",
       "      <th>19</th>\n",
       "      <td>2019</td>\n",
       "      <td>1055.70</td>\n",
       "      <td>8271.1</td>\n",
       "      <td>70.7</td>\n",
       "      <td>92.4</td>\n",
       "      <td>26.8</td>\n",
       "      <td>5722.2</td>\n",
       "      <td>9501.7</td>\n",
       "      <td>78.3</td>\n",
       "      <td>308.0</td>\n",
       "    </tr>\n",
       "    <tr>\n",
       "      <th>20</th>\n",
       "      <td>2020</td>\n",
       "      <td>300.00</td>\n",
       "      <td>2800.1</td>\n",
       "      <td>70.6</td>\n",
       "      <td>91.8</td>\n",
       "      <td>26.8</td>\n",
       "      <td>5934.4</td>\n",
       "      <td>8260.4</td>\n",
       "      <td>84.8</td>\n",
       "      <td>322.0</td>\n",
       "    </tr>\n",
       "  </tbody>\n",
       "</table>\n",
       "</div>"
      ],
      "text/plain": [
       "      年份   旅游收入/亿  旅游人次/万人  自然保护区面积(万公顷)  森林病虫鼠害防治率(%)  森林覆盖率(%)  水土流失治理面积  \\\n",
       "0   2000    21.50    623.3           9.5          97.0      22.3    5328.3   \n",
       "1   2001    20.10    555.0          18.9          94.5      22.3    5485.6   \n",
       "2   2002    18.70    486.7          28.3          92.0      22.3    5642.9   \n",
       "3   2003    17.30    418.4          37.7          89.5      22.3    5791.7   \n",
       "4   2004    23.30    552.0          47.1          87.0      22.3    5876.5   \n",
       "5   2005    31.50    671.8          56.5          84.5      22.3    5981.2   \n",
       "6   2006    40.50    777.6          59.7          81.0      22.3    6076.2   \n",
       "7   2007    47.20    823.1          56.6          90.8      22.3    6133.7   \n",
       "8   2008    50.60    754.6          56.7          95.8      22.3    6194.0   \n",
       "9   2009    72.20   1080.9          57.2         100.0      23.4    6230.7   \n",
       "10  2010    91.45   1307.9          58.7         100.0      23.4    6290.3   \n",
       "11  2011   126.00   1698.8          58.7          82.7      23.4    6351.5   \n",
       "12  2012   162.00   2010.0          69.3          77.7      23.4    6411.5   \n",
       "13  2013   204.00   2463.4          70.7          81.8      23.4    4679.1   \n",
       "14  2014   265.00   2931.6          70.5          83.9      26.8    4826.4   \n",
       "15  2015   338.20   3349.6          70.0          78.5      26.8    5061.6   \n",
       "16  2016   495.00   4636.6          71.0          90.7      26.8    5187.9   \n",
       "17  2017   671.00   5796.6          70.9          94.5      26.8    5379.1   \n",
       "18  2018   865.30   7009.4          70.8          94.1      26.8    5532.5   \n",
       "19  2019  1055.70   8271.1          70.7          92.4      26.8    5722.2   \n",
       "20  2020   300.00   2800.1          70.6          91.8      26.8    5934.4   \n",
       "\n",
       "        降水量  地表水供水总量(亿立方米)  空气质量优良天数  \n",
       "0    5647.9           34.0     169.0  \n",
       "1    4943.3           34.9     183.5  \n",
       "2    9679.4           35.8     198.0  \n",
       "3   13328.0           36.7     212.5  \n",
       "4   11897.0           37.6     227.0  \n",
       "5   11798.0           38.5     256.0  \n",
       "6   10346.0           38.7     277.0  \n",
       "7   11710.0           38.9     306.0  \n",
       "8   12632.0           37.8     320.0  \n",
       "9   11604.0           37.5     334.0  \n",
       "10  11717.0           36.1     337.0  \n",
       "11  14353.0           38.5     339.0  \n",
       "12  11959.0           41.3     340.0  \n",
       "13  10421.0           43.1     265.0  \n",
       "14  12150.0           46.8     242.0  \n",
       "15  14254.0           48.7     269.0  \n",
       "16  11918.0           51.5     275.0  \n",
       "17  11984.0           59.4     291.0  \n",
       "18  10743.0           70.4     299.5  \n",
       "19   9501.7           78.3     308.0  \n",
       "20   8260.4           84.8     322.0  "
      ]
     },
     "execution_count": 3,
     "metadata": {},
     "output_type": "execute_result"
    }
   ],
   "source": [
    "indicator = pd.read_csv(\"Preprocess Data\\问题1-1.csv\",encoding='gb18030')\n",
    "label_1 = indicator.iloc[:,1:3]\n",
    "label_2 = indicator.iloc[:,3:7]\n",
    "label_3 = indicator.iloc[:,7:]\n",
    "indicator"
   ]
  },
  {
   "cell_type": "markdown",
   "metadata": {},
   "source": [
    "# 熵权法"
   ]
  },
  {
   "cell_type": "code",
   "execution_count": 4,
   "metadata": {
    "ExecuteTime": {
     "end_time": "2021-11-09T07:51:54.465690Z",
     "start_time": "2021-11-09T07:51:54.441944Z"
    }
   },
   "outputs": [],
   "source": [
    "import numpy as np\n",
    "import pandas as pd\n",
    "import math\n",
    "from sklearn.preprocessing import MinMaxScaler\n",
    "\n",
    "#定义熵值法函数\n",
    "def cal_weight(x):\n",
    "    # 标准化\n",
    "    x = MinMaxScaler().fit_transform(x)\n",
    "    # 求k\n",
    "    rows,cols = x.shape\n",
    "    k = 1.0 / math.log(rows)\n",
    "    lnf = [[None] * cols for i in range(rows)]\n",
    "    x = np.array(x)\n",
    "    lnf = [[None] * cols for i in range(rows)]\n",
    "    lnf = np.array(lnf)\n",
    "    for i in range(0, rows):\n",
    "        for j in range(0, cols):\n",
    "            if x[i][j] == 0:\n",
    "                lnfij = 0.0\n",
    "            else:\n",
    "                p = x[i][j] / x.sum(axis=0)[j]\n",
    "                lnfij = math.log(p) * p * (-k)\n",
    "            lnf[i][j] = lnfij\n",
    "    lnf = pd.DataFrame(lnf)\n",
    "    E = lnf\n",
    " \n",
    "    # 计算冗余度\n",
    "    d = 1 - E.sum(axis=0)\n",
    "    # 计算各指标的权重\n",
    "    w = [[None] * 1 for i in range(cols)]\n",
    "    for j in range(0, cols):\n",
    "        wj = d[j] / sum(d)\n",
    "        w[j] = wj\n",
    "    # 计算各样本的综合得分,用最原始的数据\n",
    "    \n",
    "    w = pd.DataFrame(w)\n",
    "    return w"
   ]
  },
  {
   "cell_type": "code",
   "execution_count": 5,
   "metadata": {
    "ExecuteTime": {
     "end_time": "2021-11-09T07:52:00.260460Z",
     "start_time": "2021-11-09T07:51:59.846955Z"
    }
   },
   "outputs": [],
   "source": [
    "w_1 = cal_weight(label_1)  # 调用cal_weight\n",
    "w_2 = cal_weight(label_2) \n",
    "w_3 = cal_weight(label_3) \n",
    "w_1.index = label_1.columns\n",
    "w_2.index = label_2.columns\n",
    "w_3.index = label_3.columns\n",
    "w_1.columns = ['weight']\n",
    "w_2.columns = ['weight']\n",
    "w_3.columns = ['weight']"
   ]
  },
  {
   "cell_type": "code",
   "execution_count": 6,
   "metadata": {},
   "outputs": [
    {
     "data": {
      "text/html": [
       "<div>\n",
       "<style scoped>\n",
       "    .dataframe tbody tr th:only-of-type {\n",
       "        vertical-align: middle;\n",
       "    }\n",
       "\n",
       "    .dataframe tbody tr th {\n",
       "        vertical-align: top;\n",
       "    }\n",
       "\n",
       "    .dataframe thead th {\n",
       "        text-align: right;\n",
       "    }\n",
       "</style>\n",
       "<table border=\"1\" class=\"dataframe\">\n",
       "  <thead>\n",
       "    <tr style=\"text-align: right;\">\n",
       "      <th></th>\n",
       "      <th>weight</th>\n",
       "    </tr>\n",
       "  </thead>\n",
       "  <tbody>\n",
       "    <tr>\n",
       "      <th>旅游收入/亿</th>\n",
       "      <td>0.557485</td>\n",
       "    </tr>\n",
       "    <tr>\n",
       "      <th>旅游人次/万人</th>\n",
       "      <td>0.442515</td>\n",
       "    </tr>\n",
       "  </tbody>\n",
       "</table>\n",
       "</div>"
      ],
      "text/plain": [
       "           weight\n",
       "旅游收入/亿   0.557485\n",
       "旅游人次/万人  0.442515"
      ]
     },
     "execution_count": 6,
     "metadata": {},
     "output_type": "execute_result"
    }
   ],
   "source": [
    "w_1"
   ]
  },
  {
   "cell_type": "code",
   "execution_count": 7,
   "metadata": {},
   "outputs": [
    {
     "data": {
      "text/html": [
       "<div>\n",
       "<style scoped>\n",
       "    .dataframe tbody tr th:only-of-type {\n",
       "        vertical-align: middle;\n",
       "    }\n",
       "\n",
       "    .dataframe tbody tr th {\n",
       "        vertical-align: top;\n",
       "    }\n",
       "\n",
       "    .dataframe thead th {\n",
       "        text-align: right;\n",
       "    }\n",
       "</style>\n",
       "<table border=\"1\" class=\"dataframe\">\n",
       "  <thead>\n",
       "    <tr style=\"text-align: right;\">\n",
       "      <th></th>\n",
       "      <th>weight</th>\n",
       "    </tr>\n",
       "  </thead>\n",
       "  <tbody>\n",
       "    <tr>\n",
       "      <th>自然保护区面积(万公顷)</th>\n",
       "      <td>0.089704</td>\n",
       "    </tr>\n",
       "    <tr>\n",
       "      <th>森林病虫鼠害防治率(%)</th>\n",
       "      <td>0.165924</td>\n",
       "    </tr>\n",
       "    <tr>\n",
       "      <th>森林覆盖率(%)</th>\n",
       "      <td>0.620751</td>\n",
       "    </tr>\n",
       "    <tr>\n",
       "      <th>水土流失治理面积</th>\n",
       "      <td>0.123621</td>\n",
       "    </tr>\n",
       "  </tbody>\n",
       "</table>\n",
       "</div>"
      ],
      "text/plain": [
       "                weight\n",
       "自然保护区面积(万公顷)  0.089704\n",
       "森林病虫鼠害防治率(%)  0.165924\n",
       "森林覆盖率(%)      0.620751\n",
       "水土流失治理面积      0.123621"
      ]
     },
     "execution_count": 7,
     "metadata": {},
     "output_type": "execute_result"
    }
   ],
   "source": [
    "w_2"
   ]
  },
  {
   "cell_type": "code",
   "execution_count": 8,
   "metadata": {},
   "outputs": [
    {
     "data": {
      "text/html": [
       "<div>\n",
       "<style scoped>\n",
       "    .dataframe tbody tr th:only-of-type {\n",
       "        vertical-align: middle;\n",
       "    }\n",
       "\n",
       "    .dataframe tbody tr th {\n",
       "        vertical-align: top;\n",
       "    }\n",
       "\n",
       "    .dataframe thead th {\n",
       "        text-align: right;\n",
       "    }\n",
       "</style>\n",
       "<table border=\"1\" class=\"dataframe\">\n",
       "  <thead>\n",
       "    <tr style=\"text-align: right;\">\n",
       "      <th></th>\n",
       "      <th>weight</th>\n",
       "    </tr>\n",
       "  </thead>\n",
       "  <tbody>\n",
       "    <tr>\n",
       "      <th>降水量</th>\n",
       "      <td>0.128616</td>\n",
       "    </tr>\n",
       "    <tr>\n",
       "      <th>地表水供水总量(亿立方米)</th>\n",
       "      <td>0.686432</td>\n",
       "    </tr>\n",
       "    <tr>\n",
       "      <th>空气质量优良天数</th>\n",
       "      <td>0.184952</td>\n",
       "    </tr>\n",
       "  </tbody>\n",
       "</table>\n",
       "</div>"
      ],
      "text/plain": [
       "                 weight\n",
       "降水量            0.128616\n",
       "地表水供水总量(亿立方米)  0.686432\n",
       "空气质量优良天数       0.184952"
      ]
     },
     "execution_count": 8,
     "metadata": {},
     "output_type": "execute_result"
    }
   ],
   "source": [
    "w_3"
   ]
  },
  {
   "cell_type": "markdown",
   "metadata": {},
   "source": [
    "# 层次分析法"
   ]
  },
  {
   "cell_type": "code",
   "execution_count": 9,
   "metadata": {},
   "outputs": [],
   "source": [
    "import numpy as np\n",
    "class AHP:\n",
    "    #传入的np.ndarray是的判断矩阵\n",
    "    def __init__(self,array):\n",
    "        self.array = array\n",
    "        # 记录矩阵大小\n",
    "        self.n = array.shape[0]\n",
    "        # 初始化RI值,用于一致性检验 \n",
    "        RI_list = [0,0,0.58,0.90,1.12,1.24,1.32,1.41,1.45]\n",
    "        self.RI = RI_list[self.n-1]\n",
    "        \n",
    "    #获取最大特征值和对应的特征向量\n",
    "    def get_eig(self):\n",
    "        #numpy.linalg.eig() 计算矩阵特征值与特征向量\n",
    "        eig_val ,eig_vector = np.linalg.eig(self.array)\n",
    "        #获取最大特征值\n",
    "        max_val = np.max(eig_val)\n",
    "        max_val = round(max_val.real, 4)\n",
    "        #通过位置来确定最大特征值对应的特征向量\n",
    "        index = np.argmax(eig_val)\n",
    "        max_vector = eig_vector[:,index]\n",
    "        max_vector = max_vector.real.round(4) \n",
    "        #添加最大特征值属性\n",
    "        self.max_val = max_val\n",
    "        #计算权重向量W\n",
    "        weight_vector = max_vector/sum(max_vector)\n",
    "        weight_vector = weight_vector.round(4)\n",
    "        #打印结果\n",
    "        print(\"最大的特征值: \"+str(max_val))\n",
    "        print(\"对应的特征向量为: \"+str(max_vector))\n",
    "        print(\"归一化后得到权重向量: \"+str(weight_vector))\n",
    "        return weight_vector\n",
    "    \n",
    "    #测试一致性\n",
    "    def test_consitst(self):\n",
    "        #计算CI值\n",
    "        CI = (self.max_val-self.n)/(self.n-1) \n",
    "        CI = round(CI,4) \n",
    "        #打印结果\n",
    "        print(\"判断矩阵的CI值为\" +str(CI))\n",
    "        print(\"判断矩阵的RI值为\" +str(self.RI))\n",
    "        #分类讨论\n",
    "        if self.n == 2:\n",
    "            print(\"仅包含两个子因素，不存在一致性问题\")\n",
    "        else:\n",
    "            #计算CR值\n",
    "            CR = CI/self.RI \n",
    "            CR = round(CR,4)\n",
    "            #CR < 0.10才能通过检验\n",
    "            if  CR < 0.10 :\n",
    "                print(\"判断矩阵的CR值为\" +str(CR) + \"，通过一致性检验\")\n",
    "                return True\n",
    "            else:\n",
    "                print(\"判断矩阵的CR值为\" +str(CR) + \"，未通过一致性检验\")\n",
    "                return False"
   ]
  },
  {
   "cell_type": "markdown",
   "metadata": {},
   "source": [
    "1. 指标1：$\\begin{bmatrix} 1 & \\frac{1}{3} \\\\ 3 & 1 \\end{bmatrix}$\n",
    "2. 指标2：$\\begin{bmatrix} 1  &  3  & \\frac{1}{3} & \\frac{1}{5}\\\\ \\frac{1}{3}  & 1 & \\frac{1}{5}  &  \\frac{1}{7} \\\\ 3 & 5 &  1& \\frac{1}{3}\\\\ 5 & 7 &  3 &1 \\end{bmatrix}$\n",
    "3. 指标3：$\\begin{bmatrix} 1 & 3 & 1\\\\ \\frac{1}{3}  & 1 & \\frac{1}{3}\\\\ 1 &  3 & 1 \\end{bmatrix} $"
   ]
  },
  {
   "cell_type": "code",
   "execution_count": 10,
   "metadata": {},
   "outputs": [],
   "source": [
    "# 构造成对比较矩阵\n",
    "A = np.array([[1, 1/3],\n",
    "              [3, 1]])\n",
    "B = np.array([[1, 3, 1/3, 1/5],\n",
    "              [1/3, 1, 1/5, 1/7],\n",
    "              [3, 5, 1, 1/3],\n",
    "              [5, 7, 3, 1]])\n",
    "C = np.array([[1, 3, 1],\n",
    "              [1/3, 1, 1/3],\n",
    "              [1, 3, 1]])"
   ]
  },
  {
   "cell_type": "code",
   "execution_count": 11,
   "metadata": {},
   "outputs": [
    {
     "name": "stdout",
     "output_type": "stream",
     "text": [
      "最大的特征值: 2.0\n",
      "对应的特征向量为: [0.3162 0.9487]\n",
      "归一化后得到权重向量: [0.25 0.75]\n",
      "判断矩阵的CI值为0.0\n",
      "判断矩阵的RI值为0\n",
      "仅包含两个子因素，不存在一致性问题\n"
     ]
    }
   ],
   "source": [
    "model = AHP(A)\n",
    "model.get_eig()\n",
    "model.test_consitst()"
   ]
  },
  {
   "cell_type": "code",
   "execution_count": 12,
   "metadata": {},
   "outputs": [
    {
     "name": "stdout",
     "output_type": "stream",
     "text": [
      "最大的特征值: 4.117\n",
      "对应的特征向量为: [0.1847 0.0869 0.4121 0.888 ]\n",
      "归一化后得到权重向量: [0.1175 0.0553 0.2622 0.565 ]\n",
      "判断矩阵的CI值为0.039\n",
      "判断矩阵的RI值为0.9\n",
      "判断矩阵的CR值为0.0433，通过一致性检验\n"
     ]
    },
    {
     "data": {
      "text/plain": [
       "True"
      ]
     },
     "execution_count": 12,
     "metadata": {},
     "output_type": "execute_result"
    }
   ],
   "source": [
    "model= AHP(B)\n",
    "model.get_eig()\n",
    "model.test_consitst()"
   ]
  },
  {
   "cell_type": "code",
   "execution_count": 13,
   "metadata": {},
   "outputs": [
    {
     "name": "stdout",
     "output_type": "stream",
     "text": [
      "最大的特征值: 3.0\n",
      "对应的特征向量为: [0.6882 0.2294 0.6882]\n",
      "归一化后得到权重向量: [0.4286 0.1429 0.4286]\n",
      "判断矩阵的CI值为0.0\n",
      "判断矩阵的RI值为0.58\n",
      "判断矩阵的CR值为0.0，通过一致性检验\n"
     ]
    },
    {
     "data": {
      "text/plain": [
       "True"
      ]
     },
     "execution_count": 13,
     "metadata": {},
     "output_type": "execute_result"
    }
   ],
   "source": [
    "model_1 = AHP(C)\n",
    "model_1.get_eig()\n",
    "model_1.test_consitst()"
   ]
  },
  {
   "cell_type": "markdown",
   "metadata": {},
   "source": [
    "# 主客观权重组合"
   ]
  },
  {
   "cell_type": "code",
   "execution_count": 14,
   "metadata": {},
   "outputs": [],
   "source": [
    "# 客观-熵权法\n",
    "w1 = [0.557485,0.442515]\n",
    "w2 = [0.089704,0.165924,0.620751,0.123621]\n",
    "w3 = [0.128616,0.686432,0.184952]\n",
    "# 主观-层次分析法\n",
    "W1 = [0.25, 0.75]\n",
    "W2 = [0.1175, 0.0553, 0.2622, 0.565]\n",
    "W3 = [0.4286, 0.1429, 0.4286]"
   ]
  },
  {
   "cell_type": "markdown",
   "metadata": {},
   "source": [
    "- 组合权重（乘法组合）\n",
    "$ W_{j}=\\frac{\\sqrt{\\alpha_{j} \\beta_{j}}}{\\sum_{j=1}^{n} \\sqrt{\\alpha_{j} \\beta_{j}}}$"
   ]
  },
  {
   "cell_type": "code",
   "execution_count": 15,
   "metadata": {},
   "outputs": [],
   "source": [
    "def combine_weight(a,b):\n",
    "    a, b = np.array(a),np.array(b)\n",
    "    return np.sqrt(a*b)/np.sqrt(a*b).sum()"
   ]
  },
  {
   "cell_type": "code",
   "execution_count": 16,
   "metadata": {},
   "outputs": [
    {
     "name": "stdout",
     "output_type": "stream",
     "text": [
      "[0.3932132 0.6067868]\n",
      "[0.11852752 0.1105889  0.46576776 0.30511581]\n",
      "[0.28303525 0.37755638 0.33940837]\n"
     ]
    }
   ],
   "source": [
    "CW1 = combine_weight(w1,W1)\n",
    "CW2 = combine_weight(w2,W2)\n",
    "CW3 = combine_weight(w3,W3)\n",
    "print(CW1)\n",
    "print(CW2)\n",
    "print(CW3)"
   ]
  },
  {
   "cell_type": "markdown",
   "metadata": {},
   "source": [
    "# 计算三个一级权重"
   ]
  },
  {
   "cell_type": "code",
   "execution_count": 86,
   "metadata": {},
   "outputs": [],
   "source": [
    "indicator = pd.read_csv(\"Preprocess Data\\问题1-1.csv\",encoding='gb18030').iloc[:,1:]\n",
    "indicator = MinMaxScaler().fit_transform(indicator)\n",
    "label_1 = indicator[:,:2]\n",
    "label_2 = indicator[:,2:6]\n",
    "label_3 = indicator[:,6:]"
   ]
  },
  {
   "cell_type": "code",
   "execution_count": 87,
   "metadata": {},
   "outputs": [],
   "source": [
    "label_1 = (label_1*CW1).sum(axis=1).reshape(-1,1)\n",
    "label_2 = (label_2*CW2).sum(axis=1).reshape(-1,1)\n",
    "label_3 = (label_3*CW3).sum(axis=1).reshape(-1,1)\n",
    "label_data = np.hstack((label_1,label_2,label_3))"
   ]
  },
  {
   "cell_type": "code",
   "execution_count": 88,
   "metadata": {},
   "outputs": [
    {
     "data": {
      "text/plain": [
       "array([0.59884733, 0.19949965, 0.20165301])"
      ]
     },
     "execution_count": 88,
     "metadata": {},
     "output_type": "execute_result"
    }
   ],
   "source": [
    "# 变异系数\n",
    "def CV(x):\n",
    "    return np.std(x,axis=0)/np.mean(x,axis=0)\n",
    "\n",
    "label_cv = CV(label_data)\n",
    "FCI = label_cv/np.sum(label_cv)\n",
    "FCI"
   ]
  },
  {
   "cell_type": "code",
   "execution_count": 89,
   "metadata": {},
   "outputs": [
    {
     "data": {
      "text/plain": [
       "array([ 5.66126907,  6.268125  , 10.1750592 , 13.39249991, 14.40608662,\n",
       "       16.86391829, 17.6579283 , 21.09084881, 22.51609966, 27.24276549,\n",
       "       28.97558315, 32.1099828 , 33.49766214, 27.25555621, 39.22634479,\n",
       "       45.73507535, 56.17830167, 68.44547955, 80.19527562, 91.61705326,\n",
       "       50.62799875])"
      ]
     },
     "execution_count": 89,
     "metadata": {},
     "output_type": "execute_result"
    }
   ],
   "source": [
    "FCI_data = (FCI*label_data).sum(axis=1)*100\n",
    "FCI_data"
   ]
  },
  {
   "cell_type": "code",
   "execution_count": 84,
   "metadata": {},
   "outputs": [],
   "source": [
    "import matplotlib.pyplot as plt"
   ]
  },
  {
   "cell_type": "code",
   "execution_count": 85,
   "metadata": {},
   "outputs": [
    {
     "data": {
      "text/plain": [
       "[<matplotlib.lines.Line2D at 0x204b4ea4250>]"
      ]
     },
     "execution_count": 85,
     "metadata": {},
     "output_type": "execute_result"
    },
    {
     "data": {
      "image/png": "[encoded data removed]",
      "text/plain": [
       "<Figure size 432x288 with 1 Axes>"
      ]
     },
     "metadata": {
      "needs_background": "light"
     },
     "output_type": "display_data"
    }
   ],
   "source": [
    "plt.plot(FCI_data)"
   ]
  },
  {
   "cell_type": "code",
   "execution_count": null,
   "metadata": {},
   "outputs": [],
   "source": []
  }
 ],
 "metadata": {
  "kernelspec": {
   "display_name": "Python 3",
   "language": "python",
   "name": "python3"
  },
  "language_info": {
   "codemirror_mode": {
    "name": "ipython",
    "version": 3
   },
   "file_extension": ".py",
   "mimetype": "text/x-python",
   "name": "python",
   "nbconvert_exporter": "python",
   "pygments_lexer": "ipython3",
   "version": "3.8.12"
  },
  "nbTranslate": {
   "displayLangs": [
    "*"
   ],
   "hotkey": "alt-t",
   "langInMainMenu": true,
   "sourceLang": "en",
   "targetLang": "fr",
   "useGoogleTranslate": true
  },
  "toc": {
   "base_numbering": 1,
   "nav_menu": {},
   "number_sections": true,
   "sideBar": true,
   "skip_h1_title": false,
   "title_cell": "Table of Contents",
   "title_sidebar": "Contents",
   "toc_cell": false,
   "toc_position": {},
   "toc_section_display": true,
   "toc_window_display": false
  }
 },
 "nbformat": 4,
 "nbformat_minor": 4
}
