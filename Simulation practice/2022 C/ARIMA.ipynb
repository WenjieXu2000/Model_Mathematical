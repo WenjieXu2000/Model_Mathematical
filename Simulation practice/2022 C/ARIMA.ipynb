{
 "cells": [
  {
   "cell_type": "code",
   "execution_count": 2,
   "metadata": {},
   "outputs": [],
   "source": [
    "import numpy as np\n",
    "import pandas as pd\n",
    "\n",
    "import matplotlib.pyplot as plt\n",
    "%matplotlib inline\n",
    "\n",
    "import numpy as np\n",
    "import pandas as pd\n",
    "import matplotlib.pyplot as plt\n",
    "import talib\n",
    "import warnings\n",
    "warnings.filterwarnings(\"ignore\")"
   ]
  },
  {
   "cell_type": "code",
   "execution_count": 3,
   "metadata": {},
   "outputs": [],
   "source": [
    "Bitcoin = pd.read_csv('Data\\BCHAIN-MKPRU.csv')"
   ]
  },
  {
   "cell_type": "code",
   "execution_count": 16,
   "metadata": {},
   "outputs": [
    {
     "data": {
      "text/plain": [
       "0     621.65\n",
       "1     609.67\n",
       "2     610.92\n",
       "3     608.82\n",
       "4     610.38\n",
       "5     609.11\n",
       "6     607.04\n",
       "7     611.58\n",
       "8     610.19\n",
       "9     608.66\n",
       "10    598.88\n",
       "11    597.42\n",
       "12    594.08\n",
       "13    603.88\n",
       "14    601.74\n",
       "15    598.98\n",
       "16    605.96\n",
       "17    605.67\n",
       "18    603.85\n",
       "19    609.39\n",
       "20    614.82\n",
       "21    612.98\n",
       "22    611.85\n",
       "23    609.62\n",
       "24    607.18\n",
       "25    612.08\n",
       "26    617.21\n",
       "27    614.74\n",
       "28    615.65\n",
       "29    617.54\n",
       "Name: Value, dtype: float64"
      ]
     },
     "execution_count": 16,
     "metadata": {},
     "output_type": "execute_result"
    }
   ],
   "source": [
    "df = Bitcoin['Value'][:30]\n",
    "df"
   ]
  },
  {
   "cell_type": "code",
   "execution_count": 10,
   "metadata": {},
   "outputs": [
    {
     "data": {
      "text/plain": [
       "<AxesSubplot:>"
      ]
     },
     "execution_count": 10,
     "metadata": {},
     "output_type": "execute_result"
    },
    {
     "data": {
      "image/png": "[encoded data removed]",
      "text/plain": [
       "<Figure size 432x288 with 1 Axes>"
      ]
     },
     "metadata": {
      "needs_background": "light"
     },
     "output_type": "display_data"
    }
   ],
   "source": [
    "df.plot()"
   ]
  },
  {
   "cell_type": "code",
   "execution_count": 11,
   "metadata": {},
   "outputs": [],
   "source": [
    "### Testing For Stationarity\n",
    "\n",
    "from statsmodels.tsa.stattools import adfuller"
   ]
  },
  {
   "cell_type": "code",
   "execution_count": 12,
   "metadata": {},
   "outputs": [],
   "source": [
    "#Ho: It is non stationary\n",
    "#H1: It is stationary\n",
    "\n",
    "def adfuller_test(sales):\n",
    "    result=adfuller(sales)\n",
    "    labels = ['ADF Test Statistic','p-value','#Lags Used','Number of Observations Used']\n",
    "    for value,label in zip(result,labels):\n",
    "        print(label+' : '+str(value) )\n",
    "    if result[1] <= 0.05:\n",
    "        print(\"strong evidence against the null hypothesis(Ho), reject the null hypothesis. Data has no unit root and is stationary\")\n",
    "    else:\n",
    "        print(\"weak evidence against null hypothesis, time series has a unit root, indicating it is non-stationary \")"
   ]
  },
  {
   "cell_type": "code",
   "execution_count": 13,
   "metadata": {},
   "outputs": [
    {
     "name": "stdout",
     "output_type": "stream",
     "text": [
      "ADF Test Statistic : -2.468597297658329\n",
      "p-value : 0.12330307151950065\n",
      "#Lags Used : 0\n",
      "Number of Observations Used : 29\n",
      "weak evidence against null hypothesis, time series has a unit root, indicating it is non-stationary \n"
     ]
    }
   ],
   "source": [
    "adfuller_test(df)"
   ]
  },
  {
   "cell_type": "code",
   "execution_count": 14,
   "metadata": {},
   "outputs": [],
   "source": [
    "df['Sales First Difference'] = df - df.shift(1)"
   ]
  },
  {
   "cell_type": "code",
   "execution_count": 15,
   "metadata": {},
   "outputs": [
    {
     "data": {
      "text/plain": [
       "0                            NaN\n",
       "1                         621.65\n",
       "2                         609.67\n",
       "3                         610.92\n",
       "4                         608.82\n",
       "5                         610.38\n",
       "6                         609.11\n",
       "7                         607.04\n",
       "8                         611.58\n",
       "9                         610.19\n",
       "10                        608.66\n",
       "11                        598.88\n",
       "12                        597.42\n",
       "13                        594.08\n",
       "14                        603.88\n",
       "15                        601.74\n",
       "16                        598.98\n",
       "17                        605.96\n",
       "18                        605.67\n",
       "19                        603.85\n",
       "20                        609.39\n",
       "21                        614.82\n",
       "22                        612.98\n",
       "23                        611.85\n",
       "24                        609.62\n",
       "25                        607.18\n",
       "26                        612.08\n",
       "27                        617.21\n",
       "28                        614.74\n",
       "29                        615.65\n",
       "Sales First Difference    617.54\n",
       "Name: Value, dtype: object"
      ]
     },
     "execution_count": 15,
     "metadata": {},
     "output_type": "execute_result"
    }
   ],
   "source": [
    "df.shift(1)"
   ]
  },
  {
   "cell_type": "code",
   "execution_count": null,
   "metadata": {},
   "outputs": [],
   "source": [
    "adfuller_test(df)"
   ]
  }
 ],
 "metadata": {
  "interpreter": {
   "hash": "b3ba2566441a7c06988d0923437866b63cedc61552a5af99d1f4fb67d367b25f"
  },
  "kernelspec": {
   "display_name": "Python 3.8.3 ('base')",
   "language": "python",
   "name": "python3"
  },
  "language_info": {
   "codemirror_mode": {
    "name": "ipython",
    "version": 3
   },
   "file_extension": ".py",
   "mimetype": "text/x-python",
   "name": "python",
   "nbconvert_exporter": "python",
   "pygments_lexer": "ipython3",
   "version": "3.8.3"
  },
  "orig_nbformat": 4
 },
 "nbformat": 4,
 "nbformat_minor": 2
}
